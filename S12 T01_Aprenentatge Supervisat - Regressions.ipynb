{
 "cells": [
  {
   "cell_type": "markdown",
   "metadata": {},
   "source": [
    "\n",
    "<div class=\"alert alert-block alert-info\"><font size=\"5\"><center><b><u> S12 T01: Aprenentatge Supervisat - Regressions\n",
    "   </u></b></center></font>\n",
    "\\begin{align*}Marc\\:Breysse\\end{align*}</div>"
   ]
  },
  {
   "cell_type": "markdown",
   "metadata": {},
   "source": [
    "<span style=color:blue>*Anem a practicar i a familiaritzar-nos amb regressions.*</span>"
   ]
  },
  {
   "cell_type": "markdown",
   "metadata": {},
   "source": [
    "# <span style=color:darkblue>Nivell 1</span>"
   ]
  },
  {
   "cell_type": "markdown",
   "metadata": {},
   "source": [
    "<u style=color:blue>Exercici 1:</u>\n",
    "\n",
    "<span style=color:blue>Crea almenys tres models de regressió diferents per intentar predir el millor possible l’endarreriment dels vols (ArrDelay) de DelayedFlights.csv</span>"
   ]
  },
  {
   "cell_type": "code",
   "execution_count": 1,
   "metadata": {
    "ExecuteTime": {
     "end_time": "2021-06-04T16:39:50.941858Z",
     "start_time": "2021-06-04T16:39:31.513152Z"
    }
   },
   "outputs": [],
   "source": [
    "import os\n",
    "import pandas as pd\n",
    "import numpy as np\n",
    "import datetime \n",
    "import scipy.stats as stats\n",
    "import statsmodels.api as sm\n",
    "import statsmodels.formula.api as smf\n",
    "import researchpy as rp\n",
    "import statsmodels.api as sm\n",
    "import seaborn as sns\n",
    "from sklearn.linear_model import LinearRegression\n",
    "from sklearn import metrics\n",
    "\n",
    "from sklearn.model_selection import train_test_split\n",
    "\n",
    "from statsmodels.formula.api import ols\n",
    "    \n",
    "import matplotlib.pyplot as plt\n",
    "\n",
    "import warnings\n",
    "warnings.filterwarnings('ignore')\n",
    "\n",
    "from sklearn.preprocessing import PolynomialFeatures"
   ]
  },
  {
   "cell_type": "code",
   "execution_count": 2,
   "metadata": {
    "ExecuteTime": {
     "end_time": "2021-06-04T16:39:56.008124Z",
     "start_time": "2021-06-04T16:39:50.941858Z"
    }
   },
   "outputs": [
    {
     "data": {
      "text/plain": [
       "(1928371, 14)"
      ]
     },
     "execution_count": 2,
     "metadata": {},
     "output_type": "execute_result"
    }
   ],
   "source": [
    "# Dataset saved in Sprint11\n",
    "DF = pd.read_csv('DelayedFlightsCleaned.csv')\n",
    "DF.shape"
   ]
  },
  {
   "cell_type": "code",
   "execution_count": 3,
   "metadata": {
    "ExecuteTime": {
     "end_time": "2021-06-04T16:39:57.197533Z",
     "start_time": "2021-06-04T16:39:56.907635Z"
    }
   },
   "outputs": [
    {
     "data": {
      "text/plain": [
       "(10000, 14)"
      ]
     },
     "execution_count": 3,
     "metadata": {},
     "output_type": "execute_result"
    }
   ],
   "source": [
    "# to reduce cumputation time, we will reduce dataset to 10.000 samples\n",
    "DF = DF.sample(n=10000, random_state=1)\n",
    "DF.shape"
   ]
  },
  {
   "cell_type": "code",
   "execution_count": 4,
   "metadata": {
    "ExecuteTime": {
     "end_time": "2021-06-04T16:39:58.217577Z",
     "start_time": "2021-06-04T16:39:58.155614Z"
    }
   },
   "outputs": [
    {
     "data": {
      "text/html": [
       "<div>\n",
       "<style scoped>\n",
       "    .dataframe tbody tr th:only-of-type {\n",
       "        vertical-align: middle;\n",
       "    }\n",
       "\n",
       "    .dataframe tbody tr th {\n",
       "        vertical-align: top;\n",
       "    }\n",
       "\n",
       "    .dataframe thead th {\n",
       "        text-align: right;\n",
       "    }\n",
       "</style>\n",
       "<table border=\"1\" class=\"dataframe\">\n",
       "  <thead>\n",
       "    <tr style=\"text-align: right;\">\n",
       "      <th></th>\n",
       "      <th>Unnamed: 0</th>\n",
       "      <th>DayOfWeek</th>\n",
       "      <th>CRSDepTime</th>\n",
       "      <th>CRSArrTime</th>\n",
       "      <th>ActualElapsedTime</th>\n",
       "      <th>CRSElapsedTime</th>\n",
       "      <th>ArrDelay</th>\n",
       "      <th>DepDelay</th>\n",
       "      <th>TaxiIn</th>\n",
       "      <th>TaxiOut</th>\n",
       "      <th>UniqueCarrier</th>\n",
       "      <th>Origin</th>\n",
       "      <th>Dest</th>\n",
       "      <th>Date</th>\n",
       "    </tr>\n",
       "  </thead>\n",
       "  <tbody>\n",
       "    <tr>\n",
       "      <th>942808</th>\n",
       "      <td>946177</td>\n",
       "      <td>6</td>\n",
       "      <td>642</td>\n",
       "      <td>734</td>\n",
       "      <td>96.0</td>\n",
       "      <td>92.0</td>\n",
       "      <td>43.0</td>\n",
       "      <td>39.0</td>\n",
       "      <td>6.0</td>\n",
       "      <td>17.0</td>\n",
       "      <td>OO</td>\n",
       "      <td>TUS</td>\n",
       "      <td>LAX</td>\n",
       "      <td>2008-06-07</td>\n",
       "    </tr>\n",
       "    <tr>\n",
       "      <th>1484347</th>\n",
       "      <td>1490024</td>\n",
       "      <td>1</td>\n",
       "      <td>1115</td>\n",
       "      <td>1185</td>\n",
       "      <td>62.0</td>\n",
       "      <td>70.0</td>\n",
       "      <td>1.0</td>\n",
       "      <td>9.0</td>\n",
       "      <td>6.0</td>\n",
       "      <td>6.0</td>\n",
       "      <td>MQ</td>\n",
       "      <td>MAF</td>\n",
       "      <td>DFW</td>\n",
       "      <td>2008-09-22</td>\n",
       "    </tr>\n",
       "    <tr>\n",
       "      <th>1566787</th>\n",
       "      <td>1572676</td>\n",
       "      <td>6</td>\n",
       "      <td>975</td>\n",
       "      <td>1037</td>\n",
       "      <td>112.0</td>\n",
       "      <td>122.0</td>\n",
       "      <td>-1.0</td>\n",
       "      <td>9.0</td>\n",
       "      <td>7.0</td>\n",
       "      <td>14.0</td>\n",
       "      <td>US</td>\n",
       "      <td>CLT</td>\n",
       "      <td>ORD</td>\n",
       "      <td>2008-10-18</td>\n",
       "    </tr>\n",
       "    <tr>\n",
       "      <th>1256237</th>\n",
       "      <td>1261096</td>\n",
       "      <td>2</td>\n",
       "      <td>1040</td>\n",
       "      <td>1160</td>\n",
       "      <td>149.0</td>\n",
       "      <td>120.0</td>\n",
       "      <td>57.0</td>\n",
       "      <td>28.0</td>\n",
       "      <td>5.0</td>\n",
       "      <td>59.0</td>\n",
       "      <td>DL</td>\n",
       "      <td>ATL</td>\n",
       "      <td>DCA</td>\n",
       "      <td>2008-07-08</td>\n",
       "    </tr>\n",
       "    <tr>\n",
       "      <th>651063</th>\n",
       "      <td>653536</td>\n",
       "      <td>5</td>\n",
       "      <td>1000</td>\n",
       "      <td>1037</td>\n",
       "      <td>92.0</td>\n",
       "      <td>97.0</td>\n",
       "      <td>8.0</td>\n",
       "      <td>13.0</td>\n",
       "      <td>7.0</td>\n",
       "      <td>8.0</td>\n",
       "      <td>EV</td>\n",
       "      <td>CVG</td>\n",
       "      <td>MEM</td>\n",
       "      <td>2008-04-04</td>\n",
       "    </tr>\n",
       "  </tbody>\n",
       "</table>\n",
       "</div>"
      ],
      "text/plain": [
       "         Unnamed: 0  DayOfWeek  CRSDepTime  CRSArrTime  ActualElapsedTime  \\\n",
       "942808       946177          6         642         734               96.0   \n",
       "1484347     1490024          1        1115        1185               62.0   \n",
       "1566787     1572676          6         975        1037              112.0   \n",
       "1256237     1261096          2        1040        1160              149.0   \n",
       "651063       653536          5        1000        1037               92.0   \n",
       "\n",
       "         CRSElapsedTime  ArrDelay  DepDelay  TaxiIn  TaxiOut UniqueCarrier  \\\n",
       "942808             92.0      43.0      39.0     6.0     17.0            OO   \n",
       "1484347            70.0       1.0       9.0     6.0      6.0            MQ   \n",
       "1566787           122.0      -1.0       9.0     7.0     14.0            US   \n",
       "1256237           120.0      57.0      28.0     5.0     59.0            DL   \n",
       "651063             97.0       8.0      13.0     7.0      8.0            EV   \n",
       "\n",
       "        Origin Dest        Date  \n",
       "942808     TUS  LAX  2008-06-07  \n",
       "1484347    MAF  DFW  2008-09-22  \n",
       "1566787    CLT  ORD  2008-10-18  \n",
       "1256237    ATL  DCA  2008-07-08  \n",
       "651063     CVG  MEM  2008-04-04  "
      ]
     },
     "execution_count": 4,
     "metadata": {},
     "output_type": "execute_result"
    }
   ],
   "source": [
    "DF.head()"
   ]
  },
  {
   "cell_type": "code",
   "execution_count": 5,
   "metadata": {
    "ExecuteTime": {
     "end_time": "2021-06-04T16:39:59.013477Z",
     "start_time": "2021-06-04T16:39:58.960508Z"
    },
    "scrolled": false
   },
   "outputs": [
    {
     "data": {
      "text/plain": [
       "Unnamed: 0           10000\n",
       "DayOfWeek                7\n",
       "CRSDepTime             917\n",
       "CRSArrTime            1130\n",
       "ActualElapsedTime      401\n",
       "CRSElapsedTime         374\n",
       "ArrDelay               367\n",
       "DepDelay               321\n",
       "TaxiIn                  58\n",
       "TaxiOut                133\n",
       "UniqueCarrier           20\n",
       "Origin                 250\n",
       "Dest                   260\n",
       "Date                   366\n",
       "dtype: int64"
      ]
     },
     "execution_count": 5,
     "metadata": {},
     "output_type": "execute_result"
    }
   ],
   "source": [
    "DF.nunique()"
   ]
  },
  {
   "cell_type": "code",
   "execution_count": 6,
   "metadata": {
    "ExecuteTime": {
     "end_time": "2021-06-04T16:39:59.865722Z",
     "start_time": "2021-06-04T16:39:59.851732Z"
    }
   },
   "outputs": [],
   "source": [
    "# We will start to predict Arrival Delay based basically on 'CRS Departure Time', 'CRS Arrival Time' and 'Departure Delay'.\n",
    "# Also, to reduce scope of this study, we will not consider airports and date.\n",
    "DF.drop(['Date','Origin','Dest','Unnamed: 0','CRSElapsedTime','ActualElapsedTime'], axis='columns', inplace=True)"
   ]
  },
  {
   "cell_type": "code",
   "execution_count": 7,
   "metadata": {
    "ExecuteTime": {
     "end_time": "2021-06-04T16:40:01.581643Z",
     "start_time": "2021-06-04T16:40:01.562654Z"
    },
    "scrolled": false
   },
   "outputs": [
    {
     "data": {
      "text/plain": [
       "Index(['DayOfWeek', 'CRSDepTime', 'CRSArrTime', 'ArrDelay', 'DepDelay',\n",
       "       'TaxiIn', 'TaxiOut', 'UniqueCarrier'],\n",
       "      dtype='object')"
      ]
     },
     "execution_count": 7,
     "metadata": {},
     "output_type": "execute_result"
    }
   ],
   "source": [
    "DF.columns"
   ]
  },
  {
   "cell_type": "markdown",
   "metadata": {
    "ExecuteTime": {
     "end_time": "2021-05-17T10:07:22.466149Z",
     "start_time": "2021-05-17T10:07:22.452140Z"
    }
   },
   "source": [
    "<span style=color:green>Data correlation</span>"
   ]
  },
  {
   "cell_type": "code",
   "execution_count": 8,
   "metadata": {
    "ExecuteTime": {
     "end_time": "2021-06-04T16:40:04.246678Z",
     "start_time": "2021-06-04T16:40:04.208700Z"
    },
    "scrolled": false
   },
   "outputs": [
    {
     "data": {
      "text/html": [
       "<div>\n",
       "<style scoped>\n",
       "    .dataframe tbody tr th:only-of-type {\n",
       "        vertical-align: middle;\n",
       "    }\n",
       "\n",
       "    .dataframe tbody tr th {\n",
       "        vertical-align: top;\n",
       "    }\n",
       "\n",
       "    .dataframe thead th {\n",
       "        text-align: right;\n",
       "    }\n",
       "</style>\n",
       "<table border=\"1\" class=\"dataframe\">\n",
       "  <thead>\n",
       "    <tr style=\"text-align: right;\">\n",
       "      <th></th>\n",
       "      <th>DayOfWeek</th>\n",
       "      <th>CRSDepTime</th>\n",
       "      <th>CRSArrTime</th>\n",
       "      <th>ArrDelay</th>\n",
       "      <th>DepDelay</th>\n",
       "      <th>TaxiIn</th>\n",
       "      <th>TaxiOut</th>\n",
       "    </tr>\n",
       "  </thead>\n",
       "  <tbody>\n",
       "    <tr>\n",
       "      <th>DayOfWeek</th>\n",
       "      <td>1.000</td>\n",
       "      <td>0.018</td>\n",
       "      <td>0.008</td>\n",
       "      <td>0.004</td>\n",
       "      <td>0.008</td>\n",
       "      <td>-0.022</td>\n",
       "      <td>-0.001</td>\n",
       "    </tr>\n",
       "    <tr>\n",
       "      <th>CRSDepTime</th>\n",
       "      <td>0.018</td>\n",
       "      <td>1.000</td>\n",
       "      <td>0.674</td>\n",
       "      <td>0.026</td>\n",
       "      <td>0.041</td>\n",
       "      <td>-0.053</td>\n",
       "      <td>0.021</td>\n",
       "    </tr>\n",
       "    <tr>\n",
       "      <th>CRSArrTime</th>\n",
       "      <td>0.008</td>\n",
       "      <td>0.674</td>\n",
       "      <td>1.000</td>\n",
       "      <td>0.028</td>\n",
       "      <td>0.035</td>\n",
       "      <td>-0.007</td>\n",
       "      <td>0.050</td>\n",
       "    </tr>\n",
       "    <tr>\n",
       "      <th>ArrDelay</th>\n",
       "      <td>0.004</td>\n",
       "      <td>0.026</td>\n",
       "      <td>0.028</td>\n",
       "      <td>1.000</td>\n",
       "      <td>0.954</td>\n",
       "      <td>0.164</td>\n",
       "      <td>0.313</td>\n",
       "    </tr>\n",
       "    <tr>\n",
       "      <th>DepDelay</th>\n",
       "      <td>0.008</td>\n",
       "      <td>0.041</td>\n",
       "      <td>0.035</td>\n",
       "      <td>0.954</td>\n",
       "      <td>1.000</td>\n",
       "      <td>0.087</td>\n",
       "      <td>0.106</td>\n",
       "    </tr>\n",
       "    <tr>\n",
       "      <th>TaxiIn</th>\n",
       "      <td>-0.022</td>\n",
       "      <td>-0.053</td>\n",
       "      <td>-0.007</td>\n",
       "      <td>0.164</td>\n",
       "      <td>0.087</td>\n",
       "      <td>1.000</td>\n",
       "      <td>0.059</td>\n",
       "    </tr>\n",
       "    <tr>\n",
       "      <th>TaxiOut</th>\n",
       "      <td>-0.001</td>\n",
       "      <td>0.021</td>\n",
       "      <td>0.050</td>\n",
       "      <td>0.313</td>\n",
       "      <td>0.106</td>\n",
       "      <td>0.059</td>\n",
       "      <td>1.000</td>\n",
       "    </tr>\n",
       "  </tbody>\n",
       "</table>\n",
       "</div>"
      ],
      "text/plain": [
       "            DayOfWeek  CRSDepTime  CRSArrTime  ArrDelay  DepDelay  TaxiIn  \\\n",
       "DayOfWeek       1.000       0.018       0.008     0.004     0.008  -0.022   \n",
       "CRSDepTime      0.018       1.000       0.674     0.026     0.041  -0.053   \n",
       "CRSArrTime      0.008       0.674       1.000     0.028     0.035  -0.007   \n",
       "ArrDelay        0.004       0.026       0.028     1.000     0.954   0.164   \n",
       "DepDelay        0.008       0.041       0.035     0.954     1.000   0.087   \n",
       "TaxiIn         -0.022      -0.053      -0.007     0.164     0.087   1.000   \n",
       "TaxiOut        -0.001       0.021       0.050     0.313     0.106   0.059   \n",
       "\n",
       "            TaxiOut  \n",
       "DayOfWeek    -0.001  \n",
       "CRSDepTime    0.021  \n",
       "CRSArrTime    0.050  \n",
       "ArrDelay      0.313  \n",
       "DepDelay      0.106  \n",
       "TaxiIn        0.059  \n",
       "TaxiOut       1.000  "
      ]
     },
     "execution_count": 8,
     "metadata": {},
     "output_type": "execute_result"
    }
   ],
   "source": [
    "DF.corr().round(3)"
   ]
  },
  {
   "cell_type": "markdown",
   "metadata": {
    "ExecuteTime": {
     "end_time": "2021-05-06T09:09:25.790158Z",
     "start_time": "2021-05-06T09:09:25.769153Z"
    }
   },
   "source": [
    "<span style=color:green>*'ArrDelay' is obviously correlated with 'DepDelay' & to some extent to other numerical variables like 'TaxiOut','TaxiIn'*</span>"
   ]
  },
  {
   "cell_type": "markdown",
   "metadata": {
    "ExecuteTime": {
     "end_time": "2021-05-17T10:07:22.466149Z",
     "start_time": "2021-05-17T10:07:22.452140Z"
    }
   },
   "source": [
    "<span style=color:green>Statistical infos on Departure Delay of each airline</span>"
   ]
  },
  {
   "cell_type": "code",
   "execution_count": 9,
   "metadata": {
    "ExecuteTime": {
     "end_time": "2021-06-04T16:40:11.453641Z",
     "start_time": "2021-06-04T16:40:11.338703Z"
    }
   },
   "outputs": [
    {
     "data": {
      "text/html": [
       "<div>\n",
       "<style scoped>\n",
       "    .dataframe tbody tr th:only-of-type {\n",
       "        vertical-align: middle;\n",
       "    }\n",
       "\n",
       "    .dataframe tbody tr th {\n",
       "        vertical-align: top;\n",
       "    }\n",
       "\n",
       "    .dataframe thead th {\n",
       "        text-align: right;\n",
       "    }\n",
       "</style>\n",
       "<table border=\"1\" class=\"dataframe\">\n",
       "  <thead>\n",
       "    <tr style=\"text-align: right;\">\n",
       "      <th></th>\n",
       "      <th>min</th>\n",
       "      <th>max</th>\n",
       "      <th>count</th>\n",
       "      <th>mean</th>\n",
       "    </tr>\n",
       "    <tr>\n",
       "      <th>UniqueCarrier</th>\n",
       "      <th></th>\n",
       "      <th></th>\n",
       "      <th></th>\n",
       "      <th></th>\n",
       "    </tr>\n",
       "  </thead>\n",
       "  <tbody>\n",
       "    <tr>\n",
       "      <th>AQ</th>\n",
       "      <td>8.0</td>\n",
       "      <td>60.0</td>\n",
       "      <td>3.0</td>\n",
       "      <td>31.000000</td>\n",
       "    </tr>\n",
       "    <tr>\n",
       "      <th>HA</th>\n",
       "      <td>6.0</td>\n",
       "      <td>435.0</td>\n",
       "      <td>50.0</td>\n",
       "      <td>33.360000</td>\n",
       "    </tr>\n",
       "    <tr>\n",
       "      <th>F9</th>\n",
       "      <td>6.0</td>\n",
       "      <td>356.0</td>\n",
       "      <td>143.0</td>\n",
       "      <td>29.433566</td>\n",
       "    </tr>\n",
       "    <tr>\n",
       "      <th>AS</th>\n",
       "      <td>6.0</td>\n",
       "      <td>386.0</td>\n",
       "      <td>196.0</td>\n",
       "      <td>40.076531</td>\n",
       "    </tr>\n",
       "    <tr>\n",
       "      <th>OH</th>\n",
       "      <td>6.0</td>\n",
       "      <td>310.0</td>\n",
       "      <td>269.0</td>\n",
       "      <td>45.862454</td>\n",
       "    </tr>\n",
       "    <tr>\n",
       "      <th>9E</th>\n",
       "      <td>6.0</td>\n",
       "      <td>401.0</td>\n",
       "      <td>276.0</td>\n",
       "      <td>49.485507</td>\n",
       "    </tr>\n",
       "    <tr>\n",
       "      <th>B6</th>\n",
       "      <td>6.0</td>\n",
       "      <td>416.0</td>\n",
       "      <td>314.0</td>\n",
       "      <td>52.742038</td>\n",
       "    </tr>\n",
       "    <tr>\n",
       "      <th>YV</th>\n",
       "      <td>6.0</td>\n",
       "      <td>415.0</td>\n",
       "      <td>325.0</td>\n",
       "      <td>49.184615</td>\n",
       "    </tr>\n",
       "    <tr>\n",
       "      <th>FL</th>\n",
       "      <td>6.0</td>\n",
       "      <td>291.0</td>\n",
       "      <td>363.0</td>\n",
       "      <td>43.168044</td>\n",
       "    </tr>\n",
       "    <tr>\n",
       "      <th>EV</th>\n",
       "      <td>6.0</td>\n",
       "      <td>558.0</td>\n",
       "      <td>437.0</td>\n",
       "      <td>55.652174</td>\n",
       "    </tr>\n",
       "    <tr>\n",
       "      <th>NW</th>\n",
       "      <td>6.0</td>\n",
       "      <td>879.0</td>\n",
       "      <td>441.0</td>\n",
       "      <td>42.263039</td>\n",
       "    </tr>\n",
       "    <tr>\n",
       "      <th>US</th>\n",
       "      <td>6.0</td>\n",
       "      <td>322.0</td>\n",
       "      <td>509.0</td>\n",
       "      <td>38.163065</td>\n",
       "    </tr>\n",
       "    <tr>\n",
       "      <th>XE</th>\n",
       "      <td>6.0</td>\n",
       "      <td>611.0</td>\n",
       "      <td>523.0</td>\n",
       "      <td>54.189293</td>\n",
       "    </tr>\n",
       "    <tr>\n",
       "      <th>CO</th>\n",
       "      <td>6.0</td>\n",
       "      <td>382.0</td>\n",
       "      <td>541.0</td>\n",
       "      <td>43.817006</td>\n",
       "    </tr>\n",
       "    <tr>\n",
       "      <th>DL</th>\n",
       "      <td>6.0</td>\n",
       "      <td>593.0</td>\n",
       "      <td>549.0</td>\n",
       "      <td>45.087432</td>\n",
       "    </tr>\n",
       "    <tr>\n",
       "      <th>OO</th>\n",
       "      <td>6.0</td>\n",
       "      <td>507.0</td>\n",
       "      <td>679.0</td>\n",
       "      <td>46.932253</td>\n",
       "    </tr>\n",
       "    <tr>\n",
       "      <th>MQ</th>\n",
       "      <td>6.0</td>\n",
       "      <td>365.0</td>\n",
       "      <td>704.0</td>\n",
       "      <td>41.468750</td>\n",
       "    </tr>\n",
       "    <tr>\n",
       "      <th>UA</th>\n",
       "      <td>6.0</td>\n",
       "      <td>321.0</td>\n",
       "      <td>754.0</td>\n",
       "      <td>51.822281</td>\n",
       "    </tr>\n",
       "    <tr>\n",
       "      <th>AA</th>\n",
       "      <td>6.0</td>\n",
       "      <td>873.0</td>\n",
       "      <td>991.0</td>\n",
       "      <td>46.843592</td>\n",
       "    </tr>\n",
       "    <tr>\n",
       "      <th>WN</th>\n",
       "      <td>6.0</td>\n",
       "      <td>298.0</td>\n",
       "      <td>1933.0</td>\n",
       "      <td>34.199690</td>\n",
       "    </tr>\n",
       "  </tbody>\n",
       "</table>\n",
       "</div>"
      ],
      "text/plain": [
       "               min    max   count       mean\n",
       "UniqueCarrier                               \n",
       "AQ             8.0   60.0     3.0  31.000000\n",
       "HA             6.0  435.0    50.0  33.360000\n",
       "F9             6.0  356.0   143.0  29.433566\n",
       "AS             6.0  386.0   196.0  40.076531\n",
       "OH             6.0  310.0   269.0  45.862454\n",
       "9E             6.0  401.0   276.0  49.485507\n",
       "B6             6.0  416.0   314.0  52.742038\n",
       "YV             6.0  415.0   325.0  49.184615\n",
       "FL             6.0  291.0   363.0  43.168044\n",
       "EV             6.0  558.0   437.0  55.652174\n",
       "NW             6.0  879.0   441.0  42.263039\n",
       "US             6.0  322.0   509.0  38.163065\n",
       "XE             6.0  611.0   523.0  54.189293\n",
       "CO             6.0  382.0   541.0  43.817006\n",
       "DL             6.0  593.0   549.0  45.087432\n",
       "OO             6.0  507.0   679.0  46.932253\n",
       "MQ             6.0  365.0   704.0  41.468750\n",
       "UA             6.0  321.0   754.0  51.822281\n",
       "AA             6.0  873.0   991.0  46.843592\n",
       "WN             6.0  298.0  1933.0  34.199690"
      ]
     },
     "execution_count": 9,
     "metadata": {},
     "output_type": "execute_result"
    }
   ],
   "source": [
    "# Extract statistical parameters with grouby 'Carrier':\n",
    "def get_stats(group):\n",
    "    return {'min': group.min(), 'max': group.max(),\n",
    "            'count': group.count(), 'mean': group.mean()}\n",
    "\n",
    "UniqueCarrier_delay_stats = DF['DepDelay'].groupby(DF['UniqueCarrier']).apply(get_stats).unstack()\n",
    "UniqueCarrier_delay_stats = UniqueCarrier_delay_stats.sort_values('count')\n",
    "UniqueCarrier_delay_stats"
   ]
  },
  {
   "cell_type": "code",
   "execution_count": 10,
   "metadata": {
    "ExecuteTime": {
     "end_time": "2021-06-04T16:40:14.345364Z",
     "start_time": "2021-06-04T16:40:13.389552Z"
    },
    "scrolled": true
   },
   "outputs": [
    {
     "data": {
      "text/plain": [
       "<AxesSubplot:title={'center':'Mean'}, ylabel='mean'>"
      ]
     },
     "execution_count": 10,
     "metadata": {},
     "output_type": "execute_result"
    },
    {
     "data": {
      "image/png": "[encoded data removed]",
      "text/plain": [
       "<Figure size 576x576 with 1 Axes>"
      ]
     },
     "metadata": {},
     "output_type": "display_data"
    }
   ],
   "source": [
    "fig=plt.figure(figsize=(8,8))\n",
    "UniqueCarrier_delay_stats['mean'].plot.pie(title = 'Mean', colors = ['firebrick', 'gold', 'lightcoral', 'aquamarine', 'c', 'yellowgreen', 'grey',\n",
    "          'seagreen'])"
   ]
  },
  {
   "cell_type": "markdown",
   "metadata": {},
   "source": [
    "<span style=color:green><b>REGRESSION MODEL PREPARATION</span>"
   ]
  },
  {
   "cell_type": "code",
   "execution_count": 11,
   "metadata": {
    "ExecuteTime": {
     "end_time": "2021-06-04T16:40:18.576631Z",
     "start_time": "2021-06-04T16:40:18.557644Z"
    }
   },
   "outputs": [
    {
     "data": {
      "text/plain": [
       "Index(['DayOfWeek', 'CRSDepTime', 'CRSArrTime', 'ArrDelay', 'DepDelay',\n",
       "       'TaxiIn', 'TaxiOut', 'UniqueCarrier'],\n",
       "      dtype='object')"
      ]
     },
     "execution_count": 11,
     "metadata": {},
     "output_type": "execute_result"
    }
   ],
   "source": [
    "DF.columns"
   ]
  },
  {
   "cell_type": "markdown",
   "metadata": {},
   "source": [
    "<span style=color:green>4.1 Definition of dependent and independent variables</span>\n",
    "\n",
    "<span style=color:green>*y = ArrDelay*</span>\n",
    "\n",
    "<span style=color:green>*X = All variables apart from ArrDelay*</span>"
   ]
  },
  {
   "cell_type": "code",
   "execution_count": 12,
   "metadata": {
    "ExecuteTime": {
     "end_time": "2021-06-04T16:40:21.663229Z",
     "start_time": "2021-06-04T16:40:21.637756Z"
    }
   },
   "outputs": [
    {
     "name": "stdout",
     "output_type": "stream",
     "text": [
      "(10000, 7) (10000,)\n"
     ]
    }
   ],
   "source": [
    "X, y = DF.drop('ArrDelay',axis=1), DF.ArrDelay\n",
    "print(X.shape, y.shape)"
   ]
  },
  {
   "cell_type": "code",
   "execution_count": 13,
   "metadata": {
    "ExecuteTime": {
     "end_time": "2021-06-04T16:40:23.374616Z",
     "start_time": "2021-06-04T16:40:23.327644Z"
    }
   },
   "outputs": [
    {
     "data": {
      "text/html": [
       "<div>\n",
       "<style scoped>\n",
       "    .dataframe tbody tr th:only-of-type {\n",
       "        vertical-align: middle;\n",
       "    }\n",
       "\n",
       "    .dataframe tbody tr th {\n",
       "        vertical-align: top;\n",
       "    }\n",
       "\n",
       "    .dataframe thead th {\n",
       "        text-align: right;\n",
       "    }\n",
       "</style>\n",
       "<table border=\"1\" class=\"dataframe\">\n",
       "  <thead>\n",
       "    <tr style=\"text-align: right;\">\n",
       "      <th></th>\n",
       "      <th>DayOfWeek</th>\n",
       "      <th>CRSDepTime</th>\n",
       "      <th>CRSArrTime</th>\n",
       "      <th>DepDelay</th>\n",
       "      <th>TaxiIn</th>\n",
       "      <th>TaxiOut</th>\n",
       "      <th>UniqueCarrier</th>\n",
       "    </tr>\n",
       "  </thead>\n",
       "  <tbody>\n",
       "    <tr>\n",
       "      <th>942808</th>\n",
       "      <td>6</td>\n",
       "      <td>642</td>\n",
       "      <td>734</td>\n",
       "      <td>39.0</td>\n",
       "      <td>6.0</td>\n",
       "      <td>17.0</td>\n",
       "      <td>OO</td>\n",
       "    </tr>\n",
       "    <tr>\n",
       "      <th>1484347</th>\n",
       "      <td>1</td>\n",
       "      <td>1115</td>\n",
       "      <td>1185</td>\n",
       "      <td>9.0</td>\n",
       "      <td>6.0</td>\n",
       "      <td>6.0</td>\n",
       "      <td>MQ</td>\n",
       "    </tr>\n",
       "    <tr>\n",
       "      <th>1566787</th>\n",
       "      <td>6</td>\n",
       "      <td>975</td>\n",
       "      <td>1037</td>\n",
       "      <td>9.0</td>\n",
       "      <td>7.0</td>\n",
       "      <td>14.0</td>\n",
       "      <td>US</td>\n",
       "    </tr>\n",
       "    <tr>\n",
       "      <th>1256237</th>\n",
       "      <td>2</td>\n",
       "      <td>1040</td>\n",
       "      <td>1160</td>\n",
       "      <td>28.0</td>\n",
       "      <td>5.0</td>\n",
       "      <td>59.0</td>\n",
       "      <td>DL</td>\n",
       "    </tr>\n",
       "    <tr>\n",
       "      <th>651063</th>\n",
       "      <td>5</td>\n",
       "      <td>1000</td>\n",
       "      <td>1037</td>\n",
       "      <td>13.0</td>\n",
       "      <td>7.0</td>\n",
       "      <td>8.0</td>\n",
       "      <td>EV</td>\n",
       "    </tr>\n",
       "  </tbody>\n",
       "</table>\n",
       "</div>"
      ],
      "text/plain": [
       "         DayOfWeek  CRSDepTime  CRSArrTime  DepDelay  TaxiIn  TaxiOut  \\\n",
       "942808           6         642         734      39.0     6.0     17.0   \n",
       "1484347          1        1115        1185       9.0     6.0      6.0   \n",
       "1566787          6         975        1037       9.0     7.0     14.0   \n",
       "1256237          2        1040        1160      28.0     5.0     59.0   \n",
       "651063           5        1000        1037      13.0     7.0      8.0   \n",
       "\n",
       "        UniqueCarrier  \n",
       "942808             OO  \n",
       "1484347            MQ  \n",
       "1566787            US  \n",
       "1256237            DL  \n",
       "651063             EV  "
      ]
     },
     "execution_count": 13,
     "metadata": {},
     "output_type": "execute_result"
    }
   ],
   "source": [
    "X.head()"
   ]
  },
  {
   "cell_type": "markdown",
   "metadata": {},
   "source": [
    "<span style=color:green>Split the dataset into train and test subsets</span>"
   ]
  },
  {
   "cell_type": "code",
   "execution_count": 14,
   "metadata": {
    "ExecuteTime": {
     "end_time": "2021-06-04T16:40:25.542641Z",
     "start_time": "2021-06-04T16:40:25.508642Z"
    }
   },
   "outputs": [],
   "source": [
    "X_train, X_test, y_train, y_test = train_test_split(X, y, test_size=0.2, random_state=0)"
   ]
  },
  {
   "cell_type": "code",
   "execution_count": 15,
   "metadata": {
    "ExecuteTime": {
     "end_time": "2021-06-04T16:40:26.505866Z",
     "start_time": "2021-06-04T16:40:26.493876Z"
    }
   },
   "outputs": [
    {
     "data": {
      "text/plain": [
       "((8000, 7), (2000, 7), (8000,), (2000,))"
      ]
     },
     "execution_count": 15,
     "metadata": {},
     "output_type": "execute_result"
    }
   ],
   "source": [
    "X_train.shape, X_test.shape, y_train.shape, y_test.shape"
   ]
  },
  {
   "cell_type": "markdown",
   "metadata": {},
   "source": [
    "<span style=color:green>'Unique Carrier'Encoding</span>"
   ]
  },
  {
   "cell_type": "code",
   "execution_count": 16,
   "metadata": {
    "ExecuteTime": {
     "end_time": "2021-06-04T16:40:46.414538Z",
     "start_time": "2021-06-04T16:40:46.279614Z"
    }
   },
   "outputs": [
    {
     "data": {
      "text/html": [
       "<div>\n",
       "<style scoped>\n",
       "    .dataframe tbody tr th:only-of-type {\n",
       "        vertical-align: middle;\n",
       "    }\n",
       "\n",
       "    .dataframe tbody tr th {\n",
       "        vertical-align: top;\n",
       "    }\n",
       "\n",
       "    .dataframe thead th {\n",
       "        text-align: right;\n",
       "    }\n",
       "</style>\n",
       "<table border=\"1\" class=\"dataframe\">\n",
       "  <thead>\n",
       "    <tr style=\"text-align: right;\">\n",
       "      <th></th>\n",
       "      <th>DayOfWeek</th>\n",
       "      <th>CRSDepTime</th>\n",
       "      <th>CRSArrTime</th>\n",
       "      <th>DepDelay</th>\n",
       "      <th>TaxiIn</th>\n",
       "      <th>TaxiOut</th>\n",
       "      <th>UniqueCarrier_AA</th>\n",
       "      <th>UniqueCarrier_AQ</th>\n",
       "      <th>UniqueCarrier_AS</th>\n",
       "      <th>UniqueCarrier_B6</th>\n",
       "      <th>...</th>\n",
       "      <th>UniqueCarrier_HA</th>\n",
       "      <th>UniqueCarrier_MQ</th>\n",
       "      <th>UniqueCarrier_NW</th>\n",
       "      <th>UniqueCarrier_OH</th>\n",
       "      <th>UniqueCarrier_OO</th>\n",
       "      <th>UniqueCarrier_UA</th>\n",
       "      <th>UniqueCarrier_US</th>\n",
       "      <th>UniqueCarrier_WN</th>\n",
       "      <th>UniqueCarrier_XE</th>\n",
       "      <th>UniqueCarrier_YV</th>\n",
       "    </tr>\n",
       "  </thead>\n",
       "  <tbody>\n",
       "    <tr>\n",
       "      <th>758739</th>\n",
       "      <td>3</td>\n",
       "      <td>510</td>\n",
       "      <td>595</td>\n",
       "      <td>11.0</td>\n",
       "      <td>4.0</td>\n",
       "      <td>12.0</td>\n",
       "      <td>0</td>\n",
       "      <td>0</td>\n",
       "      <td>0</td>\n",
       "      <td>0</td>\n",
       "      <td>...</td>\n",
       "      <td>0</td>\n",
       "      <td>0</td>\n",
       "      <td>0</td>\n",
       "      <td>0</td>\n",
       "      <td>0</td>\n",
       "      <td>0</td>\n",
       "      <td>0</td>\n",
       "      <td>0</td>\n",
       "      <td>1</td>\n",
       "      <td>0</td>\n",
       "    </tr>\n",
       "    <tr>\n",
       "      <th>1059361</th>\n",
       "      <td>3</td>\n",
       "      <td>1085</td>\n",
       "      <td>1263</td>\n",
       "      <td>215.0</td>\n",
       "      <td>16.0</td>\n",
       "      <td>14.0</td>\n",
       "      <td>0</td>\n",
       "      <td>0</td>\n",
       "      <td>0</td>\n",
       "      <td>1</td>\n",
       "      <td>...</td>\n",
       "      <td>0</td>\n",
       "      <td>0</td>\n",
       "      <td>0</td>\n",
       "      <td>0</td>\n",
       "      <td>0</td>\n",
       "      <td>0</td>\n",
       "      <td>0</td>\n",
       "      <td>0</td>\n",
       "      <td>0</td>\n",
       "      <td>0</td>\n",
       "    </tr>\n",
       "    <tr>\n",
       "      <th>367781</th>\n",
       "      <td>1</td>\n",
       "      <td>1070</td>\n",
       "      <td>1223</td>\n",
       "      <td>11.0</td>\n",
       "      <td>10.0</td>\n",
       "      <td>17.0</td>\n",
       "      <td>0</td>\n",
       "      <td>0</td>\n",
       "      <td>0</td>\n",
       "      <td>0</td>\n",
       "      <td>...</td>\n",
       "      <td>0</td>\n",
       "      <td>0</td>\n",
       "      <td>0</td>\n",
       "      <td>0</td>\n",
       "      <td>0</td>\n",
       "      <td>0</td>\n",
       "      <td>0</td>\n",
       "      <td>0</td>\n",
       "      <td>0</td>\n",
       "      <td>0</td>\n",
       "    </tr>\n",
       "    <tr>\n",
       "      <th>957591</th>\n",
       "      <td>7</td>\n",
       "      <td>935</td>\n",
       "      <td>1294</td>\n",
       "      <td>17.0</td>\n",
       "      <td>5.0</td>\n",
       "      <td>11.0</td>\n",
       "      <td>0</td>\n",
       "      <td>0</td>\n",
       "      <td>0</td>\n",
       "      <td>0</td>\n",
       "      <td>...</td>\n",
       "      <td>0</td>\n",
       "      <td>0</td>\n",
       "      <td>0</td>\n",
       "      <td>0</td>\n",
       "      <td>0</td>\n",
       "      <td>1</td>\n",
       "      <td>0</td>\n",
       "      <td>0</td>\n",
       "      <td>0</td>\n",
       "      <td>0</td>\n",
       "    </tr>\n",
       "    <tr>\n",
       "      <th>1771991</th>\n",
       "      <td>1</td>\n",
       "      <td>755</td>\n",
       "      <td>882</td>\n",
       "      <td>213.0</td>\n",
       "      <td>5.0</td>\n",
       "      <td>24.0</td>\n",
       "      <td>0</td>\n",
       "      <td>0</td>\n",
       "      <td>0</td>\n",
       "      <td>0</td>\n",
       "      <td>...</td>\n",
       "      <td>0</td>\n",
       "      <td>0</td>\n",
       "      <td>0</td>\n",
       "      <td>0</td>\n",
       "      <td>0</td>\n",
       "      <td>0</td>\n",
       "      <td>0</td>\n",
       "      <td>0</td>\n",
       "      <td>1</td>\n",
       "      <td>0</td>\n",
       "    </tr>\n",
       "  </tbody>\n",
       "</table>\n",
       "<p>5 rows × 25 columns</p>\n",
       "</div>"
      ],
      "text/plain": [
       "         DayOfWeek  CRSDepTime  CRSArrTime  DepDelay  TaxiIn  TaxiOut  \\\n",
       "758739           3         510         595      11.0     4.0     12.0   \n",
       "1059361          3        1085        1263     215.0    16.0     14.0   \n",
       "367781           1        1070        1223      11.0    10.0     17.0   \n",
       "957591           7         935        1294      17.0     5.0     11.0   \n",
       "1771991          1         755         882     213.0     5.0     24.0   \n",
       "\n",
       "         UniqueCarrier_AA  UniqueCarrier_AQ  UniqueCarrier_AS  \\\n",
       "758739                  0                 0                 0   \n",
       "1059361                 0                 0                 0   \n",
       "367781                  0                 0                 0   \n",
       "957591                  0                 0                 0   \n",
       "1771991                 0                 0                 0   \n",
       "\n",
       "         UniqueCarrier_B6  ...  UniqueCarrier_HA  UniqueCarrier_MQ  \\\n",
       "758739                  0  ...                 0                 0   \n",
       "1059361                 1  ...                 0                 0   \n",
       "367781                  0  ...                 0                 0   \n",
       "957591                  0  ...                 0                 0   \n",
       "1771991                 0  ...                 0                 0   \n",
       "\n",
       "         UniqueCarrier_NW  UniqueCarrier_OH  UniqueCarrier_OO  \\\n",
       "758739                  0                 0                 0   \n",
       "1059361                 0                 0                 0   \n",
       "367781                  0                 0                 0   \n",
       "957591                  0                 0                 0   \n",
       "1771991                 0                 0                 0   \n",
       "\n",
       "         UniqueCarrier_UA  UniqueCarrier_US  UniqueCarrier_WN  \\\n",
       "758739                  0                 0                 0   \n",
       "1059361                 0                 0                 0   \n",
       "367781                  0                 0                 0   \n",
       "957591                  1                 0                 0   \n",
       "1771991                 0                 0                 0   \n",
       "\n",
       "         UniqueCarrier_XE  UniqueCarrier_YV  \n",
       "758739                  1                 0  \n",
       "1059361                 0                 0  \n",
       "367781                  0                 0  \n",
       "957591                  0                 0  \n",
       "1771991                 1                 0  \n",
       "\n",
       "[5 rows x 25 columns]"
      ]
     },
     "execution_count": 16,
     "metadata": {},
     "output_type": "execute_result"
    }
   ],
   "source": [
    "# Apply dummy to X_train\n",
    "\n",
    "# Create dummy variables\n",
    "dummy_UniqueCarrier_type = pd.get_dummies(X_train['UniqueCarrier'], prefix='UniqueCarrier', drop_first=True)\n",
    "\n",
    "# Drop unnecessary columns\n",
    "to_drop = ['UniqueCarrier']\n",
    "X_train.drop(to_drop, axis=1, inplace=True)\n",
    "\n",
    "# Merge into a single data frame\n",
    "X_train = pd.concat([X_train, dummy_UniqueCarrier_type], axis=1)\n",
    "X_train.head()"
   ]
  },
  {
   "cell_type": "code",
   "execution_count": 17,
   "metadata": {
    "ExecuteTime": {
     "end_time": "2021-06-04T16:40:46.959093Z",
     "start_time": "2021-06-04T16:40:46.907123Z"
    },
    "scrolled": true
   },
   "outputs": [
    {
     "data": {
      "text/html": [
       "<div>\n",
       "<style scoped>\n",
       "    .dataframe tbody tr th:only-of-type {\n",
       "        vertical-align: middle;\n",
       "    }\n",
       "\n",
       "    .dataframe tbody tr th {\n",
       "        vertical-align: top;\n",
       "    }\n",
       "\n",
       "    .dataframe thead th {\n",
       "        text-align: right;\n",
       "    }\n",
       "</style>\n",
       "<table border=\"1\" class=\"dataframe\">\n",
       "  <thead>\n",
       "    <tr style=\"text-align: right;\">\n",
       "      <th></th>\n",
       "      <th>DayOfWeek</th>\n",
       "      <th>CRSDepTime</th>\n",
       "      <th>CRSArrTime</th>\n",
       "      <th>DepDelay</th>\n",
       "      <th>TaxiIn</th>\n",
       "      <th>TaxiOut</th>\n",
       "      <th>UniqueCarrier_AA</th>\n",
       "      <th>UniqueCarrier_AQ</th>\n",
       "      <th>UniqueCarrier_AS</th>\n",
       "      <th>UniqueCarrier_B6</th>\n",
       "      <th>...</th>\n",
       "      <th>UniqueCarrier_HA</th>\n",
       "      <th>UniqueCarrier_MQ</th>\n",
       "      <th>UniqueCarrier_NW</th>\n",
       "      <th>UniqueCarrier_OH</th>\n",
       "      <th>UniqueCarrier_OO</th>\n",
       "      <th>UniqueCarrier_UA</th>\n",
       "      <th>UniqueCarrier_US</th>\n",
       "      <th>UniqueCarrier_WN</th>\n",
       "      <th>UniqueCarrier_XE</th>\n",
       "      <th>UniqueCarrier_YV</th>\n",
       "    </tr>\n",
       "  </thead>\n",
       "  <tbody>\n",
       "    <tr>\n",
       "      <th>1205104</th>\n",
       "      <td>5</td>\n",
       "      <td>1035</td>\n",
       "      <td>1235</td>\n",
       "      <td>153.0</td>\n",
       "      <td>3.0</td>\n",
       "      <td>13.0</td>\n",
       "      <td>0</td>\n",
       "      <td>0</td>\n",
       "      <td>0</td>\n",
       "      <td>0</td>\n",
       "      <td>...</td>\n",
       "      <td>0</td>\n",
       "      <td>1</td>\n",
       "      <td>0</td>\n",
       "      <td>0</td>\n",
       "      <td>0</td>\n",
       "      <td>0</td>\n",
       "      <td>0</td>\n",
       "      <td>0</td>\n",
       "      <td>0</td>\n",
       "      <td>0</td>\n",
       "    </tr>\n",
       "    <tr>\n",
       "      <th>615091</th>\n",
       "      <td>7</td>\n",
       "      <td>1148</td>\n",
       "      <td>1248</td>\n",
       "      <td>22.0</td>\n",
       "      <td>5.0</td>\n",
       "      <td>27.0</td>\n",
       "      <td>0</td>\n",
       "      <td>0</td>\n",
       "      <td>0</td>\n",
       "      <td>0</td>\n",
       "      <td>...</td>\n",
       "      <td>0</td>\n",
       "      <td>0</td>\n",
       "      <td>0</td>\n",
       "      <td>1</td>\n",
       "      <td>0</td>\n",
       "      <td>0</td>\n",
       "      <td>0</td>\n",
       "      <td>0</td>\n",
       "      <td>0</td>\n",
       "      <td>0</td>\n",
       "    </tr>\n",
       "    <tr>\n",
       "      <th>1317914</th>\n",
       "      <td>4</td>\n",
       "      <td>741</td>\n",
       "      <td>782</td>\n",
       "      <td>44.0</td>\n",
       "      <td>5.0</td>\n",
       "      <td>15.0</td>\n",
       "      <td>0</td>\n",
       "      <td>0</td>\n",
       "      <td>0</td>\n",
       "      <td>0</td>\n",
       "      <td>...</td>\n",
       "      <td>0</td>\n",
       "      <td>0</td>\n",
       "      <td>0</td>\n",
       "      <td>0</td>\n",
       "      <td>1</td>\n",
       "      <td>0</td>\n",
       "      <td>0</td>\n",
       "      <td>0</td>\n",
       "      <td>0</td>\n",
       "      <td>0</td>\n",
       "    </tr>\n",
       "    <tr>\n",
       "      <th>1737109</th>\n",
       "      <td>1</td>\n",
       "      <td>1240</td>\n",
       "      <td>1425</td>\n",
       "      <td>51.0</td>\n",
       "      <td>4.0</td>\n",
       "      <td>17.0</td>\n",
       "      <td>0</td>\n",
       "      <td>0</td>\n",
       "      <td>0</td>\n",
       "      <td>0</td>\n",
       "      <td>...</td>\n",
       "      <td>0</td>\n",
       "      <td>0</td>\n",
       "      <td>0</td>\n",
       "      <td>0</td>\n",
       "      <td>0</td>\n",
       "      <td>0</td>\n",
       "      <td>0</td>\n",
       "      <td>1</td>\n",
       "      <td>0</td>\n",
       "      <td>0</td>\n",
       "    </tr>\n",
       "    <tr>\n",
       "      <th>903835</th>\n",
       "      <td>6</td>\n",
       "      <td>840</td>\n",
       "      <td>1005</td>\n",
       "      <td>88.0</td>\n",
       "      <td>6.0</td>\n",
       "      <td>11.0</td>\n",
       "      <td>0</td>\n",
       "      <td>0</td>\n",
       "      <td>0</td>\n",
       "      <td>0</td>\n",
       "      <td>...</td>\n",
       "      <td>0</td>\n",
       "      <td>0</td>\n",
       "      <td>0</td>\n",
       "      <td>0</td>\n",
       "      <td>0</td>\n",
       "      <td>0</td>\n",
       "      <td>0</td>\n",
       "      <td>1</td>\n",
       "      <td>0</td>\n",
       "      <td>0</td>\n",
       "    </tr>\n",
       "  </tbody>\n",
       "</table>\n",
       "<p>5 rows × 25 columns</p>\n",
       "</div>"
      ],
      "text/plain": [
       "         DayOfWeek  CRSDepTime  CRSArrTime  DepDelay  TaxiIn  TaxiOut  \\\n",
       "1205104          5        1035        1235     153.0     3.0     13.0   \n",
       "615091           7        1148        1248      22.0     5.0     27.0   \n",
       "1317914          4         741         782      44.0     5.0     15.0   \n",
       "1737109          1        1240        1425      51.0     4.0     17.0   \n",
       "903835           6         840        1005      88.0     6.0     11.0   \n",
       "\n",
       "         UniqueCarrier_AA  UniqueCarrier_AQ  UniqueCarrier_AS  \\\n",
       "1205104                 0                 0                 0   \n",
       "615091                  0                 0                 0   \n",
       "1317914                 0                 0                 0   \n",
       "1737109                 0                 0                 0   \n",
       "903835                  0                 0                 0   \n",
       "\n",
       "         UniqueCarrier_B6  ...  UniqueCarrier_HA  UniqueCarrier_MQ  \\\n",
       "1205104                 0  ...                 0                 1   \n",
       "615091                  0  ...                 0                 0   \n",
       "1317914                 0  ...                 0                 0   \n",
       "1737109                 0  ...                 0                 0   \n",
       "903835                  0  ...                 0                 0   \n",
       "\n",
       "         UniqueCarrier_NW  UniqueCarrier_OH  UniqueCarrier_OO  \\\n",
       "1205104                 0                 0                 0   \n",
       "615091                  0                 1                 0   \n",
       "1317914                 0                 0                 1   \n",
       "1737109                 0                 0                 0   \n",
       "903835                  0                 0                 0   \n",
       "\n",
       "         UniqueCarrier_UA  UniqueCarrier_US  UniqueCarrier_WN  \\\n",
       "1205104                 0                 0                 0   \n",
       "615091                  0                 0                 0   \n",
       "1317914                 0                 0                 0   \n",
       "1737109                 0                 0                 1   \n",
       "903835                  0                 0                 1   \n",
       "\n",
       "         UniqueCarrier_XE  UniqueCarrier_YV  \n",
       "1205104                 0                 0  \n",
       "615091                  0                 0  \n",
       "1317914                 0                 0  \n",
       "1737109                 0                 0  \n",
       "903835                  0                 0  \n",
       "\n",
       "[5 rows x 25 columns]"
      ]
     },
     "execution_count": 17,
     "metadata": {},
     "output_type": "execute_result"
    }
   ],
   "source": [
    "# Apply dummy to X_test\n",
    "dummy_UniqueCarrier_type = pd.get_dummies(X_test['UniqueCarrier'], prefix='UniqueCarrier', drop_first=True)\n",
    "to_drop = ['UniqueCarrier']\n",
    "X_test.drop(to_drop, axis=1, inplace=True)\n",
    "# Merge into a single data frame\n",
    "X_test = pd.concat([X_test, dummy_UniqueCarrier_type], axis=1)\n",
    "X_test.head()"
   ]
  },
  {
   "cell_type": "markdown",
   "metadata": {},
   "source": [
    "<span style=color:green>Standardize numerical variables</span>"
   ]
  },
  {
   "cell_type": "code",
   "execution_count": 18,
   "metadata": {
    "ExecuteTime": {
     "end_time": "2021-06-04T16:40:48.418675Z",
     "start_time": "2021-06-04T16:40:48.359726Z"
    }
   },
   "outputs": [],
   "source": [
    "from sklearn.preprocessing import StandardScaler\n",
    "\n",
    "# Scale selected columns by index\n",
    "# Set up scaler\n",
    "scaler = StandardScaler().fit(X_train.iloc[:,:6])\n",
    "X_train.iloc[:,:6] = scaler.transform(X_train.iloc[:,:6])\n",
    "X_train.head()\n",
    "#  Scale X_Test data\n",
    "X_test.iloc[:,:6] = scaler.transform(X_test.iloc[:,:6])"
   ]
  },
  {
   "cell_type": "code",
   "execution_count": 19,
   "metadata": {
    "ExecuteTime": {
     "end_time": "2021-06-04T16:40:49.037542Z",
     "start_time": "2021-06-04T16:40:48.995548Z"
    },
    "scrolled": false
   },
   "outputs": [
    {
     "data": {
      "text/html": [
       "<div>\n",
       "<style scoped>\n",
       "    .dataframe tbody tr th:only-of-type {\n",
       "        vertical-align: middle;\n",
       "    }\n",
       "\n",
       "    .dataframe tbody tr th {\n",
       "        vertical-align: top;\n",
       "    }\n",
       "\n",
       "    .dataframe thead th {\n",
       "        text-align: right;\n",
       "    }\n",
       "</style>\n",
       "<table border=\"1\" class=\"dataframe\">\n",
       "  <thead>\n",
       "    <tr style=\"text-align: right;\">\n",
       "      <th></th>\n",
       "      <th>DayOfWeek</th>\n",
       "      <th>CRSDepTime</th>\n",
       "      <th>CRSArrTime</th>\n",
       "      <th>DepDelay</th>\n",
       "      <th>TaxiIn</th>\n",
       "      <th>TaxiOut</th>\n",
       "      <th>UniqueCarrier_AA</th>\n",
       "      <th>UniqueCarrier_AQ</th>\n",
       "      <th>UniqueCarrier_AS</th>\n",
       "      <th>UniqueCarrier_B6</th>\n",
       "      <th>...</th>\n",
       "      <th>UniqueCarrier_HA</th>\n",
       "      <th>UniqueCarrier_MQ</th>\n",
       "      <th>UniqueCarrier_NW</th>\n",
       "      <th>UniqueCarrier_OH</th>\n",
       "      <th>UniqueCarrier_OO</th>\n",
       "      <th>UniqueCarrier_UA</th>\n",
       "      <th>UniqueCarrier_US</th>\n",
       "      <th>UniqueCarrier_WN</th>\n",
       "      <th>UniqueCarrier_XE</th>\n",
       "      <th>UniqueCarrier_YV</th>\n",
       "    </tr>\n",
       "  </thead>\n",
       "  <tbody>\n",
       "    <tr>\n",
       "      <th>758739</th>\n",
       "      <td>-0.48302</td>\n",
       "      <td>-1.488084</td>\n",
       "      <td>-1.371033</td>\n",
       "      <td>-0.603823</td>\n",
       "      <td>-0.576158</td>\n",
       "      <td>-0.440820</td>\n",
       "      <td>0</td>\n",
       "      <td>0</td>\n",
       "      <td>0</td>\n",
       "      <td>0</td>\n",
       "      <td>...</td>\n",
       "      <td>0</td>\n",
       "      <td>0</td>\n",
       "      <td>0</td>\n",
       "      <td>0</td>\n",
       "      <td>0</td>\n",
       "      <td>0</td>\n",
       "      <td>0</td>\n",
       "      <td>0</td>\n",
       "      <td>1</td>\n",
       "      <td>0</td>\n",
       "    </tr>\n",
       "    <tr>\n",
       "      <th>1059361</th>\n",
       "      <td>-0.48302</td>\n",
       "      <td>0.752146</td>\n",
       "      <td>0.966001</td>\n",
       "      <td>3.106778</td>\n",
       "      <td>1.913542</td>\n",
       "      <td>-0.306934</td>\n",
       "      <td>0</td>\n",
       "      <td>0</td>\n",
       "      <td>0</td>\n",
       "      <td>1</td>\n",
       "      <td>...</td>\n",
       "      <td>0</td>\n",
       "      <td>0</td>\n",
       "      <td>0</td>\n",
       "      <td>0</td>\n",
       "      <td>0</td>\n",
       "      <td>0</td>\n",
       "      <td>0</td>\n",
       "      <td>0</td>\n",
       "      <td>0</td>\n",
       "      <td>0</td>\n",
       "    </tr>\n",
       "    <tr>\n",
       "      <th>367781</th>\n",
       "      <td>-1.48164</td>\n",
       "      <td>0.693705</td>\n",
       "      <td>0.826059</td>\n",
       "      <td>-0.603823</td>\n",
       "      <td>0.668692</td>\n",
       "      <td>-0.106105</td>\n",
       "      <td>0</td>\n",
       "      <td>0</td>\n",
       "      <td>0</td>\n",
       "      <td>0</td>\n",
       "      <td>...</td>\n",
       "      <td>0</td>\n",
       "      <td>0</td>\n",
       "      <td>0</td>\n",
       "      <td>0</td>\n",
       "      <td>0</td>\n",
       "      <td>0</td>\n",
       "      <td>0</td>\n",
       "      <td>0</td>\n",
       "      <td>0</td>\n",
       "      <td>0</td>\n",
       "    </tr>\n",
       "    <tr>\n",
       "      <th>957591</th>\n",
       "      <td>1.51422</td>\n",
       "      <td>0.167738</td>\n",
       "      <td>1.074456</td>\n",
       "      <td>-0.494688</td>\n",
       "      <td>-0.368683</td>\n",
       "      <td>-0.507764</td>\n",
       "      <td>0</td>\n",
       "      <td>0</td>\n",
       "      <td>0</td>\n",
       "      <td>0</td>\n",
       "      <td>...</td>\n",
       "      <td>0</td>\n",
       "      <td>0</td>\n",
       "      <td>0</td>\n",
       "      <td>0</td>\n",
       "      <td>0</td>\n",
       "      <td>1</td>\n",
       "      <td>0</td>\n",
       "      <td>0</td>\n",
       "      <td>0</td>\n",
       "      <td>0</td>\n",
       "    </tr>\n",
       "    <tr>\n",
       "      <th>1771991</th>\n",
       "      <td>-1.48164</td>\n",
       "      <td>-0.533552</td>\n",
       "      <td>-0.366948</td>\n",
       "      <td>3.070400</td>\n",
       "      <td>-0.368683</td>\n",
       "      <td>0.362497</td>\n",
       "      <td>0</td>\n",
       "      <td>0</td>\n",
       "      <td>0</td>\n",
       "      <td>0</td>\n",
       "      <td>...</td>\n",
       "      <td>0</td>\n",
       "      <td>0</td>\n",
       "      <td>0</td>\n",
       "      <td>0</td>\n",
       "      <td>0</td>\n",
       "      <td>0</td>\n",
       "      <td>0</td>\n",
       "      <td>0</td>\n",
       "      <td>1</td>\n",
       "      <td>0</td>\n",
       "    </tr>\n",
       "  </tbody>\n",
       "</table>\n",
       "<p>5 rows × 25 columns</p>\n",
       "</div>"
      ],
      "text/plain": [
       "         DayOfWeek  CRSDepTime  CRSArrTime  DepDelay    TaxiIn   TaxiOut  \\\n",
       "758739    -0.48302   -1.488084   -1.371033 -0.603823 -0.576158 -0.440820   \n",
       "1059361   -0.48302    0.752146    0.966001  3.106778  1.913542 -0.306934   \n",
       "367781    -1.48164    0.693705    0.826059 -0.603823  0.668692 -0.106105   \n",
       "957591     1.51422    0.167738    1.074456 -0.494688 -0.368683 -0.507764   \n",
       "1771991   -1.48164   -0.533552   -0.366948  3.070400 -0.368683  0.362497   \n",
       "\n",
       "         UniqueCarrier_AA  UniqueCarrier_AQ  UniqueCarrier_AS  \\\n",
       "758739                  0                 0                 0   \n",
       "1059361                 0                 0                 0   \n",
       "367781                  0                 0                 0   \n",
       "957591                  0                 0                 0   \n",
       "1771991                 0                 0                 0   \n",
       "\n",
       "         UniqueCarrier_B6  ...  UniqueCarrier_HA  UniqueCarrier_MQ  \\\n",
       "758739                  0  ...                 0                 0   \n",
       "1059361                 1  ...                 0                 0   \n",
       "367781                  0  ...                 0                 0   \n",
       "957591                  0  ...                 0                 0   \n",
       "1771991                 0  ...                 0                 0   \n",
       "\n",
       "         UniqueCarrier_NW  UniqueCarrier_OH  UniqueCarrier_OO  \\\n",
       "758739                  0                 0                 0   \n",
       "1059361                 0                 0                 0   \n",
       "367781                  0                 0                 0   \n",
       "957591                  0                 0                 0   \n",
       "1771991                 0                 0                 0   \n",
       "\n",
       "         UniqueCarrier_UA  UniqueCarrier_US  UniqueCarrier_WN  \\\n",
       "758739                  0                 0                 0   \n",
       "1059361                 0                 0                 0   \n",
       "367781                  0                 0                 0   \n",
       "957591                  1                 0                 0   \n",
       "1771991                 0                 0                 0   \n",
       "\n",
       "         UniqueCarrier_XE  UniqueCarrier_YV  \n",
       "758739                  1                 0  \n",
       "1059361                 0                 0  \n",
       "367781                  0                 0  \n",
       "957591                  0                 0  \n",
       "1771991                 1                 0  \n",
       "\n",
       "[5 rows x 25 columns]"
      ]
     },
     "execution_count": 19,
     "metadata": {},
     "output_type": "execute_result"
    }
   ],
   "source": [
    "X_train.head()"
   ]
  },
  {
   "cell_type": "code",
   "execution_count": 20,
   "metadata": {
    "ExecuteTime": {
     "end_time": "2021-06-04T16:40:49.705124Z",
     "start_time": "2021-06-04T16:40:49.661128Z"
    },
    "scrolled": true
   },
   "outputs": [
    {
     "data": {
      "text/html": [
       "<div>\n",
       "<style scoped>\n",
       "    .dataframe tbody tr th:only-of-type {\n",
       "        vertical-align: middle;\n",
       "    }\n",
       "\n",
       "    .dataframe tbody tr th {\n",
       "        vertical-align: top;\n",
       "    }\n",
       "\n",
       "    .dataframe thead th {\n",
       "        text-align: right;\n",
       "    }\n",
       "</style>\n",
       "<table border=\"1\" class=\"dataframe\">\n",
       "  <thead>\n",
       "    <tr style=\"text-align: right;\">\n",
       "      <th></th>\n",
       "      <th>DayOfWeek</th>\n",
       "      <th>CRSDepTime</th>\n",
       "      <th>CRSArrTime</th>\n",
       "      <th>DepDelay</th>\n",
       "      <th>TaxiIn</th>\n",
       "      <th>TaxiOut</th>\n",
       "      <th>UniqueCarrier_AA</th>\n",
       "      <th>UniqueCarrier_AQ</th>\n",
       "      <th>UniqueCarrier_AS</th>\n",
       "      <th>UniqueCarrier_B6</th>\n",
       "      <th>...</th>\n",
       "      <th>UniqueCarrier_HA</th>\n",
       "      <th>UniqueCarrier_MQ</th>\n",
       "      <th>UniqueCarrier_NW</th>\n",
       "      <th>UniqueCarrier_OH</th>\n",
       "      <th>UniqueCarrier_OO</th>\n",
       "      <th>UniqueCarrier_UA</th>\n",
       "      <th>UniqueCarrier_US</th>\n",
       "      <th>UniqueCarrier_WN</th>\n",
       "      <th>UniqueCarrier_XE</th>\n",
       "      <th>UniqueCarrier_YV</th>\n",
       "    </tr>\n",
       "  </thead>\n",
       "  <tbody>\n",
       "    <tr>\n",
       "      <th>1205104</th>\n",
       "      <td>0.51560</td>\n",
       "      <td>0.557343</td>\n",
       "      <td>0.868042</td>\n",
       "      <td>1.979047</td>\n",
       "      <td>-0.783633</td>\n",
       "      <td>-0.373877</td>\n",
       "      <td>0</td>\n",
       "      <td>0</td>\n",
       "      <td>0</td>\n",
       "      <td>0</td>\n",
       "      <td>...</td>\n",
       "      <td>0</td>\n",
       "      <td>1</td>\n",
       "      <td>0</td>\n",
       "      <td>0</td>\n",
       "      <td>0</td>\n",
       "      <td>0</td>\n",
       "      <td>0</td>\n",
       "      <td>0</td>\n",
       "      <td>0</td>\n",
       "      <td>0</td>\n",
       "    </tr>\n",
       "    <tr>\n",
       "      <th>615091</th>\n",
       "      <td>1.51422</td>\n",
       "      <td>0.997597</td>\n",
       "      <td>0.913523</td>\n",
       "      <td>-0.403742</td>\n",
       "      <td>-0.368683</td>\n",
       "      <td>0.563326</td>\n",
       "      <td>0</td>\n",
       "      <td>0</td>\n",
       "      <td>0</td>\n",
       "      <td>0</td>\n",
       "      <td>...</td>\n",
       "      <td>0</td>\n",
       "      <td>0</td>\n",
       "      <td>0</td>\n",
       "      <td>1</td>\n",
       "      <td>0</td>\n",
       "      <td>0</td>\n",
       "      <td>0</td>\n",
       "      <td>0</td>\n",
       "      <td>0</td>\n",
       "      <td>0</td>\n",
       "    </tr>\n",
       "    <tr>\n",
       "      <th>1317914</th>\n",
       "      <td>0.01629</td>\n",
       "      <td>-0.588096</td>\n",
       "      <td>-0.716804</td>\n",
       "      <td>-0.003579</td>\n",
       "      <td>-0.368683</td>\n",
       "      <td>-0.239991</td>\n",
       "      <td>0</td>\n",
       "      <td>0</td>\n",
       "      <td>0</td>\n",
       "      <td>0</td>\n",
       "      <td>...</td>\n",
       "      <td>0</td>\n",
       "      <td>0</td>\n",
       "      <td>0</td>\n",
       "      <td>0</td>\n",
       "      <td>1</td>\n",
       "      <td>0</td>\n",
       "      <td>0</td>\n",
       "      <td>0</td>\n",
       "      <td>0</td>\n",
       "      <td>0</td>\n",
       "    </tr>\n",
       "    <tr>\n",
       "      <th>1737109</th>\n",
       "      <td>-1.48164</td>\n",
       "      <td>1.356034</td>\n",
       "      <td>1.532767</td>\n",
       "      <td>0.123746</td>\n",
       "      <td>-0.576158</td>\n",
       "      <td>-0.106105</td>\n",
       "      <td>0</td>\n",
       "      <td>0</td>\n",
       "      <td>0</td>\n",
       "      <td>0</td>\n",
       "      <td>...</td>\n",
       "      <td>0</td>\n",
       "      <td>0</td>\n",
       "      <td>0</td>\n",
       "      <td>0</td>\n",
       "      <td>0</td>\n",
       "      <td>0</td>\n",
       "      <td>0</td>\n",
       "      <td>1</td>\n",
       "      <td>0</td>\n",
       "      <td>0</td>\n",
       "    </tr>\n",
       "    <tr>\n",
       "      <th>903835</th>\n",
       "      <td>1.01491</td>\n",
       "      <td>-0.202387</td>\n",
       "      <td>0.063374</td>\n",
       "      <td>0.796747</td>\n",
       "      <td>-0.161208</td>\n",
       "      <td>-0.507764</td>\n",
       "      <td>0</td>\n",
       "      <td>0</td>\n",
       "      <td>0</td>\n",
       "      <td>0</td>\n",
       "      <td>...</td>\n",
       "      <td>0</td>\n",
       "      <td>0</td>\n",
       "      <td>0</td>\n",
       "      <td>0</td>\n",
       "      <td>0</td>\n",
       "      <td>0</td>\n",
       "      <td>0</td>\n",
       "      <td>1</td>\n",
       "      <td>0</td>\n",
       "      <td>0</td>\n",
       "    </tr>\n",
       "  </tbody>\n",
       "</table>\n",
       "<p>5 rows × 25 columns</p>\n",
       "</div>"
      ],
      "text/plain": [
       "         DayOfWeek  CRSDepTime  CRSArrTime  DepDelay    TaxiIn   TaxiOut  \\\n",
       "1205104    0.51560    0.557343    0.868042  1.979047 -0.783633 -0.373877   \n",
       "615091     1.51422    0.997597    0.913523 -0.403742 -0.368683  0.563326   \n",
       "1317914    0.01629   -0.588096   -0.716804 -0.003579 -0.368683 -0.239991   \n",
       "1737109   -1.48164    1.356034    1.532767  0.123746 -0.576158 -0.106105   \n",
       "903835     1.01491   -0.202387    0.063374  0.796747 -0.161208 -0.507764   \n",
       "\n",
       "         UniqueCarrier_AA  UniqueCarrier_AQ  UniqueCarrier_AS  \\\n",
       "1205104                 0                 0                 0   \n",
       "615091                  0                 0                 0   \n",
       "1317914                 0                 0                 0   \n",
       "1737109                 0                 0                 0   \n",
       "903835                  0                 0                 0   \n",
       "\n",
       "         UniqueCarrier_B6  ...  UniqueCarrier_HA  UniqueCarrier_MQ  \\\n",
       "1205104                 0  ...                 0                 1   \n",
       "615091                  0  ...                 0                 0   \n",
       "1317914                 0  ...                 0                 0   \n",
       "1737109                 0  ...                 0                 0   \n",
       "903835                  0  ...                 0                 0   \n",
       "\n",
       "         UniqueCarrier_NW  UniqueCarrier_OH  UniqueCarrier_OO  \\\n",
       "1205104                 0                 0                 0   \n",
       "615091                  0                 1                 0   \n",
       "1317914                 0                 0                 1   \n",
       "1737109                 0                 0                 0   \n",
       "903835                  0                 0                 0   \n",
       "\n",
       "         UniqueCarrier_UA  UniqueCarrier_US  UniqueCarrier_WN  \\\n",
       "1205104                 0                 0                 0   \n",
       "615091                  0                 0                 0   \n",
       "1317914                 0                 0                 0   \n",
       "1737109                 0                 0                 1   \n",
       "903835                  0                 0                 1   \n",
       "\n",
       "         UniqueCarrier_XE  UniqueCarrier_YV  \n",
       "1205104                 0                 0  \n",
       "615091                  0                 0  \n",
       "1317914                 0                 0  \n",
       "1737109                 0                 0  \n",
       "903835                  0                 0  \n",
       "\n",
       "[5 rows x 25 columns]"
      ]
     },
     "execution_count": 20,
     "metadata": {},
     "output_type": "execute_result"
    }
   ],
   "source": [
    "X_test.head()"
   ]
  },
  {
   "cell_type": "markdown",
   "metadata": {},
   "source": [
    "<span style=color:green><b>REGRESSION MODELS"
   ]
  },
  {
   "cell_type": "markdown",
   "metadata": {
    "ExecuteTime": {
     "end_time": "2021-05-17T13:53:12.526223Z",
     "start_time": "2021-05-17T13:53:12.507230Z"
    }
   },
   "source": [
    "<span style=color:green><b>MLR - MULTIPLE LINEAR REGRESSION</span>"
   ]
  },
  {
   "cell_type": "code",
   "execution_count": 21,
   "metadata": {
    "ExecuteTime": {
     "end_time": "2021-06-04T16:40:52.747584Z",
     "start_time": "2021-06-04T16:40:52.675629Z"
    },
    "scrolled": false
   },
   "outputs": [],
   "source": [
    "from sklearn.linear_model import LinearRegression\n",
    "\n",
    "regressor = LinearRegression()\n",
    "model_mlr = regressor.fit(X_train, y_train)"
   ]
  },
  {
   "cell_type": "markdown",
   "metadata": {
    "ExecuteTime": {
     "end_time": "2021-05-19T12:50:33.115150Z",
     "start_time": "2021-05-19T12:50:33.094138Z"
    }
   },
   "source": [
    "<span style=color:green>R-squared</span>"
   ]
  },
  {
   "cell_type": "code",
   "execution_count": 22,
   "metadata": {
    "ExecuteTime": {
     "end_time": "2021-06-04T16:40:54.750714Z",
     "start_time": "2021-06-04T16:40:54.727731Z"
    }
   },
   "outputs": [
    {
     "data": {
      "text/plain": [
       "0.9583286174052228"
      ]
     },
     "execution_count": 22,
     "metadata": {},
     "output_type": "execute_result"
    }
   ],
   "source": [
    "model_mlr.score(X_test, y_test)"
   ]
  },
  {
   "cell_type": "markdown",
   "metadata": {},
   "source": [
    "<span style=color:green>Predictions</span>"
   ]
  },
  {
   "cell_type": "code",
   "execution_count": 23,
   "metadata": {
    "ExecuteTime": {
     "end_time": "2021-06-04T16:41:26.515317Z",
     "start_time": "2021-06-04T16:41:26.492683Z"
    }
   },
   "outputs": [],
   "source": [
    "y_pred_mlr = model_mlr.predict(X_test)"
   ]
  },
  {
   "cell_type": "code",
   "execution_count": 24,
   "metadata": {
    "ExecuteTime": {
     "end_time": "2021-06-04T16:41:27.524696Z",
     "start_time": "2021-06-04T16:41:27.504711Z"
    }
   },
   "outputs": [
    {
     "data": {
      "text/html": [
       "<div>\n",
       "<style scoped>\n",
       "    .dataframe tbody tr th:only-of-type {\n",
       "        vertical-align: middle;\n",
       "    }\n",
       "\n",
       "    .dataframe tbody tr th {\n",
       "        vertical-align: top;\n",
       "    }\n",
       "\n",
       "    .dataframe thead th {\n",
       "        text-align: right;\n",
       "    }\n",
       "</style>\n",
       "<table border=\"1\" class=\"dataframe\">\n",
       "  <thead>\n",
       "    <tr style=\"text-align: right;\">\n",
       "      <th></th>\n",
       "      <th>Actual</th>\n",
       "      <th>Predicted</th>\n",
       "    </tr>\n",
       "  </thead>\n",
       "  <tbody>\n",
       "    <tr>\n",
       "      <th>1205104</th>\n",
       "      <td>152.0</td>\n",
       "      <td>144.492173</td>\n",
       "    </tr>\n",
       "    <tr>\n",
       "      <th>615091</th>\n",
       "      <td>27.0</td>\n",
       "      <td>22.076694</td>\n",
       "    </tr>\n",
       "    <tr>\n",
       "      <th>1317914</th>\n",
       "      <td>39.0</td>\n",
       "      <td>42.053562</td>\n",
       "    </tr>\n",
       "    <tr>\n",
       "      <th>1737109</th>\n",
       "      <td>49.0</td>\n",
       "      <td>49.817190</td>\n",
       "    </tr>\n",
       "    <tr>\n",
       "      <th>903835</th>\n",
       "      <td>87.0</td>\n",
       "      <td>84.017259</td>\n",
       "    </tr>\n",
       "    <tr>\n",
       "      <th>...</th>\n",
       "      <td>...</td>\n",
       "      <td>...</td>\n",
       "    </tr>\n",
       "    <tr>\n",
       "      <th>1250965</th>\n",
       "      <td>147.0</td>\n",
       "      <td>138.159779</td>\n",
       "    </tr>\n",
       "    <tr>\n",
       "      <th>1051615</th>\n",
       "      <td>95.0</td>\n",
       "      <td>91.079161</td>\n",
       "    </tr>\n",
       "    <tr>\n",
       "      <th>1728299</th>\n",
       "      <td>75.0</td>\n",
       "      <td>86.004859</td>\n",
       "    </tr>\n",
       "    <tr>\n",
       "      <th>282001</th>\n",
       "      <td>-1.0</td>\n",
       "      <td>3.904786</td>\n",
       "    </tr>\n",
       "    <tr>\n",
       "      <th>1486154</th>\n",
       "      <td>182.0</td>\n",
       "      <td>182.563562</td>\n",
       "    </tr>\n",
       "  </tbody>\n",
       "</table>\n",
       "<p>2000 rows × 2 columns</p>\n",
       "</div>"
      ],
      "text/plain": [
       "         Actual   Predicted\n",
       "1205104   152.0  144.492173\n",
       "615091     27.0   22.076694\n",
       "1317914    39.0   42.053562\n",
       "1737109    49.0   49.817190\n",
       "903835     87.0   84.017259\n",
       "...         ...         ...\n",
       "1250965   147.0  138.159779\n",
       "1051615    95.0   91.079161\n",
       "1728299    75.0   86.004859\n",
       "282001     -1.0    3.904786\n",
       "1486154   182.0  182.563562\n",
       "\n",
       "[2000 rows x 2 columns]"
      ]
     },
     "execution_count": 24,
     "metadata": {},
     "output_type": "execute_result"
    }
   ],
   "source": [
    "df_y_pred_mlr = pd.DataFrame({'Actual': y_test, 'Predicted': y_pred_mlr})\n",
    "df_y_pred_mlr"
   ]
  },
  {
   "cell_type": "markdown",
   "metadata": {},
   "source": [
    "<span style=color:green>Evaluating Algorithm</span>"
   ]
  },
  {
   "cell_type": "code",
   "execution_count": 25,
   "metadata": {
    "ExecuteTime": {
     "end_time": "2021-06-04T16:41:35.278824Z",
     "start_time": "2021-06-04T16:41:35.257837Z"
    },
    "scrolled": false
   },
   "outputs": [
    {
     "name": "stdout",
     "output_type": "stream",
     "text": [
      "Mean Absolute Error: 8.011397134517312\n",
      "Mean Squared Error: 125.09090621062519\n",
      "Root Mean Squared Error: 11.18440459794911\n"
     ]
    }
   ],
   "source": [
    "print('Mean Absolute Error:', metrics.mean_absolute_error(y_test, y_pred_mlr))\n",
    "print('Mean Squared Error:', metrics.mean_squared_error(y_test, y_pred_mlr))\n",
    "print('Root Mean Squared Error:', np.sqrt(metrics.mean_squared_error(y_test, y_pred_mlr)))"
   ]
  },
  {
   "cell_type": "markdown",
   "metadata": {},
   "source": [
    "<span style=color:green><b>RANDOM FOREST </span>"
   ]
  },
  {
   "cell_type": "code",
   "execution_count": 26,
   "metadata": {
    "ExecuteTime": {
     "end_time": "2021-06-04T16:41:54.322022Z",
     "start_time": "2021-06-04T16:41:38.743593Z"
    }
   },
   "outputs": [],
   "source": [
    "from sklearn.ensemble import RandomForestRegressor\n",
    "\n",
    "# model with 1000 decision trees\n",
    "rf = RandomForestRegressor(n_estimators=200, random_state=42)\n",
    "model_rf = rf.fit(X_train, y_train)"
   ]
  },
  {
   "cell_type": "markdown",
   "metadata": {
    "ExecuteTime": {
     "end_time": "2021-05-19T12:50:33.115150Z",
     "start_time": "2021-05-19T12:50:33.094138Z"
    }
   },
   "source": [
    "<span style=color:green>R-squared</span>"
   ]
  },
  {
   "cell_type": "code",
   "execution_count": 27,
   "metadata": {
    "ExecuteTime": {
     "end_time": "2021-06-04T16:41:54.590047Z",
     "start_time": "2021-06-04T16:41:54.322022Z"
    }
   },
   "outputs": [
    {
     "data": {
      "text/plain": [
       "0.9480335153799598"
      ]
     },
     "execution_count": 27,
     "metadata": {},
     "output_type": "execute_result"
    }
   ],
   "source": [
    "model_rf.score(X_test, y_test)"
   ]
  },
  {
   "cell_type": "markdown",
   "metadata": {},
   "source": [
    "<span style=color:green>Coefficients for all the attributes</span>"
   ]
  },
  {
   "cell_type": "code",
   "execution_count": 28,
   "metadata": {
    "ExecuteTime": {
     "end_time": "2021-06-04T16:41:59.708682Z",
     "start_time": "2021-06-04T16:41:59.621725Z"
    }
   },
   "outputs": [
    {
     "data": {
      "text/plain": [
       "array([3.05722874e-03, 7.66769136e-03, 7.07107621e-03, 9.10401973e-01,\n",
       "       8.32845873e-03, 5.39150081e-02, 7.25283130e-04, 4.85308033e-06,\n",
       "       1.94388990e-04, 6.01725618e-04, 1.28365865e-03, 5.62995598e-04,\n",
       "       3.81294105e-04, 1.16394936e-04, 3.29166498e-04, 2.43563317e-04,\n",
       "       4.36897322e-04, 8.69574509e-04, 6.60682683e-04, 4.13311556e-04,\n",
       "       7.39059565e-04, 5.62003287e-04, 6.02244190e-04, 6.10994506e-04,\n",
       "       2.20472769e-04])"
      ]
     },
     "execution_count": 28,
     "metadata": {},
     "output_type": "execute_result"
    }
   ],
   "source": [
    "model_rf.feature_importances_"
   ]
  },
  {
   "cell_type": "markdown",
   "metadata": {},
   "source": [
    "<span style=color:green>Predictions</span>"
   ]
  },
  {
   "cell_type": "code",
   "execution_count": 29,
   "metadata": {
    "ExecuteTime": {
     "end_time": "2021-06-04T16:42:03.400590Z",
     "start_time": "2021-06-04T16:42:03.168701Z"
    }
   },
   "outputs": [],
   "source": [
    "y_pred_rf = model_rf.predict(X_test)"
   ]
  },
  {
   "cell_type": "code",
   "execution_count": 30,
   "metadata": {
    "ExecuteTime": {
     "end_time": "2021-06-04T16:42:28.647730Z",
     "start_time": "2021-06-04T16:42:28.612767Z"
    },
    "scrolled": false
   },
   "outputs": [
    {
     "data": {
      "text/html": [
       "<div>\n",
       "<style scoped>\n",
       "    .dataframe tbody tr th:only-of-type {\n",
       "        vertical-align: middle;\n",
       "    }\n",
       "\n",
       "    .dataframe tbody tr th {\n",
       "        vertical-align: top;\n",
       "    }\n",
       "\n",
       "    .dataframe thead th {\n",
       "        text-align: right;\n",
       "    }\n",
       "</style>\n",
       "<table border=\"1\" class=\"dataframe\">\n",
       "  <thead>\n",
       "    <tr style=\"text-align: right;\">\n",
       "      <th></th>\n",
       "      <th>Actual</th>\n",
       "      <th>Predicted</th>\n",
       "    </tr>\n",
       "  </thead>\n",
       "  <tbody>\n",
       "    <tr>\n",
       "      <th>1205104</th>\n",
       "      <td>152.0</td>\n",
       "      <td>147.855</td>\n",
       "    </tr>\n",
       "    <tr>\n",
       "      <th>615091</th>\n",
       "      <td>27.0</td>\n",
       "      <td>19.825</td>\n",
       "    </tr>\n",
       "    <tr>\n",
       "      <th>1317914</th>\n",
       "      <td>39.0</td>\n",
       "      <td>40.730</td>\n",
       "    </tr>\n",
       "    <tr>\n",
       "      <th>1737109</th>\n",
       "      <td>49.0</td>\n",
       "      <td>48.175</td>\n",
       "    </tr>\n",
       "    <tr>\n",
       "      <th>903835</th>\n",
       "      <td>87.0</td>\n",
       "      <td>79.205</td>\n",
       "    </tr>\n",
       "    <tr>\n",
       "      <th>...</th>\n",
       "      <td>...</td>\n",
       "      <td>...</td>\n",
       "    </tr>\n",
       "    <tr>\n",
       "      <th>1250965</th>\n",
       "      <td>147.0</td>\n",
       "      <td>145.595</td>\n",
       "    </tr>\n",
       "    <tr>\n",
       "      <th>1051615</th>\n",
       "      <td>95.0</td>\n",
       "      <td>89.965</td>\n",
       "    </tr>\n",
       "    <tr>\n",
       "      <th>1728299</th>\n",
       "      <td>75.0</td>\n",
       "      <td>80.220</td>\n",
       "    </tr>\n",
       "    <tr>\n",
       "      <th>282001</th>\n",
       "      <td>-1.0</td>\n",
       "      <td>8.900</td>\n",
       "    </tr>\n",
       "    <tr>\n",
       "      <th>1486154</th>\n",
       "      <td>182.0</td>\n",
       "      <td>186.740</td>\n",
       "    </tr>\n",
       "  </tbody>\n",
       "</table>\n",
       "<p>2000 rows × 2 columns</p>\n",
       "</div>"
      ],
      "text/plain": [
       "         Actual  Predicted\n",
       "1205104   152.0    147.855\n",
       "615091     27.0     19.825\n",
       "1317914    39.0     40.730\n",
       "1737109    49.0     48.175\n",
       "903835     87.0     79.205\n",
       "...         ...        ...\n",
       "1250965   147.0    145.595\n",
       "1051615    95.0     89.965\n",
       "1728299    75.0     80.220\n",
       "282001     -1.0      8.900\n",
       "1486154   182.0    186.740\n",
       "\n",
       "[2000 rows x 2 columns]"
      ]
     },
     "execution_count": 30,
     "metadata": {},
     "output_type": "execute_result"
    }
   ],
   "source": [
    "df_y_pred_rf = pd.DataFrame({'Actual': y_test, 'Predicted': y_pred_rf})\n",
    "df_y_pred_rf"
   ]
  },
  {
   "cell_type": "markdown",
   "metadata": {},
   "source": [
    "<span style=color:green>Evaluating Algorithm</span>"
   ]
  },
  {
   "cell_type": "code",
   "execution_count": 31,
   "metadata": {
    "ExecuteTime": {
     "end_time": "2021-06-04T16:42:32.379702Z",
     "start_time": "2021-06-04T16:42:32.362715Z"
    },
    "scrolled": false
   },
   "outputs": [
    {
     "name": "stdout",
     "output_type": "stream",
     "text": [
      "Mean Absolute Error: 8.599884999999999\n",
      "Mean Squared Error: 155.99517580000003\n",
      "Root Mean Squared Error: 12.48980287274383\n"
     ]
    }
   ],
   "source": [
    "print('Mean Absolute Error:', metrics.mean_absolute_error(y_test, y_pred_rf))\n",
    "print('Mean Squared Error:', metrics.mean_squared_error(y_test, y_pred_rf))\n",
    "print('Root Mean Squared Error:', np.sqrt(metrics.mean_squared_error(y_test, y_pred_rf)))"
   ]
  },
  {
   "cell_type": "markdown",
   "metadata": {},
   "source": [
    "<span style=color:green><b>XGBOOST </span>"
   ]
  },
  {
   "cell_type": "code",
   "execution_count": 32,
   "metadata": {
    "ExecuteTime": {
     "end_time": "2021-06-04T16:42:35.519378Z",
     "start_time": "2021-06-04T16:42:34.950716Z"
    }
   },
   "outputs": [
    {
     "name": "stdout",
     "output_type": "stream",
     "text": [
      "[18:42:35] WARNING: C:/Users/Administrator/workspace/xgboost-win64_release_1.4.0/src/objective/regression_obj.cu:171: reg:linear is now deprecated in favor of reg:squarederror.\n"
     ]
    }
   ],
   "source": [
    "import xgboost as xg\n",
    "from sklearn.metrics import mean_squared_error\n",
    "\n",
    "xgb_r = xg.XGBRegressor(objective ='reg:linear',\n",
    "                  n_estimators = 10, seed = 123)\n",
    "model_xgb = xgb_r.fit(X_train, y_train)"
   ]
  },
  {
   "cell_type": "markdown",
   "metadata": {
    "ExecuteTime": {
     "end_time": "2021-05-19T12:50:33.115150Z",
     "start_time": "2021-05-19T12:50:33.094138Z"
    }
   },
   "source": [
    "<span style=color:green>R-squared</span>"
   ]
  },
  {
   "cell_type": "code",
   "execution_count": 33,
   "metadata": {
    "ExecuteTime": {
     "end_time": "2021-06-04T16:42:37.674690Z",
     "start_time": "2021-06-04T16:42:37.641714Z"
    }
   },
   "outputs": [
    {
     "data": {
      "text/plain": [
       "0.9462634229440969"
      ]
     },
     "execution_count": 33,
     "metadata": {},
     "output_type": "execute_result"
    }
   ],
   "source": [
    "model_xgb.score(X_test, y_test)"
   ]
  },
  {
   "cell_type": "markdown",
   "metadata": {},
   "source": [
    "<span style=color:green>Coefficients for all the attributes</span>"
   ]
  },
  {
   "cell_type": "code",
   "execution_count": 34,
   "metadata": {
    "ExecuteTime": {
     "end_time": "2021-06-04T16:42:40.074719Z",
     "start_time": "2021-06-04T16:42:40.045735Z"
    },
    "scrolled": true
   },
   "outputs": [
    {
     "data": {
      "text/plain": [
       "array([1.2507229e-03, 3.0304957e-03, 3.1506997e-03, 9.0982699e-01,\n",
       "       8.5160062e-03, 4.0973555e-02, 0.0000000e+00, 0.0000000e+00,\n",
       "       5.7797291e-04, 4.0081851e-03, 4.5425296e-03, 3.9479220e-03,\n",
       "       0.0000000e+00, 0.0000000e+00, 0.0000000e+00, 3.3344522e-03,\n",
       "       0.0000000e+00, 0.0000000e+00, 3.0737282e-03, 4.3621510e-03,\n",
       "       2.0077038e-03, 2.4025415e-03, 3.1038462e-03, 1.8904796e-03,\n",
       "       0.0000000e+00], dtype=float32)"
      ]
     },
     "execution_count": 34,
     "metadata": {},
     "output_type": "execute_result"
    }
   ],
   "source": [
    "model_xgb.feature_importances_"
   ]
  },
  {
   "cell_type": "markdown",
   "metadata": {},
   "source": [
    "<span style=color:green>Predictions</span>"
   ]
  },
  {
   "cell_type": "code",
   "execution_count": 35,
   "metadata": {
    "ExecuteTime": {
     "end_time": "2021-06-04T16:42:43.489713Z",
     "start_time": "2021-06-04T16:42:43.462729Z"
    }
   },
   "outputs": [],
   "source": [
    "y_pred_xgb = model_xgb.predict(X_test)"
   ]
  },
  {
   "cell_type": "code",
   "execution_count": 36,
   "metadata": {
    "ExecuteTime": {
     "end_time": "2021-06-04T16:42:44.207749Z",
     "start_time": "2021-06-04T16:42:44.172773Z"
    },
    "scrolled": true
   },
   "outputs": [
    {
     "data": {
      "text/html": [
       "<div>\n",
       "<style scoped>\n",
       "    .dataframe tbody tr th:only-of-type {\n",
       "        vertical-align: middle;\n",
       "    }\n",
       "\n",
       "    .dataframe tbody tr th {\n",
       "        vertical-align: top;\n",
       "    }\n",
       "\n",
       "    .dataframe thead th {\n",
       "        text-align: right;\n",
       "    }\n",
       "</style>\n",
       "<table border=\"1\" class=\"dataframe\">\n",
       "  <thead>\n",
       "    <tr style=\"text-align: right;\">\n",
       "      <th></th>\n",
       "      <th>Actual</th>\n",
       "      <th>Predicted</th>\n",
       "    </tr>\n",
       "  </thead>\n",
       "  <tbody>\n",
       "    <tr>\n",
       "      <th>1205104</th>\n",
       "      <td>152.0</td>\n",
       "      <td>143.346893</td>\n",
       "    </tr>\n",
       "    <tr>\n",
       "      <th>615091</th>\n",
       "      <td>27.0</td>\n",
       "      <td>24.781116</td>\n",
       "    </tr>\n",
       "    <tr>\n",
       "      <th>1317914</th>\n",
       "      <td>39.0</td>\n",
       "      <td>38.285057</td>\n",
       "    </tr>\n",
       "    <tr>\n",
       "      <th>1737109</th>\n",
       "      <td>49.0</td>\n",
       "      <td>46.764645</td>\n",
       "    </tr>\n",
       "    <tr>\n",
       "      <th>903835</th>\n",
       "      <td>87.0</td>\n",
       "      <td>79.577415</td>\n",
       "    </tr>\n",
       "    <tr>\n",
       "      <th>...</th>\n",
       "      <td>...</td>\n",
       "      <td>...</td>\n",
       "    </tr>\n",
       "    <tr>\n",
       "      <th>1250965</th>\n",
       "      <td>147.0</td>\n",
       "      <td>141.312714</td>\n",
       "    </tr>\n",
       "    <tr>\n",
       "      <th>1051615</th>\n",
       "      <td>95.0</td>\n",
       "      <td>83.031395</td>\n",
       "    </tr>\n",
       "    <tr>\n",
       "      <th>1728299</th>\n",
       "      <td>75.0</td>\n",
       "      <td>80.855629</td>\n",
       "    </tr>\n",
       "    <tr>\n",
       "      <th>282001</th>\n",
       "      <td>-1.0</td>\n",
       "      <td>5.365035</td>\n",
       "    </tr>\n",
       "    <tr>\n",
       "      <th>1486154</th>\n",
       "      <td>182.0</td>\n",
       "      <td>182.094498</td>\n",
       "    </tr>\n",
       "  </tbody>\n",
       "</table>\n",
       "<p>2000 rows × 2 columns</p>\n",
       "</div>"
      ],
      "text/plain": [
       "         Actual   Predicted\n",
       "1205104   152.0  143.346893\n",
       "615091     27.0   24.781116\n",
       "1317914    39.0   38.285057\n",
       "1737109    49.0   46.764645\n",
       "903835     87.0   79.577415\n",
       "...         ...         ...\n",
       "1250965   147.0  141.312714\n",
       "1051615    95.0   83.031395\n",
       "1728299    75.0   80.855629\n",
       "282001     -1.0    5.365035\n",
       "1486154   182.0  182.094498\n",
       "\n",
       "[2000 rows x 2 columns]"
      ]
     },
     "execution_count": 36,
     "metadata": {},
     "output_type": "execute_result"
    }
   ],
   "source": [
    "df_y_pred_xgb = pd.DataFrame({'Actual': y_test, 'Predicted': y_pred_xgb})\n",
    "df_y_pred_xgb"
   ]
  },
  {
   "cell_type": "markdown",
   "metadata": {},
   "source": [
    "<span style=color:green>Evaluating Algorithm</span>"
   ]
  },
  {
   "cell_type": "code",
   "execution_count": 37,
   "metadata": {
    "ExecuteTime": {
     "end_time": "2021-06-04T16:42:46.758736Z",
     "start_time": "2021-06-04T16:42:46.742746Z"
    }
   },
   "outputs": [
    {
     "name": "stdout",
     "output_type": "stream",
     "text": [
      "Mean Absolute Error: 8.653206110909581\n",
      "Mean Squared Error: 161.3087136067925\n",
      "Root Mean Squared Error: 12.700736734803714\n"
     ]
    }
   ],
   "source": [
    "print('Mean Absolute Error:', metrics.mean_absolute_error(y_test, y_pred_xgb))\n",
    "print('Mean Squared Error:', metrics.mean_squared_error(y_test, y_pred_xgb))\n",
    "print('Root Mean Squared Error:', np.sqrt(metrics.mean_squared_error(y_test, y_pred_xgb)))"
   ]
  },
  {
   "cell_type": "markdown",
   "metadata": {},
   "source": [
    "<u style=color:blue>Exercici 2:</u>\n",
    "\n",
    "<span style=color:blue>Compara’ls en base al MSE i al R2 .</span>"
   ]
  },
  {
   "cell_type": "markdown",
   "metadata": {
    "ExecuteTime": {
     "end_time": "2021-05-11T15:41:19.360714Z",
     "start_time": "2021-05-11T15:41:19.282756Z"
    }
   },
   "source": [
    "<span style=color:green><b>R-squared value is: </span>        "
   ]
  },
  {
   "cell_type": "code",
   "execution_count": 38,
   "metadata": {
    "ExecuteTime": {
     "end_time": "2021-06-04T16:42:48.993150Z",
     "start_time": "2021-06-04T16:42:48.686689Z"
    }
   },
   "outputs": [
    {
     "name": "stdout",
     "output_type": "stream",
     "text": [
      "1.Multiple linear regression  0.95833\n",
      "2.Random forest regression 0.94803\n",
      "3.Xgboost regression 0.94626\n"
     ]
    }
   ],
   "source": [
    "print('1.Multiple linear regression ', model_mlr.score(X_test, y_test).round(5))\n",
    "print('2.Random forest regression', model_rf.score(X_test, y_test).round(5))\n",
    "print('3.Xgboost regression', model_xgb.score(X_test, y_test).round(5))"
   ]
  },
  {
   "cell_type": "markdown",
   "metadata": {
    "ExecuteTime": {
     "end_time": "2021-05-11T15:41:19.360714Z",
     "start_time": "2021-05-11T15:41:19.282756Z"
    }
   },
   "source": [
    "<span style=color:green><b>MSE Mean Squared Error  </span>     "
   ]
  },
  {
   "cell_type": "code",
   "execution_count": 39,
   "metadata": {
    "ExecuteTime": {
     "end_time": "2021-06-04T16:42:50.540461Z",
     "start_time": "2021-06-04T16:42:50.518475Z"
    }
   },
   "outputs": [
    {
     "name": "stdout",
     "output_type": "stream",
     "text": [
      "1.Multiple linear regression  125.1\n",
      "2.Random forest regression 156.0\n",
      "3.Xgboost regression 161.3\n"
     ]
    }
   ],
   "source": [
    "print('1.Multiple linear regression ', metrics.mean_squared_error(y_test, y_pred_mlr).round(1))\n",
    "print('2.Random forest regression', metrics.mean_squared_error(y_test, y_pred_rf).round(1))\n",
    "print('3.Xgboost regression', metrics.mean_squared_error(y_test, y_pred_xgb).round(1))"
   ]
  },
  {
   "cell_type": "markdown",
   "metadata": {
    "ExecuteTime": {
     "end_time": "2021-05-06T09:09:25.790158Z",
     "start_time": "2021-05-06T09:09:25.769153Z"
    }
   },
   "source": [
    "<span style=color:green>*The multiple linear regression seems to give the best results*</span>"
   ]
  },
  {
   "cell_type": "markdown",
   "metadata": {},
   "source": [
    "<u style=color:blue>Exercici 3:</u>\n",
    "\n",
    "<span style=color:blue>Entrena’ls utilitzant els diferents paràmetres que admeten.</span>"
   ]
  },
  {
   "cell_type": "markdown",
   "metadata": {
    "ExecuteTime": {
     "end_time": "2021-05-11T15:41:19.360714Z",
     "start_time": "2021-05-11T15:41:19.282756Z"
    }
   },
   "source": [
    "<span style=color:green><b>RANDOM FOREST tuning</span>     "
   ]
  },
  {
   "cell_type": "code",
   "execution_count": 40,
   "metadata": {
    "ExecuteTime": {
     "end_time": "2021-06-04T16:42:54.033727Z",
     "start_time": "2021-06-04T16:42:54.010739Z"
    }
   },
   "outputs": [
    {
     "name": "stdout",
     "output_type": "stream",
     "text": [
      "Parameters currently in use in rf model:\n",
      "\n",
      "{'bootstrap': True,\n",
      " 'ccp_alpha': 0.0,\n",
      " 'criterion': 'mse',\n",
      " 'max_depth': None,\n",
      " 'max_features': 'auto',\n",
      " 'max_leaf_nodes': None,\n",
      " 'max_samples': None,\n",
      " 'min_impurity_decrease': 0.0,\n",
      " 'min_impurity_split': None,\n",
      " 'min_samples_leaf': 1,\n",
      " 'min_samples_split': 2,\n",
      " 'min_weight_fraction_leaf': 0.0,\n",
      " 'n_estimators': 200,\n",
      " 'n_jobs': None,\n",
      " 'oob_score': False,\n",
      " 'random_state': 42,\n",
      " 'verbose': 0,\n",
      " 'warm_start': False}\n"
     ]
    }
   ],
   "source": [
    "from pprint import pprint\n",
    "# Look at parameters used by our current forest\n",
    "print('Parameters currently in use in rf model:\\n')\n",
    "pprint(rf.get_params())"
   ]
  },
  {
   "cell_type": "code",
   "execution_count": 41,
   "metadata": {
    "ExecuteTime": {
     "end_time": "2021-06-04T16:42:56.452733Z",
     "start_time": "2021-06-04T16:42:56.438722Z"
    }
   },
   "outputs": [],
   "source": [
    "param_grid = { \n",
    "    'n_estimators': [200, 500],\n",
    "    'max_features': ['auto', 'sqrt', 'log2'],\n",
    "}"
   ]
  },
  {
   "cell_type": "code",
   "execution_count": 43,
   "metadata": {
    "ExecuteTime": {
     "end_time": "2021-06-04T11:41:41.950075Z",
     "start_time": "2021-06-04T11:35:14.637349Z"
    }
   },
   "outputs": [
    {
     "data": {
      "text/plain": [
       "GridSearchCV(cv=5,\n",
       "             estimator=RandomForestRegressor(n_estimators=200, random_state=42),\n",
       "             param_grid={'max_features': ['auto', 'sqrt', 'log2'],\n",
       "                         'n_estimators': [200, 500]})"
      ]
     },
     "execution_count": 43,
     "metadata": {},
     "output_type": "execute_result"
    }
   ],
   "source": [
    "from sklearn.model_selection import GridSearchCV\n",
    "\n",
    "CV_rf = GridSearchCV(estimator=rf, param_grid=param_grid, cv= 5)\n",
    "CV_rf.fit(X_train, y_train)"
   ]
  },
  {
   "cell_type": "code",
   "execution_count": 44,
   "metadata": {
    "ExecuteTime": {
     "end_time": "2021-06-04T11:41:46.139374Z",
     "start_time": "2021-06-04T11:41:46.116391Z"
    }
   },
   "outputs": [
    {
     "data": {
      "text/plain": [
       "{'max_features': 'auto', 'n_estimators': 500}"
      ]
     },
     "execution_count": 44,
     "metadata": {},
     "output_type": "execute_result"
    }
   ],
   "source": [
    "CV_rf.best_params_"
   ]
  },
  {
   "cell_type": "code",
   "execution_count": 45,
   "metadata": {
    "ExecuteTime": {
     "end_time": "2021-06-04T11:42:25.597107Z",
     "start_time": "2021-06-04T11:41:48.010389Z"
    }
   },
   "outputs": [],
   "source": [
    "rf1 = RandomForestRegressor(random_state=42, max_features='auto', n_estimators= 500)\n",
    "model_rf1 = rf1.fit(X_train, y_train)"
   ]
  },
  {
   "cell_type": "code",
   "execution_count": 53,
   "metadata": {
    "ExecuteTime": {
     "end_time": "2021-06-04T11:45:53.100667Z",
     "start_time": "2021-06-04T11:45:52.495017Z"
    }
   },
   "outputs": [
    {
     "name": "stdout",
     "output_type": "stream",
     "text": [
      "Random forest regression_CV 0.94835\n"
     ]
    }
   ],
   "source": [
    "print('Random forest regression_CV', model_rf1.score(X_test, y_test).round(5))"
   ]
  },
  {
   "cell_type": "markdown",
   "metadata": {
    "ExecuteTime": {
     "end_time": "2021-06-04T10:51:00.555985Z",
     "start_time": "2021-06-04T10:51:00.548988Z"
    }
   },
   "source": [
    "<span style=color:green>*R2 has improved very slightly from 0.94803 to 0.94835*</span>\n",
    "\n",
    "<span style=color:green>*with additional parameters and computation, we can certainly improve again R2*</span>"
   ]
  },
  {
   "cell_type": "markdown",
   "metadata": {},
   "source": [
    "#### <span style=color:green>XGBOOST tuning </span>"
   ]
  },
  {
   "cell_type": "code",
   "execution_count": 81,
   "metadata": {
    "ExecuteTime": {
     "end_time": "2021-06-04T12:07:11.974105Z",
     "start_time": "2021-06-04T12:07:11.943103Z"
    }
   },
   "outputs": [
    {
     "name": "stdout",
     "output_type": "stream",
     "text": [
      "{'base_score': 0.5,\n",
      " 'booster': 'gbtree',\n",
      " 'colsample_bylevel': 1,\n",
      " 'colsample_bynode': 1,\n",
      " 'colsample_bytree': 1,\n",
      " 'gamma': 0,\n",
      " 'gpu_id': -1,\n",
      " 'importance_type': 'gain',\n",
      " 'interaction_constraints': '',\n",
      " 'learning_rate': 0.300000012,\n",
      " 'max_delta_step': 0,\n",
      " 'max_depth': 6,\n",
      " 'min_child_weight': 1,\n",
      " 'missing': nan,\n",
      " 'monotone_constraints': '()',\n",
      " 'n_estimators': 10,\n",
      " 'n_jobs': 4,\n",
      " 'num_parallel_tree': 1,\n",
      " 'objective': 'reg:linear',\n",
      " 'random_state': 123,\n",
      " 'reg_alpha': 0,\n",
      " 'reg_lambda': 1,\n",
      " 'scale_pos_weight': 1,\n",
      " 'seed': 123,\n",
      " 'subsample': 1,\n",
      " 'tree_method': 'exact',\n",
      " 'validate_parameters': 1,\n",
      " 'verbosity': None}\n"
     ]
    }
   ],
   "source": [
    "pprint(xgb_r.get_params())"
   ]
  },
  {
   "cell_type": "code",
   "execution_count": 82,
   "metadata": {
    "ExecuteTime": {
     "end_time": "2021-06-04T12:07:12.959150Z",
     "start_time": "2021-06-04T12:07:12.949147Z"
    }
   },
   "outputs": [],
   "source": [
    "param_grid = { \n",
    "    'n_estimators': [5,10,20,50,100],\n",
    "    'max_depth': [5, 6, 7],\n",
    "}"
   ]
  },
  {
   "cell_type": "code",
   "execution_count": 83,
   "metadata": {
    "ExecuteTime": {
     "end_time": "2021-06-04T12:07:58.098431Z",
     "start_time": "2021-06-04T12:07:13.944096Z"
    }
   },
   "outputs": [
    {
     "name": "stdout",
     "output_type": "stream",
     "text": [
      "[14:07:13] WARNING: C:/Users/Administrator/workspace/xgboost-win64_release_1.4.0/src/objective/regression_obj.cu:171: reg:linear is now deprecated in favor of reg:squarederror.\n",
      "[14:07:14] WARNING: C:/Users/Administrator/workspace/xgboost-win64_release_1.4.0/src/objective/regression_obj.cu:171: reg:linear is now deprecated in favor of reg:squarederror.\n",
      "[14:07:14] WARNING: C:/Users/Administrator/workspace/xgboost-win64_release_1.4.0/src/objective/regression_obj.cu:171: reg:linear is now deprecated in favor of reg:squarederror.\n",
      "[14:07:14] WARNING: C:/Users/Administrator/workspace/xgboost-win64_release_1.4.0/src/objective/regression_obj.cu:171: reg:linear is now deprecated in favor of reg:squarederror.\n",
      "[14:07:14] WARNING: C:/Users/Administrator/workspace/xgboost-win64_release_1.4.0/src/objective/regression_obj.cu:171: reg:linear is now deprecated in favor of reg:squarederror.\n",
      "[14:07:14] WARNING: C:/Users/Administrator/workspace/xgboost-win64_release_1.4.0/src/objective/regression_obj.cu:171: reg:linear is now deprecated in favor of reg:squarederror.\n",
      "[14:07:14] WARNING: C:/Users/Administrator/workspace/xgboost-win64_release_1.4.0/src/objective/regression_obj.cu:171: reg:linear is now deprecated in favor of reg:squarederror.\n",
      "[14:07:15] WARNING: C:/Users/Administrator/workspace/xgboost-win64_release_1.4.0/src/objective/regression_obj.cu:171: reg:linear is now deprecated in favor of reg:squarederror.\n",
      "[14:07:15] WARNING: C:/Users/Administrator/workspace/xgboost-win64_release_1.4.0/src/objective/regression_obj.cu:171: reg:linear is now deprecated in favor of reg:squarederror.\n",
      "[14:07:15] WARNING: C:/Users/Administrator/workspace/xgboost-win64_release_1.4.0/src/objective/regression_obj.cu:171: reg:linear is now deprecated in favor of reg:squarederror.\n",
      "[14:07:15] WARNING: C:/Users/Administrator/workspace/xgboost-win64_release_1.4.0/src/objective/regression_obj.cu:171: reg:linear is now deprecated in favor of reg:squarederror.\n",
      "[14:07:15] WARNING: C:/Users/Administrator/workspace/xgboost-win64_release_1.4.0/src/objective/regression_obj.cu:171: reg:linear is now deprecated in favor of reg:squarederror.\n",
      "[14:07:16] WARNING: C:/Users/Administrator/workspace/xgboost-win64_release_1.4.0/src/objective/regression_obj.cu:171: reg:linear is now deprecated in favor of reg:squarederror.\n",
      "[14:07:16] WARNING: C:/Users/Administrator/workspace/xgboost-win64_release_1.4.0/src/objective/regression_obj.cu:171: reg:linear is now deprecated in favor of reg:squarederror.\n",
      "[14:07:16] WARNING: C:/Users/Administrator/workspace/xgboost-win64_release_1.4.0/src/objective/regression_obj.cu:171: reg:linear is now deprecated in favor of reg:squarederror.\n",
      "[14:07:17] WARNING: C:/Users/Administrator/workspace/xgboost-win64_release_1.4.0/src/objective/regression_obj.cu:171: reg:linear is now deprecated in favor of reg:squarederror.\n",
      "[14:07:17] WARNING: C:/Users/Administrator/workspace/xgboost-win64_release_1.4.0/src/objective/regression_obj.cu:171: reg:linear is now deprecated in favor of reg:squarederror.\n",
      "[14:07:18] WARNING: C:/Users/Administrator/workspace/xgboost-win64_release_1.4.0/src/objective/regression_obj.cu:171: reg:linear is now deprecated in favor of reg:squarederror.\n",
      "[14:07:19] WARNING: C:/Users/Administrator/workspace/xgboost-win64_release_1.4.0/src/objective/regression_obj.cu:171: reg:linear is now deprecated in favor of reg:squarederror.\n",
      "[14:07:19] WARNING: C:/Users/Administrator/workspace/xgboost-win64_release_1.4.0/src/objective/regression_obj.cu:171: reg:linear is now deprecated in favor of reg:squarederror.\n",
      "[14:07:20] WARNING: C:/Users/Administrator/workspace/xgboost-win64_release_1.4.0/src/objective/regression_obj.cu:171: reg:linear is now deprecated in favor of reg:squarederror.\n",
      "[14:07:21] WARNING: C:/Users/Administrator/workspace/xgboost-win64_release_1.4.0/src/objective/regression_obj.cu:171: reg:linear is now deprecated in favor of reg:squarederror.\n",
      "[14:07:22] WARNING: C:/Users/Administrator/workspace/xgboost-win64_release_1.4.0/src/objective/regression_obj.cu:171: reg:linear is now deprecated in favor of reg:squarederror.\n",
      "[14:07:23] WARNING: C:/Users/Administrator/workspace/xgboost-win64_release_1.4.0/src/objective/regression_obj.cu:171: reg:linear is now deprecated in favor of reg:squarederror.\n",
      "[14:07:24] WARNING: C:/Users/Administrator/workspace/xgboost-win64_release_1.4.0/src/objective/regression_obj.cu:171: reg:linear is now deprecated in favor of reg:squarederror.\n",
      "[14:07:26] WARNING: C:/Users/Administrator/workspace/xgboost-win64_release_1.4.0/src/objective/regression_obj.cu:171: reg:linear is now deprecated in favor of reg:squarederror.\n",
      "[14:07:26] WARNING: C:/Users/Administrator/workspace/xgboost-win64_release_1.4.0/src/objective/regression_obj.cu:171: reg:linear is now deprecated in favor of reg:squarederror.\n",
      "[14:07:26] WARNING: C:/Users/Administrator/workspace/xgboost-win64_release_1.4.0/src/objective/regression_obj.cu:171: reg:linear is now deprecated in favor of reg:squarederror.\n",
      "[14:07:26] WARNING: C:/Users/Administrator/workspace/xgboost-win64_release_1.4.0/src/objective/regression_obj.cu:171: reg:linear is now deprecated in favor of reg:squarederror.\n",
      "[14:07:26] WARNING: C:/Users/Administrator/workspace/xgboost-win64_release_1.4.0/src/objective/regression_obj.cu:171: reg:linear is now deprecated in favor of reg:squarederror.\n",
      "[14:07:26] WARNING: C:/Users/Administrator/workspace/xgboost-win64_release_1.4.0/src/objective/regression_obj.cu:171: reg:linear is now deprecated in favor of reg:squarederror.\n",
      "[14:07:27] WARNING: C:/Users/Administrator/workspace/xgboost-win64_release_1.4.0/src/objective/regression_obj.cu:171: reg:linear is now deprecated in favor of reg:squarederror.\n",
      "[14:07:27] WARNING: C:/Users/Administrator/workspace/xgboost-win64_release_1.4.0/src/objective/regression_obj.cu:171: reg:linear is now deprecated in favor of reg:squarederror.\n",
      "[14:07:27] WARNING: C:/Users/Administrator/workspace/xgboost-win64_release_1.4.0/src/objective/regression_obj.cu:171: reg:linear is now deprecated in favor of reg:squarederror.\n",
      "[14:07:27] WARNING: C:/Users/Administrator/workspace/xgboost-win64_release_1.4.0/src/objective/regression_obj.cu:171: reg:linear is now deprecated in favor of reg:squarederror.\n",
      "[14:07:27] WARNING: C:/Users/Administrator/workspace/xgboost-win64_release_1.4.0/src/objective/regression_obj.cu:171: reg:linear is now deprecated in favor of reg:squarederror.\n",
      "[14:07:28] WARNING: C:/Users/Administrator/workspace/xgboost-win64_release_1.4.0/src/objective/regression_obj.cu:171: reg:linear is now deprecated in favor of reg:squarederror.\n",
      "[14:07:28] WARNING: C:/Users/Administrator/workspace/xgboost-win64_release_1.4.0/src/objective/regression_obj.cu:171: reg:linear is now deprecated in favor of reg:squarederror.\n",
      "[14:07:29] WARNING: C:/Users/Administrator/workspace/xgboost-win64_release_1.4.0/src/objective/regression_obj.cu:171: reg:linear is now deprecated in favor of reg:squarederror.\n",
      "[14:07:29] WARNING: C:/Users/Administrator/workspace/xgboost-win64_release_1.4.0/src/objective/regression_obj.cu:171: reg:linear is now deprecated in favor of reg:squarederror.\n",
      "[14:07:29] WARNING: C:/Users/Administrator/workspace/xgboost-win64_release_1.4.0/src/objective/regression_obj.cu:171: reg:linear is now deprecated in favor of reg:squarederror.\n",
      "[14:07:30] WARNING: C:/Users/Administrator/workspace/xgboost-win64_release_1.4.0/src/objective/regression_obj.cu:171: reg:linear is now deprecated in favor of reg:squarederror.\n",
      "[14:07:31] WARNING: C:/Users/Administrator/workspace/xgboost-win64_release_1.4.0/src/objective/regression_obj.cu:171: reg:linear is now deprecated in favor of reg:squarederror.\n",
      "[14:07:32] WARNING: C:/Users/Administrator/workspace/xgboost-win64_release_1.4.0/src/objective/regression_obj.cu:171: reg:linear is now deprecated in favor of reg:squarederror.\n",
      "[14:07:32] WARNING: C:/Users/Administrator/workspace/xgboost-win64_release_1.4.0/src/objective/regression_obj.cu:171: reg:linear is now deprecated in favor of reg:squarederror.\n",
      "[14:07:33] WARNING: C:/Users/Administrator/workspace/xgboost-win64_release_1.4.0/src/objective/regression_obj.cu:171: reg:linear is now deprecated in favor of reg:squarederror.\n",
      "[14:07:35] WARNING: C:/Users/Administrator/workspace/xgboost-win64_release_1.4.0/src/objective/regression_obj.cu:171: reg:linear is now deprecated in favor of reg:squarederror.\n"
     ]
    },
    {
     "name": "stdout",
     "output_type": "stream",
     "text": [
      "[14:07:36] WARNING: C:/Users/Administrator/workspace/xgboost-win64_release_1.4.0/src/objective/regression_obj.cu:171: reg:linear is now deprecated in favor of reg:squarederror.\n",
      "[14:07:37] WARNING: C:/Users/Administrator/workspace/xgboost-win64_release_1.4.0/src/objective/regression_obj.cu:171: reg:linear is now deprecated in favor of reg:squarederror.\n",
      "[14:07:39] WARNING: C:/Users/Administrator/workspace/xgboost-win64_release_1.4.0/src/objective/regression_obj.cu:171: reg:linear is now deprecated in favor of reg:squarederror.\n",
      "[14:07:40] WARNING: C:/Users/Administrator/workspace/xgboost-win64_release_1.4.0/src/objective/regression_obj.cu:171: reg:linear is now deprecated in favor of reg:squarederror.\n",
      "[14:07:40] WARNING: C:/Users/Administrator/workspace/xgboost-win64_release_1.4.0/src/objective/regression_obj.cu:171: reg:linear is now deprecated in favor of reg:squarederror.\n",
      "[14:07:40] WARNING: C:/Users/Administrator/workspace/xgboost-win64_release_1.4.0/src/objective/regression_obj.cu:171: reg:linear is now deprecated in favor of reg:squarederror.\n",
      "[14:07:41] WARNING: C:/Users/Administrator/workspace/xgboost-win64_release_1.4.0/src/objective/regression_obj.cu:171: reg:linear is now deprecated in favor of reg:squarederror.\n",
      "[14:07:41] WARNING: C:/Users/Administrator/workspace/xgboost-win64_release_1.4.0/src/objective/regression_obj.cu:171: reg:linear is now deprecated in favor of reg:squarederror.\n",
      "[14:07:41] WARNING: C:/Users/Administrator/workspace/xgboost-win64_release_1.4.0/src/objective/regression_obj.cu:171: reg:linear is now deprecated in favor of reg:squarederror.\n",
      "[14:07:41] WARNING: C:/Users/Administrator/workspace/xgboost-win64_release_1.4.0/src/objective/regression_obj.cu:171: reg:linear is now deprecated in favor of reg:squarederror.\n",
      "[14:07:41] WARNING: C:/Users/Administrator/workspace/xgboost-win64_release_1.4.0/src/objective/regression_obj.cu:171: reg:linear is now deprecated in favor of reg:squarederror.\n",
      "[14:07:42] WARNING: C:/Users/Administrator/workspace/xgboost-win64_release_1.4.0/src/objective/regression_obj.cu:171: reg:linear is now deprecated in favor of reg:squarederror.\n",
      "[14:07:42] WARNING: C:/Users/Administrator/workspace/xgboost-win64_release_1.4.0/src/objective/regression_obj.cu:171: reg:linear is now deprecated in favor of reg:squarederror.\n",
      "[14:07:42] WARNING: C:/Users/Administrator/workspace/xgboost-win64_release_1.4.0/src/objective/regression_obj.cu:171: reg:linear is now deprecated in favor of reg:squarederror.\n",
      "[14:07:42] WARNING: C:/Users/Administrator/workspace/xgboost-win64_release_1.4.0/src/objective/regression_obj.cu:171: reg:linear is now deprecated in favor of reg:squarederror.\n",
      "[14:07:43] WARNING: C:/Users/Administrator/workspace/xgboost-win64_release_1.4.0/src/objective/regression_obj.cu:171: reg:linear is now deprecated in favor of reg:squarederror.\n",
      "[14:07:43] WARNING: C:/Users/Administrator/workspace/xgboost-win64_release_1.4.0/src/objective/regression_obj.cu:171: reg:linear is now deprecated in favor of reg:squarederror.\n",
      "[14:07:44] WARNING: C:/Users/Administrator/workspace/xgboost-win64_release_1.4.0/src/objective/regression_obj.cu:171: reg:linear is now deprecated in favor of reg:squarederror.\n",
      "[14:07:44] WARNING: C:/Users/Administrator/workspace/xgboost-win64_release_1.4.0/src/objective/regression_obj.cu:171: reg:linear is now deprecated in favor of reg:squarederror.\n",
      "[14:07:45] WARNING: C:/Users/Administrator/workspace/xgboost-win64_release_1.4.0/src/objective/regression_obj.cu:171: reg:linear is now deprecated in favor of reg:squarederror.\n",
      "[14:07:46] WARNING: C:/Users/Administrator/workspace/xgboost-win64_release_1.4.0/src/objective/regression_obj.cu:171: reg:linear is now deprecated in favor of reg:squarederror.\n",
      "[14:07:47] WARNING: C:/Users/Administrator/workspace/xgboost-win64_release_1.4.0/src/objective/regression_obj.cu:171: reg:linear is now deprecated in favor of reg:squarederror.\n",
      "[14:07:47] WARNING: C:/Users/Administrator/workspace/xgboost-win64_release_1.4.0/src/objective/regression_obj.cu:171: reg:linear is now deprecated in favor of reg:squarederror.\n",
      "[14:07:48] WARNING: C:/Users/Administrator/workspace/xgboost-win64_release_1.4.0/src/objective/regression_obj.cu:171: reg:linear is now deprecated in favor of reg:squarederror.\n",
      "[14:07:50] WARNING: C:/Users/Administrator/workspace/xgboost-win64_release_1.4.0/src/objective/regression_obj.cu:171: reg:linear is now deprecated in favor of reg:squarederror.\n",
      "[14:07:52] WARNING: C:/Users/Administrator/workspace/xgboost-win64_release_1.4.0/src/objective/regression_obj.cu:171: reg:linear is now deprecated in favor of reg:squarederror.\n",
      "[14:07:53] WARNING: C:/Users/Administrator/workspace/xgboost-win64_release_1.4.0/src/objective/regression_obj.cu:171: reg:linear is now deprecated in favor of reg:squarederror.\n",
      "[14:07:55] WARNING: C:/Users/Administrator/workspace/xgboost-win64_release_1.4.0/src/objective/regression_obj.cu:171: reg:linear is now deprecated in favor of reg:squarederror.\n",
      "[14:07:57] WARNING: C:/Users/Administrator/workspace/xgboost-win64_release_1.4.0/src/objective/regression_obj.cu:171: reg:linear is now deprecated in favor of reg:squarederror.\n"
     ]
    },
    {
     "data": {
      "text/plain": [
       "GridSearchCV(cv=5,\n",
       "             estimator=XGBRegressor(base_score=0.5, booster='gbtree',\n",
       "                                    colsample_bylevel=1, colsample_bynode=1,\n",
       "                                    colsample_bytree=1, gamma=0, gpu_id=-1,\n",
       "                                    importance_type='gain',\n",
       "                                    interaction_constraints='',\n",
       "                                    learning_rate=0.300000012, max_delta_step=0,\n",
       "                                    max_depth=6, min_child_weight=1,\n",
       "                                    missing=nan, monotone_constraints='()',\n",
       "                                    n_estimators=10, n_jobs=4,\n",
       "                                    num_parallel_tree=1, objective='reg:linear',\n",
       "                                    random_state=123, reg_alpha=0, reg_lambda=1,\n",
       "                                    scale_pos_weight=1, seed=123, subsample=1,\n",
       "                                    tree_method='exact', validate_parameters=1,\n",
       "                                    verbosity=None),\n",
       "             param_grid={'max_depth': [5, 6, 7],\n",
       "                         'n_estimators': [5, 10, 20, 50, 100]})"
      ]
     },
     "execution_count": 83,
     "metadata": {},
     "output_type": "execute_result"
    }
   ],
   "source": [
    "CV_xgb_r = GridSearchCV(estimator=xgb_r, param_grid=param_grid, cv= 5)\n",
    "CV_xgb_r.fit(X_train, y_train)"
   ]
  },
  {
   "cell_type": "code",
   "execution_count": 75,
   "metadata": {
    "ExecuteTime": {
     "end_time": "2021-06-04T11:58:24.898472Z",
     "start_time": "2021-06-04T11:58:24.880483Z"
    }
   },
   "outputs": [
    {
     "data": {
      "text/plain": [
       "{'max_depth': 5, 'n_estimators': 50}"
      ]
     },
     "execution_count": 75,
     "metadata": {},
     "output_type": "execute_result"
    }
   ],
   "source": [
    "CV_xgb_r.best_params_"
   ]
  },
  {
   "cell_type": "code",
   "execution_count": 78,
   "metadata": {
    "ExecuteTime": {
     "end_time": "2021-06-04T12:04:13.636953Z",
     "start_time": "2021-06-04T12:04:12.903518Z"
    }
   },
   "outputs": [],
   "source": [
    "xgb_r1 = xg.XGBRegressor(random_state=42, max_depth=5, n_estimators= 50)\n",
    "model_xgb_r1 = xgb_r1.fit(X_train, y_train)"
   ]
  },
  {
   "cell_type": "code",
   "execution_count": 80,
   "metadata": {
    "ExecuteTime": {
     "end_time": "2021-06-04T12:06:23.586510Z",
     "start_time": "2021-06-04T12:06:23.545532Z"
    }
   },
   "outputs": [
    {
     "name": "stdout",
     "output_type": "stream",
     "text": [
      "XGboost regression_CV 0.95421\n"
     ]
    }
   ],
   "source": [
    "print('XGboost regression_CV', model_xgb_r1.score(X_test, y_test).round(5))"
   ]
  },
  {
   "cell_type": "markdown",
   "metadata": {
    "ExecuteTime": {
     "end_time": "2021-06-04T10:51:00.555985Z",
     "start_time": "2021-06-04T10:51:00.548988Z"
    }
   },
   "source": [
    "<span style=color:green>*R2 has improved from 0.946 to 0.954*</span>"
   ]
  },
  {
   "cell_type": "markdown",
   "metadata": {},
   "source": [
    "<u style=color:blue>Exercici 4:</u>\n",
    "\n",
    "<span style=color:blue>Compara el seu rendiment utilitzant l’aproximació traint/test o utilitzant totes les dades (validació interna)</span>"
   ]
  },
  {
   "cell_type": "markdown",
   "metadata": {},
   "source": [
    "<span style=color:green>Let's compare results of multiple linear regression between datasets of 10000 sampled rows and 1.9M rows</span>\n",
    "\n",
    "DF_All = 1.9M rows"
   ]
  },
  {
   "cell_type": "code",
   "execution_count": 84,
   "metadata": {
    "ExecuteTime": {
     "end_time": "2021-06-04T12:17:43.027199Z",
     "start_time": "2021-06-04T12:17:38.595254Z"
    }
   },
   "outputs": [
    {
     "data": {
      "text/plain": [
       "(1928371, 14)"
      ]
     },
     "execution_count": 84,
     "metadata": {},
     "output_type": "execute_result"
    }
   ],
   "source": [
    "DF_All = pd.read_csv('DelayedFlightsCleaned.csv')\n",
    "DF_All.shape"
   ]
  },
  {
   "cell_type": "code",
   "execution_count": 85,
   "metadata": {
    "ExecuteTime": {
     "end_time": "2021-06-04T12:17:43.304673Z",
     "start_time": "2021-06-04T12:17:43.032175Z"
    }
   },
   "outputs": [],
   "source": [
    "DF_All.drop(['Date','Origin','Dest','Unnamed: 0','CRSElapsedTime','ActualElapsedTime'], axis='columns', inplace=True)"
   ]
  },
  {
   "cell_type": "code",
   "execution_count": 86,
   "metadata": {
    "ExecuteTime": {
     "end_time": "2021-06-04T12:17:43.446608Z",
     "start_time": "2021-06-04T12:17:43.310673Z"
    }
   },
   "outputs": [
    {
     "name": "stdout",
     "output_type": "stream",
     "text": [
      "(10000, 7) (10000,)\n"
     ]
    }
   ],
   "source": [
    "X_All, y_All = DF_All.drop('ArrDelay',axis=1), DF_All.ArrDelay\n",
    "print(X.shape, y.shape)"
   ]
  },
  {
   "cell_type": "code",
   "execution_count": 87,
   "metadata": {
    "ExecuteTime": {
     "end_time": "2021-06-04T12:17:43.791568Z",
     "start_time": "2021-06-04T12:17:43.757570Z"
    }
   },
   "outputs": [
    {
     "data": {
      "text/html": [
       "<div>\n",
       "<style scoped>\n",
       "    .dataframe tbody tr th:only-of-type {\n",
       "        vertical-align: middle;\n",
       "    }\n",
       "\n",
       "    .dataframe tbody tr th {\n",
       "        vertical-align: top;\n",
       "    }\n",
       "\n",
       "    .dataframe thead th {\n",
       "        text-align: right;\n",
       "    }\n",
       "</style>\n",
       "<table border=\"1\" class=\"dataframe\">\n",
       "  <thead>\n",
       "    <tr style=\"text-align: right;\">\n",
       "      <th></th>\n",
       "      <th>DayOfWeek</th>\n",
       "      <th>CRSDepTime</th>\n",
       "      <th>CRSArrTime</th>\n",
       "      <th>DepDelay</th>\n",
       "      <th>TaxiIn</th>\n",
       "      <th>TaxiOut</th>\n",
       "      <th>UniqueCarrier</th>\n",
       "    </tr>\n",
       "  </thead>\n",
       "  <tbody>\n",
       "    <tr>\n",
       "      <th>0</th>\n",
       "      <td>4</td>\n",
       "      <td>1195</td>\n",
       "      <td>1345</td>\n",
       "      <td>8.0</td>\n",
       "      <td>4.0</td>\n",
       "      <td>8.0</td>\n",
       "      <td>WN</td>\n",
       "    </tr>\n",
       "    <tr>\n",
       "      <th>1</th>\n",
       "      <td>4</td>\n",
       "      <td>455</td>\n",
       "      <td>600</td>\n",
       "      <td>19.0</td>\n",
       "      <td>5.0</td>\n",
       "      <td>10.0</td>\n",
       "      <td>WN</td>\n",
       "    </tr>\n",
       "    <tr>\n",
       "      <th>2</th>\n",
       "      <td>4</td>\n",
       "      <td>380</td>\n",
       "      <td>470</td>\n",
       "      <td>8.0</td>\n",
       "      <td>3.0</td>\n",
       "      <td>17.0</td>\n",
       "      <td>WN</td>\n",
       "    </tr>\n",
       "    <tr>\n",
       "      <th>3</th>\n",
       "      <td>4</td>\n",
       "      <td>1075</td>\n",
       "      <td>1165</td>\n",
       "      <td>34.0</td>\n",
       "      <td>3.0</td>\n",
       "      <td>10.0</td>\n",
       "      <td>WN</td>\n",
       "    </tr>\n",
       "    <tr>\n",
       "      <th>4</th>\n",
       "      <td>4</td>\n",
       "      <td>1155</td>\n",
       "      <td>1270</td>\n",
       "      <td>25.0</td>\n",
       "      <td>4.0</td>\n",
       "      <td>10.0</td>\n",
       "      <td>WN</td>\n",
       "    </tr>\n",
       "  </tbody>\n",
       "</table>\n",
       "</div>"
      ],
      "text/plain": [
       "   DayOfWeek  CRSDepTime  CRSArrTime  DepDelay  TaxiIn  TaxiOut UniqueCarrier\n",
       "0          4        1195        1345       8.0     4.0      8.0            WN\n",
       "1          4         455         600      19.0     5.0     10.0            WN\n",
       "2          4         380         470       8.0     3.0     17.0            WN\n",
       "3          4        1075        1165      34.0     3.0     10.0            WN\n",
       "4          4        1155        1270      25.0     4.0     10.0            WN"
      ]
     },
     "execution_count": 87,
     "metadata": {},
     "output_type": "execute_result"
    }
   ],
   "source": [
    "X_All.head()"
   ]
  },
  {
   "cell_type": "code",
   "execution_count": 88,
   "metadata": {
    "ExecuteTime": {
     "end_time": "2021-06-04T12:17:45.224220Z",
     "start_time": "2021-06-04T12:17:44.366528Z"
    }
   },
   "outputs": [],
   "source": [
    "X_All_train, X_All_test, y_All_train, y_All_test = train_test_split(X_All, y_All, test_size=0.2, random_state=0)"
   ]
  },
  {
   "cell_type": "code",
   "execution_count": 89,
   "metadata": {
    "ExecuteTime": {
     "end_time": "2021-06-04T12:17:45.240190Z",
     "start_time": "2021-06-04T12:17:45.228198Z"
    }
   },
   "outputs": [
    {
     "data": {
      "text/plain": [
       "((1542696, 7), (385675, 7), (1542696,), (385675,))"
      ]
     },
     "execution_count": 89,
     "metadata": {},
     "output_type": "execute_result"
    }
   ],
   "source": [
    "X_All_train.shape, X_All_test.shape, y_All_train.shape, y_All_test.shape"
   ]
  },
  {
   "cell_type": "code",
   "execution_count": 90,
   "metadata": {
    "ExecuteTime": {
     "end_time": "2021-06-04T12:17:46.725567Z",
     "start_time": "2021-06-04T12:17:46.208606Z"
    }
   },
   "outputs": [
    {
     "data": {
      "text/html": [
       "<div>\n",
       "<style scoped>\n",
       "    .dataframe tbody tr th:only-of-type {\n",
       "        vertical-align: middle;\n",
       "    }\n",
       "\n",
       "    .dataframe tbody tr th {\n",
       "        vertical-align: top;\n",
       "    }\n",
       "\n",
       "    .dataframe thead th {\n",
       "        text-align: right;\n",
       "    }\n",
       "</style>\n",
       "<table border=\"1\" class=\"dataframe\">\n",
       "  <thead>\n",
       "    <tr style=\"text-align: right;\">\n",
       "      <th></th>\n",
       "      <th>DayOfWeek</th>\n",
       "      <th>CRSDepTime</th>\n",
       "      <th>CRSArrTime</th>\n",
       "      <th>DepDelay</th>\n",
       "      <th>TaxiIn</th>\n",
       "      <th>TaxiOut</th>\n",
       "      <th>UniqueCarrier_AA</th>\n",
       "      <th>UniqueCarrier_AQ</th>\n",
       "      <th>UniqueCarrier_AS</th>\n",
       "      <th>UniqueCarrier_B6</th>\n",
       "      <th>...</th>\n",
       "      <th>UniqueCarrier_HA</th>\n",
       "      <th>UniqueCarrier_MQ</th>\n",
       "      <th>UniqueCarrier_NW</th>\n",
       "      <th>UniqueCarrier_OH</th>\n",
       "      <th>UniqueCarrier_OO</th>\n",
       "      <th>UniqueCarrier_UA</th>\n",
       "      <th>UniqueCarrier_US</th>\n",
       "      <th>UniqueCarrier_WN</th>\n",
       "      <th>UniqueCarrier_XE</th>\n",
       "      <th>UniqueCarrier_YV</th>\n",
       "    </tr>\n",
       "  </thead>\n",
       "  <tbody>\n",
       "    <tr>\n",
       "      <th>526492</th>\n",
       "      <td>6</td>\n",
       "      <td>890</td>\n",
       "      <td>1355</td>\n",
       "      <td>21.0</td>\n",
       "      <td>8.0</td>\n",
       "      <td>10.0</td>\n",
       "      <td>1</td>\n",
       "      <td>0</td>\n",
       "      <td>0</td>\n",
       "      <td>0</td>\n",
       "      <td>...</td>\n",
       "      <td>0</td>\n",
       "      <td>0</td>\n",
       "      <td>0</td>\n",
       "      <td>0</td>\n",
       "      <td>0</td>\n",
       "      <td>0</td>\n",
       "      <td>0</td>\n",
       "      <td>0</td>\n",
       "      <td>0</td>\n",
       "      <td>0</td>\n",
       "    </tr>\n",
       "    <tr>\n",
       "      <th>319418</th>\n",
       "      <td>4</td>\n",
       "      <td>1150</td>\n",
       "      <td>1305</td>\n",
       "      <td>26.0</td>\n",
       "      <td>12.0</td>\n",
       "      <td>51.0</td>\n",
       "      <td>0</td>\n",
       "      <td>0</td>\n",
       "      <td>0</td>\n",
       "      <td>0</td>\n",
       "      <td>...</td>\n",
       "      <td>0</td>\n",
       "      <td>0</td>\n",
       "      <td>1</td>\n",
       "      <td>0</td>\n",
       "      <td>0</td>\n",
       "      <td>0</td>\n",
       "      <td>0</td>\n",
       "      <td>0</td>\n",
       "      <td>0</td>\n",
       "      <td>0</td>\n",
       "    </tr>\n",
       "    <tr>\n",
       "      <th>603985</th>\n",
       "      <td>7</td>\n",
       "      <td>925</td>\n",
       "      <td>1029</td>\n",
       "      <td>38.0</td>\n",
       "      <td>23.0</td>\n",
       "      <td>14.0</td>\n",
       "      <td>0</td>\n",
       "      <td>0</td>\n",
       "      <td>0</td>\n",
       "      <td>0</td>\n",
       "      <td>...</td>\n",
       "      <td>0</td>\n",
       "      <td>0</td>\n",
       "      <td>0</td>\n",
       "      <td>0</td>\n",
       "      <td>0</td>\n",
       "      <td>0</td>\n",
       "      <td>0</td>\n",
       "      <td>0</td>\n",
       "      <td>1</td>\n",
       "      <td>0</td>\n",
       "    </tr>\n",
       "    <tr>\n",
       "      <th>1490960</th>\n",
       "      <td>4</td>\n",
       "      <td>900</td>\n",
       "      <td>1020</td>\n",
       "      <td>99.0</td>\n",
       "      <td>3.0</td>\n",
       "      <td>20.0</td>\n",
       "      <td>0</td>\n",
       "      <td>0</td>\n",
       "      <td>0</td>\n",
       "      <td>0</td>\n",
       "      <td>...</td>\n",
       "      <td>0</td>\n",
       "      <td>1</td>\n",
       "      <td>0</td>\n",
       "      <td>0</td>\n",
       "      <td>0</td>\n",
       "      <td>0</td>\n",
       "      <td>0</td>\n",
       "      <td>0</td>\n",
       "      <td>0</td>\n",
       "      <td>0</td>\n",
       "    </tr>\n",
       "    <tr>\n",
       "      <th>451136</th>\n",
       "      <td>6</td>\n",
       "      <td>413</td>\n",
       "      <td>595</td>\n",
       "      <td>6.0</td>\n",
       "      <td>3.0</td>\n",
       "      <td>26.0</td>\n",
       "      <td>0</td>\n",
       "      <td>0</td>\n",
       "      <td>0</td>\n",
       "      <td>0</td>\n",
       "      <td>...</td>\n",
       "      <td>0</td>\n",
       "      <td>0</td>\n",
       "      <td>0</td>\n",
       "      <td>0</td>\n",
       "      <td>0</td>\n",
       "      <td>1</td>\n",
       "      <td>0</td>\n",
       "      <td>0</td>\n",
       "      <td>0</td>\n",
       "      <td>0</td>\n",
       "    </tr>\n",
       "  </tbody>\n",
       "</table>\n",
       "<p>5 rows × 25 columns</p>\n",
       "</div>"
      ],
      "text/plain": [
       "         DayOfWeek  CRSDepTime  CRSArrTime  DepDelay  TaxiIn  TaxiOut  \\\n",
       "526492           6         890        1355      21.0     8.0     10.0   \n",
       "319418           4        1150        1305      26.0    12.0     51.0   \n",
       "603985           7         925        1029      38.0    23.0     14.0   \n",
       "1490960          4         900        1020      99.0     3.0     20.0   \n",
       "451136           6         413         595       6.0     3.0     26.0   \n",
       "\n",
       "         UniqueCarrier_AA  UniqueCarrier_AQ  UniqueCarrier_AS  \\\n",
       "526492                  1                 0                 0   \n",
       "319418                  0                 0                 0   \n",
       "603985                  0                 0                 0   \n",
       "1490960                 0                 0                 0   \n",
       "451136                  0                 0                 0   \n",
       "\n",
       "         UniqueCarrier_B6  ...  UniqueCarrier_HA  UniqueCarrier_MQ  \\\n",
       "526492                  0  ...                 0                 0   \n",
       "319418                  0  ...                 0                 0   \n",
       "603985                  0  ...                 0                 0   \n",
       "1490960                 0  ...                 0                 1   \n",
       "451136                  0  ...                 0                 0   \n",
       "\n",
       "         UniqueCarrier_NW  UniqueCarrier_OH  UniqueCarrier_OO  \\\n",
       "526492                  0                 0                 0   \n",
       "319418                  1                 0                 0   \n",
       "603985                  0                 0                 0   \n",
       "1490960                 0                 0                 0   \n",
       "451136                  0                 0                 0   \n",
       "\n",
       "         UniqueCarrier_UA  UniqueCarrier_US  UniqueCarrier_WN  \\\n",
       "526492                  0                 0                 0   \n",
       "319418                  0                 0                 0   \n",
       "603985                  0                 0                 0   \n",
       "1490960                 0                 0                 0   \n",
       "451136                  1                 0                 0   \n",
       "\n",
       "         UniqueCarrier_XE  UniqueCarrier_YV  \n",
       "526492                  0                 0  \n",
       "319418                  0                 0  \n",
       "603985                  1                 0  \n",
       "1490960                 0                 0  \n",
       "451136                  0                 0  \n",
       "\n",
       "[5 rows x 25 columns]"
      ]
     },
     "execution_count": 90,
     "metadata": {},
     "output_type": "execute_result"
    }
   ],
   "source": [
    "# Apply dummy to X_train\n",
    "\n",
    "# Create dummy variables\n",
    "dummy_UniqueCarrier_type = pd.get_dummies(X_All_train['UniqueCarrier'], prefix='UniqueCarrier', drop_first=True)\n",
    "\n",
    "# Drop unnecessary columns\n",
    "to_drop = ['UniqueCarrier']\n",
    "X_All_train.drop(to_drop, axis=1, inplace=True)\n",
    "\n",
    "# Merge into a single data frame\n",
    "X_All_train = pd.concat([X_All_train, dummy_UniqueCarrier_type], axis=1)\n",
    "X_All_train.head()"
   ]
  },
  {
   "cell_type": "code",
   "execution_count": 91,
   "metadata": {
    "ExecuteTime": {
     "end_time": "2021-06-04T12:17:47.167459Z",
     "start_time": "2021-06-04T12:17:46.969570Z"
    },
    "scrolled": true
   },
   "outputs": [
    {
     "data": {
      "text/html": [
       "<div>\n",
       "<style scoped>\n",
       "    .dataframe tbody tr th:only-of-type {\n",
       "        vertical-align: middle;\n",
       "    }\n",
       "\n",
       "    .dataframe tbody tr th {\n",
       "        vertical-align: top;\n",
       "    }\n",
       "\n",
       "    .dataframe thead th {\n",
       "        text-align: right;\n",
       "    }\n",
       "</style>\n",
       "<table border=\"1\" class=\"dataframe\">\n",
       "  <thead>\n",
       "    <tr style=\"text-align: right;\">\n",
       "      <th></th>\n",
       "      <th>DayOfWeek</th>\n",
       "      <th>CRSDepTime</th>\n",
       "      <th>CRSArrTime</th>\n",
       "      <th>DepDelay</th>\n",
       "      <th>TaxiIn</th>\n",
       "      <th>TaxiOut</th>\n",
       "      <th>UniqueCarrier_AA</th>\n",
       "      <th>UniqueCarrier_AQ</th>\n",
       "      <th>UniqueCarrier_AS</th>\n",
       "      <th>UniqueCarrier_B6</th>\n",
       "      <th>...</th>\n",
       "      <th>UniqueCarrier_HA</th>\n",
       "      <th>UniqueCarrier_MQ</th>\n",
       "      <th>UniqueCarrier_NW</th>\n",
       "      <th>UniqueCarrier_OH</th>\n",
       "      <th>UniqueCarrier_OO</th>\n",
       "      <th>UniqueCarrier_UA</th>\n",
       "      <th>UniqueCarrier_US</th>\n",
       "      <th>UniqueCarrier_WN</th>\n",
       "      <th>UniqueCarrier_XE</th>\n",
       "      <th>UniqueCarrier_YV</th>\n",
       "    </tr>\n",
       "  </thead>\n",
       "  <tbody>\n",
       "    <tr>\n",
       "      <th>1824985</th>\n",
       "      <td>1</td>\n",
       "      <td>955</td>\n",
       "      <td>1015</td>\n",
       "      <td>94.0</td>\n",
       "      <td>2.0</td>\n",
       "      <td>8.0</td>\n",
       "      <td>0</td>\n",
       "      <td>0</td>\n",
       "      <td>0</td>\n",
       "      <td>0</td>\n",
       "      <td>...</td>\n",
       "      <td>0</td>\n",
       "      <td>0</td>\n",
       "      <td>0</td>\n",
       "      <td>0</td>\n",
       "      <td>0</td>\n",
       "      <td>0</td>\n",
       "      <td>0</td>\n",
       "      <td>1</td>\n",
       "      <td>0</td>\n",
       "      <td>0</td>\n",
       "    </tr>\n",
       "    <tr>\n",
       "      <th>184235</th>\n",
       "      <td>7</td>\n",
       "      <td>640</td>\n",
       "      <td>770</td>\n",
       "      <td>18.0</td>\n",
       "      <td>5.0</td>\n",
       "      <td>7.0</td>\n",
       "      <td>0</td>\n",
       "      <td>0</td>\n",
       "      <td>0</td>\n",
       "      <td>0</td>\n",
       "      <td>...</td>\n",
       "      <td>0</td>\n",
       "      <td>0</td>\n",
       "      <td>0</td>\n",
       "      <td>0</td>\n",
       "      <td>0</td>\n",
       "      <td>0</td>\n",
       "      <td>0</td>\n",
       "      <td>1</td>\n",
       "      <td>0</td>\n",
       "      <td>0</td>\n",
       "    </tr>\n",
       "    <tr>\n",
       "      <th>278041</th>\n",
       "      <td>6</td>\n",
       "      <td>1155</td>\n",
       "      <td>1210</td>\n",
       "      <td>8.0</td>\n",
       "      <td>4.0</td>\n",
       "      <td>10.0</td>\n",
       "      <td>0</td>\n",
       "      <td>0</td>\n",
       "      <td>0</td>\n",
       "      <td>0</td>\n",
       "      <td>...</td>\n",
       "      <td>0</td>\n",
       "      <td>0</td>\n",
       "      <td>0</td>\n",
       "      <td>0</td>\n",
       "      <td>0</td>\n",
       "      <td>0</td>\n",
       "      <td>0</td>\n",
       "      <td>1</td>\n",
       "      <td>0</td>\n",
       "      <td>0</td>\n",
       "    </tr>\n",
       "    <tr>\n",
       "      <th>1544038</th>\n",
       "      <td>4</td>\n",
       "      <td>1125</td>\n",
       "      <td>1313</td>\n",
       "      <td>35.0</td>\n",
       "      <td>5.0</td>\n",
       "      <td>18.0</td>\n",
       "      <td>0</td>\n",
       "      <td>0</td>\n",
       "      <td>0</td>\n",
       "      <td>0</td>\n",
       "      <td>...</td>\n",
       "      <td>0</td>\n",
       "      <td>0</td>\n",
       "      <td>0</td>\n",
       "      <td>0</td>\n",
       "      <td>0</td>\n",
       "      <td>0</td>\n",
       "      <td>0</td>\n",
       "      <td>0</td>\n",
       "      <td>1</td>\n",
       "      <td>0</td>\n",
       "    </tr>\n",
       "    <tr>\n",
       "      <th>540657</th>\n",
       "      <td>2</td>\n",
       "      <td>1090</td>\n",
       "      <td>1305</td>\n",
       "      <td>66.0</td>\n",
       "      <td>5.0</td>\n",
       "      <td>12.0</td>\n",
       "      <td>1</td>\n",
       "      <td>0</td>\n",
       "      <td>0</td>\n",
       "      <td>0</td>\n",
       "      <td>...</td>\n",
       "      <td>0</td>\n",
       "      <td>0</td>\n",
       "      <td>0</td>\n",
       "      <td>0</td>\n",
       "      <td>0</td>\n",
       "      <td>0</td>\n",
       "      <td>0</td>\n",
       "      <td>0</td>\n",
       "      <td>0</td>\n",
       "      <td>0</td>\n",
       "    </tr>\n",
       "  </tbody>\n",
       "</table>\n",
       "<p>5 rows × 25 columns</p>\n",
       "</div>"
      ],
      "text/plain": [
       "         DayOfWeek  CRSDepTime  CRSArrTime  DepDelay  TaxiIn  TaxiOut  \\\n",
       "1824985          1         955        1015      94.0     2.0      8.0   \n",
       "184235           7         640         770      18.0     5.0      7.0   \n",
       "278041           6        1155        1210       8.0     4.0     10.0   \n",
       "1544038          4        1125        1313      35.0     5.0     18.0   \n",
       "540657           2        1090        1305      66.0     5.0     12.0   \n",
       "\n",
       "         UniqueCarrier_AA  UniqueCarrier_AQ  UniqueCarrier_AS  \\\n",
       "1824985                 0                 0                 0   \n",
       "184235                  0                 0                 0   \n",
       "278041                  0                 0                 0   \n",
       "1544038                 0                 0                 0   \n",
       "540657                  1                 0                 0   \n",
       "\n",
       "         UniqueCarrier_B6  ...  UniqueCarrier_HA  UniqueCarrier_MQ  \\\n",
       "1824985                 0  ...                 0                 0   \n",
       "184235                  0  ...                 0                 0   \n",
       "278041                  0  ...                 0                 0   \n",
       "1544038                 0  ...                 0                 0   \n",
       "540657                  0  ...                 0                 0   \n",
       "\n",
       "         UniqueCarrier_NW  UniqueCarrier_OH  UniqueCarrier_OO  \\\n",
       "1824985                 0                 0                 0   \n",
       "184235                  0                 0                 0   \n",
       "278041                  0                 0                 0   \n",
       "1544038                 0                 0                 0   \n",
       "540657                  0                 0                 0   \n",
       "\n",
       "         UniqueCarrier_UA  UniqueCarrier_US  UniqueCarrier_WN  \\\n",
       "1824985                 0                 0                 1   \n",
       "184235                  0                 0                 1   \n",
       "278041                  0                 0                 1   \n",
       "1544038                 0                 0                 0   \n",
       "540657                  0                 0                 0   \n",
       "\n",
       "         UniqueCarrier_XE  UniqueCarrier_YV  \n",
       "1824985                 0                 0  \n",
       "184235                  0                 0  \n",
       "278041                  0                 0  \n",
       "1544038                 1                 0  \n",
       "540657                  0                 0  \n",
       "\n",
       "[5 rows x 25 columns]"
      ]
     },
     "execution_count": 91,
     "metadata": {},
     "output_type": "execute_result"
    }
   ],
   "source": [
    "# Apply dummy to X_test\n",
    "dummy_UniqueCarrier_type = pd.get_dummies(X_All_test['UniqueCarrier'], prefix='UniqueCarrier', drop_first=True)\n",
    "to_drop = ['UniqueCarrier']\n",
    "X_All_test.drop(to_drop, axis=1, inplace=True)\n",
    "# Merge into a single data frame\n",
    "X_All_test = pd.concat([X_All_test, dummy_UniqueCarrier_type], axis=1)\n",
    "X_All_test.head()"
   ]
  },
  {
   "cell_type": "code",
   "execution_count": 92,
   "metadata": {
    "ExecuteTime": {
     "end_time": "2021-06-04T12:17:51.915983Z",
     "start_time": "2021-06-04T12:17:47.768098Z"
    }
   },
   "outputs": [],
   "source": [
    "from sklearn.preprocessing import StandardScaler\n",
    "\n",
    "# Scale selected columns by index\n",
    "# Set up scaler\n",
    "scaler = StandardScaler().fit(X_All_train.iloc[:,:6])\n",
    "X_All_train.iloc[:,:6] = scaler.transform(X_All_train.iloc[:,:6])\n",
    "X_All_train.head()\n",
    "#  Scale X_Test data\n",
    "X_All_test.iloc[:,:6] = scaler.transform(X_All_test.iloc[:,:6])"
   ]
  },
  {
   "cell_type": "code",
   "execution_count": 93,
   "metadata": {
    "ExecuteTime": {
     "end_time": "2021-06-04T12:17:54.715178Z",
     "start_time": "2021-06-04T12:17:51.915983Z"
    },
    "scrolled": false
   },
   "outputs": [],
   "source": [
    "from sklearn.linear_model import LinearRegression\n",
    "\n",
    "regressor = LinearRegression()\n",
    "model_mlr_All = regressor.fit(X_All_train, y_All_train)"
   ]
  },
  {
   "cell_type": "markdown",
   "metadata": {
    "ExecuteTime": {
     "end_time": "2021-05-19T12:50:33.115150Z",
     "start_time": "2021-05-19T12:50:33.094138Z"
    }
   },
   "source": [
    "<span style=color:green>R-squared</span>"
   ]
  },
  {
   "cell_type": "code",
   "execution_count": 94,
   "metadata": {
    "ExecuteTime": {
     "end_time": "2021-06-04T12:17:56.728813Z",
     "start_time": "2021-06-04T12:17:56.530123Z"
    }
   },
   "outputs": [
    {
     "data": {
      "text/plain": [
       "0.962"
      ]
     },
     "execution_count": 94,
     "metadata": {},
     "output_type": "execute_result"
    }
   ],
   "source": [
    "model_mlr_All.score(X_All_test, y_All_test).round(3)"
   ]
  },
  {
   "cell_type": "markdown",
   "metadata": {},
   "source": [
    "<span style=color:green>*As expected R-squared of 0.962 for dataset 1.9M rows > R-squared 0.958 of dataset 10.000 rows*</span>"
   ]
  },
  {
   "cell_type": "markdown",
   "metadata": {},
   "source": [
    "<span style=color:green>Predictions</span>"
   ]
  },
  {
   "cell_type": "code",
   "execution_count": 95,
   "metadata": {
    "ExecuteTime": {
     "end_time": "2021-06-04T12:17:59.185095Z",
     "start_time": "2021-06-04T12:17:59.077153Z"
    }
   },
   "outputs": [],
   "source": [
    "y_All_pred_mlr = model_mlr_All.predict(X_All_test)"
   ]
  },
  {
   "cell_type": "code",
   "execution_count": 96,
   "metadata": {
    "ExecuteTime": {
     "end_time": "2021-06-04T12:18:00.588113Z",
     "start_time": "2021-06-04T12:18:00.559132Z"
    }
   },
   "outputs": [
    {
     "data": {
      "text/html": [
       "<div>\n",
       "<style scoped>\n",
       "    .dataframe tbody tr th:only-of-type {\n",
       "        vertical-align: middle;\n",
       "    }\n",
       "\n",
       "    .dataframe tbody tr th {\n",
       "        vertical-align: top;\n",
       "    }\n",
       "\n",
       "    .dataframe thead th {\n",
       "        text-align: right;\n",
       "    }\n",
       "</style>\n",
       "<table border=\"1\" class=\"dataframe\">\n",
       "  <thead>\n",
       "    <tr style=\"text-align: right;\">\n",
       "      <th></th>\n",
       "      <th>Actual</th>\n",
       "      <th>Predicted</th>\n",
       "    </tr>\n",
       "  </thead>\n",
       "  <tbody>\n",
       "    <tr>\n",
       "      <th>1824985</th>\n",
       "      <td>84.0</td>\n",
       "      <td>83.858411</td>\n",
       "    </tr>\n",
       "    <tr>\n",
       "      <th>184235</th>\n",
       "      <td>7.0</td>\n",
       "      <td>10.678743</td>\n",
       "    </tr>\n",
       "    <tr>\n",
       "      <th>278041</th>\n",
       "      <td>1.0</td>\n",
       "      <td>1.002867</td>\n",
       "    </tr>\n",
       "    <tr>\n",
       "      <th>1544038</th>\n",
       "      <td>31.0</td>\n",
       "      <td>29.861643</td>\n",
       "    </tr>\n",
       "    <tr>\n",
       "      <th>540657</th>\n",
       "      <td>62.0</td>\n",
       "      <td>56.506962</td>\n",
       "    </tr>\n",
       "    <tr>\n",
       "      <th>...</th>\n",
       "      <td>...</td>\n",
       "      <td>...</td>\n",
       "    </tr>\n",
       "    <tr>\n",
       "      <th>1543725</th>\n",
       "      <td>34.0</td>\n",
       "      <td>24.304840</td>\n",
       "    </tr>\n",
       "    <tr>\n",
       "      <th>292873</th>\n",
       "      <td>40.0</td>\n",
       "      <td>30.148702</td>\n",
       "    </tr>\n",
       "    <tr>\n",
       "      <th>448721</th>\n",
       "      <td>180.0</td>\n",
       "      <td>183.067516</td>\n",
       "    </tr>\n",
       "    <tr>\n",
       "      <th>1736103</th>\n",
       "      <td>18.0</td>\n",
       "      <td>24.370338</td>\n",
       "    </tr>\n",
       "    <tr>\n",
       "      <th>297370</th>\n",
       "      <td>68.0</td>\n",
       "      <td>73.090072</td>\n",
       "    </tr>\n",
       "  </tbody>\n",
       "</table>\n",
       "<p>385675 rows × 2 columns</p>\n",
       "</div>"
      ],
      "text/plain": [
       "         Actual   Predicted\n",
       "1824985    84.0   83.858411\n",
       "184235      7.0   10.678743\n",
       "278041      1.0    1.002867\n",
       "1544038    31.0   29.861643\n",
       "540657     62.0   56.506962\n",
       "...         ...         ...\n",
       "1543725    34.0   24.304840\n",
       "292873     40.0   30.148702\n",
       "448721    180.0  183.067516\n",
       "1736103    18.0   24.370338\n",
       "297370     68.0   73.090072\n",
       "\n",
       "[385675 rows x 2 columns]"
      ]
     },
     "execution_count": 96,
     "metadata": {},
     "output_type": "execute_result"
    }
   ],
   "source": [
    "df_y_All_pred_mlr = pd.DataFrame({'Actual': y_All_test, 'Predicted': y_All_pred_mlr})\n",
    "df_y_All_pred_mlr"
   ]
  },
  {
   "cell_type": "markdown",
   "metadata": {},
   "source": [
    "<span style=color:green>Evaluating Algorithm</span>"
   ]
  },
  {
   "cell_type": "code",
   "execution_count": 97,
   "metadata": {
    "ExecuteTime": {
     "end_time": "2021-06-04T12:18:07.536780Z",
     "start_time": "2021-06-04T12:18:07.505161Z"
    },
    "scrolled": true
   },
   "outputs": [
    {
     "name": "stdout",
     "output_type": "stream",
     "text": [
      "Mean Squared Error: 122.09492927163645\n"
     ]
    }
   ],
   "source": [
    "print('Mean Squared Error:', metrics.mean_squared_error(y_All_test, y_All_pred_mlr))"
   ]
  },
  {
   "cell_type": "markdown",
   "metadata": {},
   "source": [
    "<span style=color:green>*As expected MSE of 122.09 for dataset 1.9M rows < MSE of 154.92 of dataset 10.000 rows*</span>"
   ]
  },
  {
   "cell_type": "markdown",
   "metadata": {},
   "source": [
    "<span style=color:green>*Predictions are better while increasing number of rows from 10.000 to 1.9M*</span>"
   ]
  },
  {
   "cell_type": "markdown",
   "metadata": {},
   "source": [
    "# <span style=color:darkblue>Nivell 2</span>"
   ]
  },
  {
   "cell_type": "markdown",
   "metadata": {},
   "source": [
    "<u style=color:blue>Exercici 5:</u>\n",
    "\n",
    "<span style=color:blue>Realitza algun procés d’enginyeria de variables per millorar-ne la predicció.<span>"
   ]
  },
  {
   "cell_type": "markdown",
   "metadata": {},
   "source": [
    "<span style=color:green>From starting point, feature engineering has been applied to create dummy from 'UniqueCarrier'. Now let's compare results without 'UniqueCarrier' feature engineering with Multiple linear regression</span>"
   ]
  },
  {
   "cell_type": "code",
   "execution_count": 98,
   "metadata": {
    "ExecuteTime": {
     "end_time": "2021-06-04T12:18:15.074132Z",
     "start_time": "2021-06-04T12:18:15.061139Z"
    }
   },
   "outputs": [
    {
     "data": {
      "text/plain": [
       "Index(['DayOfWeek', 'CRSDepTime', 'CRSArrTime', 'ArrDelay', 'DepDelay',\n",
       "       'TaxiIn', 'TaxiOut', 'UniqueCarrier'],\n",
       "      dtype='object')"
      ]
     },
     "execution_count": 98,
     "metadata": {},
     "output_type": "execute_result"
    }
   ],
   "source": [
    "DF.columns"
   ]
  },
  {
   "cell_type": "markdown",
   "metadata": {},
   "source": [
    "<span style=color:green>Let's drop 'UniqueCarrier'</span>\n",
    "\n",
    "<span style=color:green>*y = ArrDelay*</span>\n",
    "\n",
    "<span style=color:green>*X = All variables apart from ArrDelay & UniqueCarrier*</span>"
   ]
  },
  {
   "cell_type": "code",
   "execution_count": 99,
   "metadata": {
    "ExecuteTime": {
     "end_time": "2021-06-04T12:18:17.265184Z",
     "start_time": "2021-06-04T12:18:17.254169Z"
    }
   },
   "outputs": [
    {
     "name": "stdout",
     "output_type": "stream",
     "text": [
      "(10000, 6) (10000,)\n"
     ]
    }
   ],
   "source": [
    "X, y = DF.drop(['ArrDelay','UniqueCarrier'],axis=1), DF.ArrDelay\n",
    "print(X.shape, y.shape)"
   ]
  },
  {
   "cell_type": "code",
   "execution_count": 100,
   "metadata": {
    "ExecuteTime": {
     "end_time": "2021-06-04T12:18:18.365882Z",
     "start_time": "2021-06-04T12:18:18.352890Z"
    }
   },
   "outputs": [],
   "source": [
    "X_train, X_test, y_train, y_test = train_test_split(X, y, test_size=0.2, random_state=0)"
   ]
  },
  {
   "cell_type": "code",
   "execution_count": 101,
   "metadata": {
    "ExecuteTime": {
     "end_time": "2021-06-04T12:18:20.697054Z",
     "start_time": "2021-06-04T12:18:20.679067Z"
    }
   },
   "outputs": [
    {
     "data": {
      "text/plain": [
       "((8000, 6), (2000, 6), (8000,), (2000,))"
      ]
     },
     "execution_count": 101,
     "metadata": {},
     "output_type": "execute_result"
    }
   ],
   "source": [
    "X_train.shape, X_test.shape, y_train.shape, y_test.shape"
   ]
  },
  {
   "cell_type": "code",
   "execution_count": 102,
   "metadata": {
    "ExecuteTime": {
     "end_time": "2021-06-04T12:18:22.102965Z",
     "start_time": "2021-06-04T12:18:22.056361Z"
    },
    "scrolled": false
   },
   "outputs": [
    {
     "data": {
      "text/html": [
       "<div>\n",
       "<style scoped>\n",
       "    .dataframe tbody tr th:only-of-type {\n",
       "        vertical-align: middle;\n",
       "    }\n",
       "\n",
       "    .dataframe tbody tr th {\n",
       "        vertical-align: top;\n",
       "    }\n",
       "\n",
       "    .dataframe thead th {\n",
       "        text-align: right;\n",
       "    }\n",
       "</style>\n",
       "<table border=\"1\" class=\"dataframe\">\n",
       "  <thead>\n",
       "    <tr style=\"text-align: right;\">\n",
       "      <th></th>\n",
       "      <th>DayOfWeek</th>\n",
       "      <th>CRSDepTime</th>\n",
       "      <th>CRSArrTime</th>\n",
       "      <th>DepDelay</th>\n",
       "      <th>TaxiIn</th>\n",
       "      <th>TaxiOut</th>\n",
       "    </tr>\n",
       "  </thead>\n",
       "  <tbody>\n",
       "    <tr>\n",
       "      <th>758739</th>\n",
       "      <td>3</td>\n",
       "      <td>510</td>\n",
       "      <td>595</td>\n",
       "      <td>11.0</td>\n",
       "      <td>4.0</td>\n",
       "      <td>12.0</td>\n",
       "    </tr>\n",
       "    <tr>\n",
       "      <th>1059361</th>\n",
       "      <td>3</td>\n",
       "      <td>1085</td>\n",
       "      <td>1263</td>\n",
       "      <td>215.0</td>\n",
       "      <td>16.0</td>\n",
       "      <td>14.0</td>\n",
       "    </tr>\n",
       "    <tr>\n",
       "      <th>367781</th>\n",
       "      <td>1</td>\n",
       "      <td>1070</td>\n",
       "      <td>1223</td>\n",
       "      <td>11.0</td>\n",
       "      <td>10.0</td>\n",
       "      <td>17.0</td>\n",
       "    </tr>\n",
       "    <tr>\n",
       "      <th>957591</th>\n",
       "      <td>7</td>\n",
       "      <td>935</td>\n",
       "      <td>1294</td>\n",
       "      <td>17.0</td>\n",
       "      <td>5.0</td>\n",
       "      <td>11.0</td>\n",
       "    </tr>\n",
       "    <tr>\n",
       "      <th>1771991</th>\n",
       "      <td>1</td>\n",
       "      <td>755</td>\n",
       "      <td>882</td>\n",
       "      <td>213.0</td>\n",
       "      <td>5.0</td>\n",
       "      <td>24.0</td>\n",
       "    </tr>\n",
       "  </tbody>\n",
       "</table>\n",
       "</div>"
      ],
      "text/plain": [
       "         DayOfWeek  CRSDepTime  CRSArrTime  DepDelay  TaxiIn  TaxiOut\n",
       "758739           3         510         595      11.0     4.0     12.0\n",
       "1059361          3        1085        1263     215.0    16.0     14.0\n",
       "367781           1        1070        1223      11.0    10.0     17.0\n",
       "957591           7         935        1294      17.0     5.0     11.0\n",
       "1771991          1         755         882     213.0     5.0     24.0"
      ]
     },
     "execution_count": 102,
     "metadata": {},
     "output_type": "execute_result"
    }
   ],
   "source": [
    "X_train.head()"
   ]
  },
  {
   "cell_type": "code",
   "execution_count": 103,
   "metadata": {
    "ExecuteTime": {
     "end_time": "2021-06-04T12:18:23.031077Z",
     "start_time": "2021-06-04T12:18:22.998096Z"
    }
   },
   "outputs": [
    {
     "data": {
      "text/html": [
       "<div>\n",
       "<style scoped>\n",
       "    .dataframe tbody tr th:only-of-type {\n",
       "        vertical-align: middle;\n",
       "    }\n",
       "\n",
       "    .dataframe tbody tr th {\n",
       "        vertical-align: top;\n",
       "    }\n",
       "\n",
       "    .dataframe thead th {\n",
       "        text-align: right;\n",
       "    }\n",
       "</style>\n",
       "<table border=\"1\" class=\"dataframe\">\n",
       "  <thead>\n",
       "    <tr style=\"text-align: right;\">\n",
       "      <th></th>\n",
       "      <th>DayOfWeek</th>\n",
       "      <th>CRSDepTime</th>\n",
       "      <th>CRSArrTime</th>\n",
       "      <th>DepDelay</th>\n",
       "      <th>TaxiIn</th>\n",
       "      <th>TaxiOut</th>\n",
       "    </tr>\n",
       "  </thead>\n",
       "  <tbody>\n",
       "    <tr>\n",
       "      <th>1205104</th>\n",
       "      <td>5</td>\n",
       "      <td>1035</td>\n",
       "      <td>1235</td>\n",
       "      <td>153.0</td>\n",
       "      <td>3.0</td>\n",
       "      <td>13.0</td>\n",
       "    </tr>\n",
       "    <tr>\n",
       "      <th>615091</th>\n",
       "      <td>7</td>\n",
       "      <td>1148</td>\n",
       "      <td>1248</td>\n",
       "      <td>22.0</td>\n",
       "      <td>5.0</td>\n",
       "      <td>27.0</td>\n",
       "    </tr>\n",
       "    <tr>\n",
       "      <th>1317914</th>\n",
       "      <td>4</td>\n",
       "      <td>741</td>\n",
       "      <td>782</td>\n",
       "      <td>44.0</td>\n",
       "      <td>5.0</td>\n",
       "      <td>15.0</td>\n",
       "    </tr>\n",
       "    <tr>\n",
       "      <th>1737109</th>\n",
       "      <td>1</td>\n",
       "      <td>1240</td>\n",
       "      <td>1425</td>\n",
       "      <td>51.0</td>\n",
       "      <td>4.0</td>\n",
       "      <td>17.0</td>\n",
       "    </tr>\n",
       "    <tr>\n",
       "      <th>903835</th>\n",
       "      <td>6</td>\n",
       "      <td>840</td>\n",
       "      <td>1005</td>\n",
       "      <td>88.0</td>\n",
       "      <td>6.0</td>\n",
       "      <td>11.0</td>\n",
       "    </tr>\n",
       "  </tbody>\n",
       "</table>\n",
       "</div>"
      ],
      "text/plain": [
       "         DayOfWeek  CRSDepTime  CRSArrTime  DepDelay  TaxiIn  TaxiOut\n",
       "1205104          5        1035        1235     153.0     3.0     13.0\n",
       "615091           7        1148        1248      22.0     5.0     27.0\n",
       "1317914          4         741         782      44.0     5.0     15.0\n",
       "1737109          1        1240        1425      51.0     4.0     17.0\n",
       "903835           6         840        1005      88.0     6.0     11.0"
      ]
     },
     "execution_count": 103,
     "metadata": {},
     "output_type": "execute_result"
    }
   ],
   "source": [
    "X_test.head()"
   ]
  },
  {
   "cell_type": "code",
   "execution_count": 104,
   "metadata": {
    "ExecuteTime": {
     "end_time": "2021-06-04T12:18:24.015125Z",
     "start_time": "2021-06-04T12:18:23.978149Z"
    }
   },
   "outputs": [],
   "source": [
    "from sklearn.preprocessing import StandardScaler\n",
    "sc = StandardScaler()\n",
    "X_train = sc.fit_transform(X_train)\n",
    "X_test = sc.transform (X_test)"
   ]
  },
  {
   "cell_type": "code",
   "execution_count": 105,
   "metadata": {
    "ExecuteTime": {
     "end_time": "2021-06-04T12:18:24.763162Z",
     "start_time": "2021-06-04T12:18:24.754167Z"
    },
    "scrolled": true
   },
   "outputs": [
    {
     "name": "stdout",
     "output_type": "stream",
     "text": [
      "[[-0.48302015 -1.48808443 -1.37103327 -0.60382309 -0.57615818 -0.4408204 ]\n",
      " [-0.48302015  0.75214552  0.96600123  3.10677841  1.91354227 -0.30693418]\n",
      " [-1.48164043  0.69370474  0.82605904 -0.60382309  0.66869205 -0.10610484]\n",
      " ...\n",
      " [-1.48164043  0.01189562  0.01089581  2.96126463  0.87616708 -0.4408204 ]\n",
      " [-0.48302015  0.53786265  0.66862408 -0.54925542  0.46121701  0.16166762]\n",
      " [ 1.51422042  0.9079876   0.8365547  -0.22184941 -0.78363322  0.49638319]]\n"
     ]
    }
   ],
   "source": [
    "print(X_train)"
   ]
  },
  {
   "cell_type": "code",
   "execution_count": 106,
   "metadata": {
    "ExecuteTime": {
     "end_time": "2021-06-04T12:18:25.462189Z",
     "start_time": "2021-06-04T12:18:25.420216Z"
    },
    "scrolled": false
   },
   "outputs": [],
   "source": [
    "from sklearn.linear_model import LinearRegression\n",
    "\n",
    "regressor = LinearRegression()\n",
    "model_mlr = regressor.fit(X_train, y_train)"
   ]
  },
  {
   "cell_type": "markdown",
   "metadata": {
    "ExecuteTime": {
     "end_time": "2021-05-19T12:50:33.115150Z",
     "start_time": "2021-05-19T12:50:33.094138Z"
    }
   },
   "source": [
    "<span style=color:green>R-squared</span>"
   ]
  },
  {
   "cell_type": "code",
   "execution_count": 107,
   "metadata": {
    "ExecuteTime": {
     "end_time": "2021-06-04T12:18:33.291501Z",
     "start_time": "2021-06-04T12:18:33.281489Z"
    }
   },
   "outputs": [
    {
     "data": {
      "text/plain": [
       "0.9552698304430816"
      ]
     },
     "execution_count": 107,
     "metadata": {},
     "output_type": "execute_result"
    }
   ],
   "source": [
    "model_mlr.score(X_test, y_test)"
   ]
  },
  {
   "cell_type": "code",
   "execution_count": 108,
   "metadata": {
    "ExecuteTime": {
     "end_time": "2021-06-04T12:18:33.966942Z",
     "start_time": "2021-06-04T12:18:33.947934Z"
    }
   },
   "outputs": [],
   "source": [
    "y_pred_mlr = model_mlr.predict(X_test)"
   ]
  },
  {
   "cell_type": "code",
   "execution_count": 109,
   "metadata": {
    "ExecuteTime": {
     "end_time": "2021-06-04T12:18:34.713262Z",
     "start_time": "2021-06-04T12:18:34.686274Z"
    }
   },
   "outputs": [
    {
     "data": {
      "text/html": [
       "<div>\n",
       "<style scoped>\n",
       "    .dataframe tbody tr th:only-of-type {\n",
       "        vertical-align: middle;\n",
       "    }\n",
       "\n",
       "    .dataframe tbody tr th {\n",
       "        vertical-align: top;\n",
       "    }\n",
       "\n",
       "    .dataframe thead th {\n",
       "        text-align: right;\n",
       "    }\n",
       "</style>\n",
       "<table border=\"1\" class=\"dataframe\">\n",
       "  <thead>\n",
       "    <tr style=\"text-align: right;\">\n",
       "      <th></th>\n",
       "      <th>Actual</th>\n",
       "      <th>Predicted</th>\n",
       "    </tr>\n",
       "  </thead>\n",
       "  <tbody>\n",
       "    <tr>\n",
       "      <th>1205104</th>\n",
       "      <td>152.0</td>\n",
       "      <td>142.951243</td>\n",
       "    </tr>\n",
       "    <tr>\n",
       "      <th>615091</th>\n",
       "      <td>27.0</td>\n",
       "      <td>25.942099</td>\n",
       "    </tr>\n",
       "    <tr>\n",
       "      <th>1317914</th>\n",
       "      <td>39.0</td>\n",
       "      <td>39.601383</td>\n",
       "    </tr>\n",
       "    <tr>\n",
       "      <th>1737109</th>\n",
       "      <td>49.0</td>\n",
       "      <td>45.395029</td>\n",
       "    </tr>\n",
       "    <tr>\n",
       "      <th>903835</th>\n",
       "      <td>87.0</td>\n",
       "      <td>79.744174</td>\n",
       "    </tr>\n",
       "    <tr>\n",
       "      <th>...</th>\n",
       "      <td>...</td>\n",
       "      <td>...</td>\n",
       "    </tr>\n",
       "    <tr>\n",
       "      <th>1250965</th>\n",
       "      <td>147.0</td>\n",
       "      <td>146.262436</td>\n",
       "    </tr>\n",
       "    <tr>\n",
       "      <th>1051615</th>\n",
       "      <td>95.0</td>\n",
       "      <td>90.555394</td>\n",
       "    </tr>\n",
       "    <tr>\n",
       "      <th>1728299</th>\n",
       "      <td>75.0</td>\n",
       "      <td>81.944495</td>\n",
       "    </tr>\n",
       "    <tr>\n",
       "      <th>282001</th>\n",
       "      <td>-1.0</td>\n",
       "      <td>8.277860</td>\n",
       "    </tr>\n",
       "    <tr>\n",
       "      <th>1486154</th>\n",
       "      <td>182.0</td>\n",
       "      <td>180.780602</td>\n",
       "    </tr>\n",
       "  </tbody>\n",
       "</table>\n",
       "<p>2000 rows × 2 columns</p>\n",
       "</div>"
      ],
      "text/plain": [
       "         Actual   Predicted\n",
       "1205104   152.0  142.951243\n",
       "615091     27.0   25.942099\n",
       "1317914    39.0   39.601383\n",
       "1737109    49.0   45.395029\n",
       "903835     87.0   79.744174\n",
       "...         ...         ...\n",
       "1250965   147.0  146.262436\n",
       "1051615    95.0   90.555394\n",
       "1728299    75.0   81.944495\n",
       "282001     -1.0    8.277860\n",
       "1486154   182.0  180.780602\n",
       "\n",
       "[2000 rows x 2 columns]"
      ]
     },
     "execution_count": 109,
     "metadata": {},
     "output_type": "execute_result"
    }
   ],
   "source": [
    "df_y_pred_mlr = pd.DataFrame({'Actual': y_test, 'Predicted': y_pred_mlr})\n",
    "df_y_pred_mlr"
   ]
  },
  {
   "cell_type": "code",
   "execution_count": 110,
   "metadata": {
    "ExecuteTime": {
     "end_time": "2021-06-04T12:18:35.646158Z",
     "start_time": "2021-06-04T12:18:35.624168Z"
    },
    "scrolled": false
   },
   "outputs": [
    {
     "name": "stdout",
     "output_type": "stream",
     "text": [
      "Mean Squared Error: 134.2729013635157\n"
     ]
    }
   ],
   "source": [
    "\n",
    "print('Mean Squared Error:', metrics.mean_squared_error(y_test, y_pred_mlr))\n"
   ]
  },
  {
   "cell_type": "markdown",
   "metadata": {},
   "source": [
    "<span style=color:green>*R-squared of 0.958 with variable 'UniqueCarrier' > R-squared of 0.955 without variable 'UniqueCarrier'*</span>"
   ]
  },
  {
   "cell_type": "markdown",
   "metadata": {},
   "source": [
    "<span style=color:green>*MSE of 125.09 with variable 'UniqueCarrier' < MSE of 134.27 without variable 'UniqueCarrier'*</span>"
   ]
  },
  {
   "cell_type": "markdown",
   "metadata": {},
   "source": [
    "<span style=color:green>*Predictions are slightly improved with feature enginnering on 'UniqueCarrier'*</span>"
   ]
  },
  {
   "cell_type": "markdown",
   "metadata": {},
   "source": [
    "# <span style=color:darkblue>Nivell 3</span>"
   ]
  },
  {
   "cell_type": "markdown",
   "metadata": {},
   "source": [
    "<u style=color:blue>Exercici 6:</u>\n",
    "\n",
    "<span style=color:blue>No utilitzis la variable DepDelay a l’hora de fer prediccions.<span>"
   ]
  },
  {
   "cell_type": "markdown",
   "metadata": {},
   "source": [
    "<span style=color:green>Let's check impact impact on multiple linear regression from Exercici 1 from Nivell 1</span>"
   ]
  },
  {
   "cell_type": "code",
   "execution_count": 111,
   "metadata": {
    "ExecuteTime": {
     "end_time": "2021-06-04T12:18:44.076185Z",
     "start_time": "2021-06-04T12:18:44.050178Z"
    }
   },
   "outputs": [
    {
     "name": "stdout",
     "output_type": "stream",
     "text": [
      "(10000, 6) (10000,)\n"
     ]
    }
   ],
   "source": [
    "# Definition of dependent and independent variables\n",
    "X, y = DF.drop(['DepDelay','ArrDelay'],axis=1), DF.ArrDelay\n",
    "print(X.shape, y.shape)"
   ]
  },
  {
   "cell_type": "code",
   "execution_count": 112,
   "metadata": {
    "ExecuteTime": {
     "end_time": "2021-06-04T12:18:44.694032Z",
     "start_time": "2021-06-04T12:18:44.659052Z"
    }
   },
   "outputs": [
    {
     "data": {
      "text/html": [
       "<div>\n",
       "<style scoped>\n",
       "    .dataframe tbody tr th:only-of-type {\n",
       "        vertical-align: middle;\n",
       "    }\n",
       "\n",
       "    .dataframe tbody tr th {\n",
       "        vertical-align: top;\n",
       "    }\n",
       "\n",
       "    .dataframe thead th {\n",
       "        text-align: right;\n",
       "    }\n",
       "</style>\n",
       "<table border=\"1\" class=\"dataframe\">\n",
       "  <thead>\n",
       "    <tr style=\"text-align: right;\">\n",
       "      <th></th>\n",
       "      <th>DayOfWeek</th>\n",
       "      <th>CRSDepTime</th>\n",
       "      <th>CRSArrTime</th>\n",
       "      <th>TaxiIn</th>\n",
       "      <th>TaxiOut</th>\n",
       "      <th>UniqueCarrier</th>\n",
       "    </tr>\n",
       "  </thead>\n",
       "  <tbody>\n",
       "    <tr>\n",
       "      <th>942808</th>\n",
       "      <td>6</td>\n",
       "      <td>642</td>\n",
       "      <td>734</td>\n",
       "      <td>6.0</td>\n",
       "      <td>17.0</td>\n",
       "      <td>OO</td>\n",
       "    </tr>\n",
       "    <tr>\n",
       "      <th>1484347</th>\n",
       "      <td>1</td>\n",
       "      <td>1115</td>\n",
       "      <td>1185</td>\n",
       "      <td>6.0</td>\n",
       "      <td>6.0</td>\n",
       "      <td>MQ</td>\n",
       "    </tr>\n",
       "    <tr>\n",
       "      <th>1566787</th>\n",
       "      <td>6</td>\n",
       "      <td>975</td>\n",
       "      <td>1037</td>\n",
       "      <td>7.0</td>\n",
       "      <td>14.0</td>\n",
       "      <td>US</td>\n",
       "    </tr>\n",
       "    <tr>\n",
       "      <th>1256237</th>\n",
       "      <td>2</td>\n",
       "      <td>1040</td>\n",
       "      <td>1160</td>\n",
       "      <td>5.0</td>\n",
       "      <td>59.0</td>\n",
       "      <td>DL</td>\n",
       "    </tr>\n",
       "    <tr>\n",
       "      <th>651063</th>\n",
       "      <td>5</td>\n",
       "      <td>1000</td>\n",
       "      <td>1037</td>\n",
       "      <td>7.0</td>\n",
       "      <td>8.0</td>\n",
       "      <td>EV</td>\n",
       "    </tr>\n",
       "  </tbody>\n",
       "</table>\n",
       "</div>"
      ],
      "text/plain": [
       "         DayOfWeek  CRSDepTime  CRSArrTime  TaxiIn  TaxiOut UniqueCarrier\n",
       "942808           6         642         734     6.0     17.0            OO\n",
       "1484347          1        1115        1185     6.0      6.0            MQ\n",
       "1566787          6         975        1037     7.0     14.0            US\n",
       "1256237          2        1040        1160     5.0     59.0            DL\n",
       "651063           5        1000        1037     7.0      8.0            EV"
      ]
     },
     "execution_count": 112,
     "metadata": {},
     "output_type": "execute_result"
    }
   ],
   "source": [
    "X.head()"
   ]
  },
  {
   "cell_type": "code",
   "execution_count": 113,
   "metadata": {
    "ExecuteTime": {
     "end_time": "2021-06-04T12:18:45.510083Z",
     "start_time": "2021-06-04T12:18:45.494093Z"
    }
   },
   "outputs": [],
   "source": [
    "# Split the dataset into train and test subsets\n",
    "X_train, X_test, y_train, y_test = train_test_split(X, y, test_size=0.2, random_state=0)"
   ]
  },
  {
   "cell_type": "code",
   "execution_count": 114,
   "metadata": {
    "ExecuteTime": {
     "end_time": "2021-06-04T12:18:46.112259Z",
     "start_time": "2021-06-04T12:18:46.095251Z"
    }
   },
   "outputs": [
    {
     "data": {
      "text/plain": [
       "((8000, 6), (2000, 6), (8000,), (2000,))"
      ]
     },
     "execution_count": 114,
     "metadata": {},
     "output_type": "execute_result"
    }
   ],
   "source": [
    "X_train.shape, X_test.shape, y_train.shape, y_test.shape"
   ]
  },
  {
   "cell_type": "code",
   "execution_count": 115,
   "metadata": {
    "ExecuteTime": {
     "end_time": "2021-06-04T12:18:46.777167Z",
     "start_time": "2021-06-04T12:18:46.730194Z"
    }
   },
   "outputs": [
    {
     "data": {
      "text/html": [
       "<div>\n",
       "<style scoped>\n",
       "    .dataframe tbody tr th:only-of-type {\n",
       "        vertical-align: middle;\n",
       "    }\n",
       "\n",
       "    .dataframe tbody tr th {\n",
       "        vertical-align: top;\n",
       "    }\n",
       "\n",
       "    .dataframe thead th {\n",
       "        text-align: right;\n",
       "    }\n",
       "</style>\n",
       "<table border=\"1\" class=\"dataframe\">\n",
       "  <thead>\n",
       "    <tr style=\"text-align: right;\">\n",
       "      <th></th>\n",
       "      <th>DayOfWeek</th>\n",
       "      <th>CRSDepTime</th>\n",
       "      <th>CRSArrTime</th>\n",
       "      <th>TaxiIn</th>\n",
       "      <th>TaxiOut</th>\n",
       "      <th>UniqueCarrier_AA</th>\n",
       "      <th>UniqueCarrier_AQ</th>\n",
       "      <th>UniqueCarrier_AS</th>\n",
       "      <th>UniqueCarrier_B6</th>\n",
       "      <th>UniqueCarrier_CO</th>\n",
       "      <th>...</th>\n",
       "      <th>UniqueCarrier_HA</th>\n",
       "      <th>UniqueCarrier_MQ</th>\n",
       "      <th>UniqueCarrier_NW</th>\n",
       "      <th>UniqueCarrier_OH</th>\n",
       "      <th>UniqueCarrier_OO</th>\n",
       "      <th>UniqueCarrier_UA</th>\n",
       "      <th>UniqueCarrier_US</th>\n",
       "      <th>UniqueCarrier_WN</th>\n",
       "      <th>UniqueCarrier_XE</th>\n",
       "      <th>UniqueCarrier_YV</th>\n",
       "    </tr>\n",
       "  </thead>\n",
       "  <tbody>\n",
       "    <tr>\n",
       "      <th>758739</th>\n",
       "      <td>3</td>\n",
       "      <td>510</td>\n",
       "      <td>595</td>\n",
       "      <td>4.0</td>\n",
       "      <td>12.0</td>\n",
       "      <td>0</td>\n",
       "      <td>0</td>\n",
       "      <td>0</td>\n",
       "      <td>0</td>\n",
       "      <td>0</td>\n",
       "      <td>...</td>\n",
       "      <td>0</td>\n",
       "      <td>0</td>\n",
       "      <td>0</td>\n",
       "      <td>0</td>\n",
       "      <td>0</td>\n",
       "      <td>0</td>\n",
       "      <td>0</td>\n",
       "      <td>0</td>\n",
       "      <td>1</td>\n",
       "      <td>0</td>\n",
       "    </tr>\n",
       "    <tr>\n",
       "      <th>1059361</th>\n",
       "      <td>3</td>\n",
       "      <td>1085</td>\n",
       "      <td>1263</td>\n",
       "      <td>16.0</td>\n",
       "      <td>14.0</td>\n",
       "      <td>0</td>\n",
       "      <td>0</td>\n",
       "      <td>0</td>\n",
       "      <td>1</td>\n",
       "      <td>0</td>\n",
       "      <td>...</td>\n",
       "      <td>0</td>\n",
       "      <td>0</td>\n",
       "      <td>0</td>\n",
       "      <td>0</td>\n",
       "      <td>0</td>\n",
       "      <td>0</td>\n",
       "      <td>0</td>\n",
       "      <td>0</td>\n",
       "      <td>0</td>\n",
       "      <td>0</td>\n",
       "    </tr>\n",
       "    <tr>\n",
       "      <th>367781</th>\n",
       "      <td>1</td>\n",
       "      <td>1070</td>\n",
       "      <td>1223</td>\n",
       "      <td>10.0</td>\n",
       "      <td>17.0</td>\n",
       "      <td>0</td>\n",
       "      <td>0</td>\n",
       "      <td>0</td>\n",
       "      <td>0</td>\n",
       "      <td>1</td>\n",
       "      <td>...</td>\n",
       "      <td>0</td>\n",
       "      <td>0</td>\n",
       "      <td>0</td>\n",
       "      <td>0</td>\n",
       "      <td>0</td>\n",
       "      <td>0</td>\n",
       "      <td>0</td>\n",
       "      <td>0</td>\n",
       "      <td>0</td>\n",
       "      <td>0</td>\n",
       "    </tr>\n",
       "    <tr>\n",
       "      <th>957591</th>\n",
       "      <td>7</td>\n",
       "      <td>935</td>\n",
       "      <td>1294</td>\n",
       "      <td>5.0</td>\n",
       "      <td>11.0</td>\n",
       "      <td>0</td>\n",
       "      <td>0</td>\n",
       "      <td>0</td>\n",
       "      <td>0</td>\n",
       "      <td>0</td>\n",
       "      <td>...</td>\n",
       "      <td>0</td>\n",
       "      <td>0</td>\n",
       "      <td>0</td>\n",
       "      <td>0</td>\n",
       "      <td>0</td>\n",
       "      <td>1</td>\n",
       "      <td>0</td>\n",
       "      <td>0</td>\n",
       "      <td>0</td>\n",
       "      <td>0</td>\n",
       "    </tr>\n",
       "    <tr>\n",
       "      <th>1771991</th>\n",
       "      <td>1</td>\n",
       "      <td>755</td>\n",
       "      <td>882</td>\n",
       "      <td>5.0</td>\n",
       "      <td>24.0</td>\n",
       "      <td>0</td>\n",
       "      <td>0</td>\n",
       "      <td>0</td>\n",
       "      <td>0</td>\n",
       "      <td>0</td>\n",
       "      <td>...</td>\n",
       "      <td>0</td>\n",
       "      <td>0</td>\n",
       "      <td>0</td>\n",
       "      <td>0</td>\n",
       "      <td>0</td>\n",
       "      <td>0</td>\n",
       "      <td>0</td>\n",
       "      <td>0</td>\n",
       "      <td>1</td>\n",
       "      <td>0</td>\n",
       "    </tr>\n",
       "  </tbody>\n",
       "</table>\n",
       "<p>5 rows × 24 columns</p>\n",
       "</div>"
      ],
      "text/plain": [
       "         DayOfWeek  CRSDepTime  CRSArrTime  TaxiIn  TaxiOut  UniqueCarrier_AA  \\\n",
       "758739           3         510         595     4.0     12.0                 0   \n",
       "1059361          3        1085        1263    16.0     14.0                 0   \n",
       "367781           1        1070        1223    10.0     17.0                 0   \n",
       "957591           7         935        1294     5.0     11.0                 0   \n",
       "1771991          1         755         882     5.0     24.0                 0   \n",
       "\n",
       "         UniqueCarrier_AQ  UniqueCarrier_AS  UniqueCarrier_B6  \\\n",
       "758739                  0                 0                 0   \n",
       "1059361                 0                 0                 1   \n",
       "367781                  0                 0                 0   \n",
       "957591                  0                 0                 0   \n",
       "1771991                 0                 0                 0   \n",
       "\n",
       "         UniqueCarrier_CO  ...  UniqueCarrier_HA  UniqueCarrier_MQ  \\\n",
       "758739                  0  ...                 0                 0   \n",
       "1059361                 0  ...                 0                 0   \n",
       "367781                  1  ...                 0                 0   \n",
       "957591                  0  ...                 0                 0   \n",
       "1771991                 0  ...                 0                 0   \n",
       "\n",
       "         UniqueCarrier_NW  UniqueCarrier_OH  UniqueCarrier_OO  \\\n",
       "758739                  0                 0                 0   \n",
       "1059361                 0                 0                 0   \n",
       "367781                  0                 0                 0   \n",
       "957591                  0                 0                 0   \n",
       "1771991                 0                 0                 0   \n",
       "\n",
       "         UniqueCarrier_UA  UniqueCarrier_US  UniqueCarrier_WN  \\\n",
       "758739                  0                 0                 0   \n",
       "1059361                 0                 0                 0   \n",
       "367781                  0                 0                 0   \n",
       "957591                  1                 0                 0   \n",
       "1771991                 0                 0                 0   \n",
       "\n",
       "         UniqueCarrier_XE  UniqueCarrier_YV  \n",
       "758739                  1                 0  \n",
       "1059361                 0                 0  \n",
       "367781                  0                 0  \n",
       "957591                  0                 0  \n",
       "1771991                 1                 0  \n",
       "\n",
       "[5 rows x 24 columns]"
      ]
     },
     "execution_count": 115,
     "metadata": {},
     "output_type": "execute_result"
    }
   ],
   "source": [
    "# 'Unique Carrier': Create dummy\n",
    "\n",
    "# Create dummy variables\n",
    "dummy_UniqueCarrier_type = pd.get_dummies(X_train['UniqueCarrier'], prefix='UniqueCarrier', drop_first=True)\n",
    "\n",
    "# Drop unnecessary columns\n",
    "to_drop = ['UniqueCarrier']\n",
    "X_train.drop(to_drop, axis=1, inplace=True)\n",
    "\n",
    "# Merge into a single data frame\n",
    "X_train = pd.concat([X_train, dummy_UniqueCarrier_type], axis=1)\n",
    "X_train.head()"
   ]
  },
  {
   "cell_type": "code",
   "execution_count": 116,
   "metadata": {
    "ExecuteTime": {
     "end_time": "2021-06-04T12:18:47.394557Z",
     "start_time": "2021-06-04T12:18:47.341608Z"
    },
    "scrolled": true
   },
   "outputs": [
    {
     "data": {
      "text/html": [
       "<div>\n",
       "<style scoped>\n",
       "    .dataframe tbody tr th:only-of-type {\n",
       "        vertical-align: middle;\n",
       "    }\n",
       "\n",
       "    .dataframe tbody tr th {\n",
       "        vertical-align: top;\n",
       "    }\n",
       "\n",
       "    .dataframe thead th {\n",
       "        text-align: right;\n",
       "    }\n",
       "</style>\n",
       "<table border=\"1\" class=\"dataframe\">\n",
       "  <thead>\n",
       "    <tr style=\"text-align: right;\">\n",
       "      <th></th>\n",
       "      <th>DayOfWeek</th>\n",
       "      <th>CRSDepTime</th>\n",
       "      <th>CRSArrTime</th>\n",
       "      <th>TaxiIn</th>\n",
       "      <th>TaxiOut</th>\n",
       "      <th>UniqueCarrier_AA</th>\n",
       "      <th>UniqueCarrier_AQ</th>\n",
       "      <th>UniqueCarrier_AS</th>\n",
       "      <th>UniqueCarrier_B6</th>\n",
       "      <th>UniqueCarrier_CO</th>\n",
       "      <th>...</th>\n",
       "      <th>UniqueCarrier_HA</th>\n",
       "      <th>UniqueCarrier_MQ</th>\n",
       "      <th>UniqueCarrier_NW</th>\n",
       "      <th>UniqueCarrier_OH</th>\n",
       "      <th>UniqueCarrier_OO</th>\n",
       "      <th>UniqueCarrier_UA</th>\n",
       "      <th>UniqueCarrier_US</th>\n",
       "      <th>UniqueCarrier_WN</th>\n",
       "      <th>UniqueCarrier_XE</th>\n",
       "      <th>UniqueCarrier_YV</th>\n",
       "    </tr>\n",
       "  </thead>\n",
       "  <tbody>\n",
       "    <tr>\n",
       "      <th>1205104</th>\n",
       "      <td>5</td>\n",
       "      <td>1035</td>\n",
       "      <td>1235</td>\n",
       "      <td>3.0</td>\n",
       "      <td>13.0</td>\n",
       "      <td>0</td>\n",
       "      <td>0</td>\n",
       "      <td>0</td>\n",
       "      <td>0</td>\n",
       "      <td>0</td>\n",
       "      <td>...</td>\n",
       "      <td>0</td>\n",
       "      <td>1</td>\n",
       "      <td>0</td>\n",
       "      <td>0</td>\n",
       "      <td>0</td>\n",
       "      <td>0</td>\n",
       "      <td>0</td>\n",
       "      <td>0</td>\n",
       "      <td>0</td>\n",
       "      <td>0</td>\n",
       "    </tr>\n",
       "    <tr>\n",
       "      <th>615091</th>\n",
       "      <td>7</td>\n",
       "      <td>1148</td>\n",
       "      <td>1248</td>\n",
       "      <td>5.0</td>\n",
       "      <td>27.0</td>\n",
       "      <td>0</td>\n",
       "      <td>0</td>\n",
       "      <td>0</td>\n",
       "      <td>0</td>\n",
       "      <td>0</td>\n",
       "      <td>...</td>\n",
       "      <td>0</td>\n",
       "      <td>0</td>\n",
       "      <td>0</td>\n",
       "      <td>1</td>\n",
       "      <td>0</td>\n",
       "      <td>0</td>\n",
       "      <td>0</td>\n",
       "      <td>0</td>\n",
       "      <td>0</td>\n",
       "      <td>0</td>\n",
       "    </tr>\n",
       "    <tr>\n",
       "      <th>1317914</th>\n",
       "      <td>4</td>\n",
       "      <td>741</td>\n",
       "      <td>782</td>\n",
       "      <td>5.0</td>\n",
       "      <td>15.0</td>\n",
       "      <td>0</td>\n",
       "      <td>0</td>\n",
       "      <td>0</td>\n",
       "      <td>0</td>\n",
       "      <td>0</td>\n",
       "      <td>...</td>\n",
       "      <td>0</td>\n",
       "      <td>0</td>\n",
       "      <td>0</td>\n",
       "      <td>0</td>\n",
       "      <td>1</td>\n",
       "      <td>0</td>\n",
       "      <td>0</td>\n",
       "      <td>0</td>\n",
       "      <td>0</td>\n",
       "      <td>0</td>\n",
       "    </tr>\n",
       "    <tr>\n",
       "      <th>1737109</th>\n",
       "      <td>1</td>\n",
       "      <td>1240</td>\n",
       "      <td>1425</td>\n",
       "      <td>4.0</td>\n",
       "      <td>17.0</td>\n",
       "      <td>0</td>\n",
       "      <td>0</td>\n",
       "      <td>0</td>\n",
       "      <td>0</td>\n",
       "      <td>0</td>\n",
       "      <td>...</td>\n",
       "      <td>0</td>\n",
       "      <td>0</td>\n",
       "      <td>0</td>\n",
       "      <td>0</td>\n",
       "      <td>0</td>\n",
       "      <td>0</td>\n",
       "      <td>0</td>\n",
       "      <td>1</td>\n",
       "      <td>0</td>\n",
       "      <td>0</td>\n",
       "    </tr>\n",
       "    <tr>\n",
       "      <th>903835</th>\n",
       "      <td>6</td>\n",
       "      <td>840</td>\n",
       "      <td>1005</td>\n",
       "      <td>6.0</td>\n",
       "      <td>11.0</td>\n",
       "      <td>0</td>\n",
       "      <td>0</td>\n",
       "      <td>0</td>\n",
       "      <td>0</td>\n",
       "      <td>0</td>\n",
       "      <td>...</td>\n",
       "      <td>0</td>\n",
       "      <td>0</td>\n",
       "      <td>0</td>\n",
       "      <td>0</td>\n",
       "      <td>0</td>\n",
       "      <td>0</td>\n",
       "      <td>0</td>\n",
       "      <td>1</td>\n",
       "      <td>0</td>\n",
       "      <td>0</td>\n",
       "    </tr>\n",
       "  </tbody>\n",
       "</table>\n",
       "<p>5 rows × 24 columns</p>\n",
       "</div>"
      ],
      "text/plain": [
       "         DayOfWeek  CRSDepTime  CRSArrTime  TaxiIn  TaxiOut  UniqueCarrier_AA  \\\n",
       "1205104          5        1035        1235     3.0     13.0                 0   \n",
       "615091           7        1148        1248     5.0     27.0                 0   \n",
       "1317914          4         741         782     5.0     15.0                 0   \n",
       "1737109          1        1240        1425     4.0     17.0                 0   \n",
       "903835           6         840        1005     6.0     11.0                 0   \n",
       "\n",
       "         UniqueCarrier_AQ  UniqueCarrier_AS  UniqueCarrier_B6  \\\n",
       "1205104                 0                 0                 0   \n",
       "615091                  0                 0                 0   \n",
       "1317914                 0                 0                 0   \n",
       "1737109                 0                 0                 0   \n",
       "903835                  0                 0                 0   \n",
       "\n",
       "         UniqueCarrier_CO  ...  UniqueCarrier_HA  UniqueCarrier_MQ  \\\n",
       "1205104                 0  ...                 0                 1   \n",
       "615091                  0  ...                 0                 0   \n",
       "1317914                 0  ...                 0                 0   \n",
       "1737109                 0  ...                 0                 0   \n",
       "903835                  0  ...                 0                 0   \n",
       "\n",
       "         UniqueCarrier_NW  UniqueCarrier_OH  UniqueCarrier_OO  \\\n",
       "1205104                 0                 0                 0   \n",
       "615091                  0                 1                 0   \n",
       "1317914                 0                 0                 1   \n",
       "1737109                 0                 0                 0   \n",
       "903835                  0                 0                 0   \n",
       "\n",
       "         UniqueCarrier_UA  UniqueCarrier_US  UniqueCarrier_WN  \\\n",
       "1205104                 0                 0                 0   \n",
       "615091                  0                 0                 0   \n",
       "1317914                 0                 0                 0   \n",
       "1737109                 0                 0                 1   \n",
       "903835                  0                 0                 1   \n",
       "\n",
       "         UniqueCarrier_XE  UniqueCarrier_YV  \n",
       "1205104                 0                 0  \n",
       "615091                  0                 0  \n",
       "1317914                 0                 0  \n",
       "1737109                 0                 0  \n",
       "903835                  0                 0  \n",
       "\n",
       "[5 rows x 24 columns]"
      ]
     },
     "execution_count": 116,
     "metadata": {},
     "output_type": "execute_result"
    }
   ],
   "source": [
    "# Apply dummy to X_test\n",
    "dummy_UniqueCarrier_type = pd.get_dummies(X_test['UniqueCarrier'], prefix='UniqueCarrier', drop_first=True)\n",
    "to_drop = ['UniqueCarrier']\n",
    "X_test.drop(to_drop, axis=1, inplace=True)\n",
    "# Merge into a single data frame\n",
    "X_test = pd.concat([X_test, dummy_UniqueCarrier_type], axis=1)\n",
    "X_test.head()"
   ]
  },
  {
   "cell_type": "code",
   "execution_count": 117,
   "metadata": {
    "ExecuteTime": {
     "end_time": "2021-06-04T12:18:48.078126Z",
     "start_time": "2021-06-04T12:18:48.017165Z"
    }
   },
   "outputs": [],
   "source": [
    "# Standardize variables\n",
    "\n",
    "from sklearn.preprocessing import StandardScaler\n",
    "\n",
    "# Scale selected columns by index\n",
    "# Set up scaler\n",
    "scaler = StandardScaler().fit(X_train.iloc[:,:5])\n",
    "X_train.iloc[:,:5] = scaler.transform(X_train.iloc[:,:5])\n",
    "X_train.head()\n",
    "#  Scale X_Test data\n",
    "X_test.iloc[:,:5] = scaler.transform(X_test.iloc[:,:5])"
   ]
  },
  {
   "cell_type": "code",
   "execution_count": 118,
   "metadata": {
    "ExecuteTime": {
     "end_time": "2021-06-04T12:18:48.677256Z",
     "start_time": "2021-06-04T12:18:48.626288Z"
    }
   },
   "outputs": [
    {
     "data": {
      "text/html": [
       "<div>\n",
       "<style scoped>\n",
       "    .dataframe tbody tr th:only-of-type {\n",
       "        vertical-align: middle;\n",
       "    }\n",
       "\n",
       "    .dataframe tbody tr th {\n",
       "        vertical-align: top;\n",
       "    }\n",
       "\n",
       "    .dataframe thead th {\n",
       "        text-align: right;\n",
       "    }\n",
       "</style>\n",
       "<table border=\"1\" class=\"dataframe\">\n",
       "  <thead>\n",
       "    <tr style=\"text-align: right;\">\n",
       "      <th></th>\n",
       "      <th>DayOfWeek</th>\n",
       "      <th>CRSDepTime</th>\n",
       "      <th>CRSArrTime</th>\n",
       "      <th>TaxiIn</th>\n",
       "      <th>TaxiOut</th>\n",
       "      <th>UniqueCarrier_AA</th>\n",
       "      <th>UniqueCarrier_AQ</th>\n",
       "      <th>UniqueCarrier_AS</th>\n",
       "      <th>UniqueCarrier_B6</th>\n",
       "      <th>UniqueCarrier_CO</th>\n",
       "      <th>...</th>\n",
       "      <th>UniqueCarrier_HA</th>\n",
       "      <th>UniqueCarrier_MQ</th>\n",
       "      <th>UniqueCarrier_NW</th>\n",
       "      <th>UniqueCarrier_OH</th>\n",
       "      <th>UniqueCarrier_OO</th>\n",
       "      <th>UniqueCarrier_UA</th>\n",
       "      <th>UniqueCarrier_US</th>\n",
       "      <th>UniqueCarrier_WN</th>\n",
       "      <th>UniqueCarrier_XE</th>\n",
       "      <th>UniqueCarrier_YV</th>\n",
       "    </tr>\n",
       "  </thead>\n",
       "  <tbody>\n",
       "    <tr>\n",
       "      <th>758739</th>\n",
       "      <td>-0.48302</td>\n",
       "      <td>-1.488084</td>\n",
       "      <td>-1.371033</td>\n",
       "      <td>-0.576158</td>\n",
       "      <td>-0.440820</td>\n",
       "      <td>0</td>\n",
       "      <td>0</td>\n",
       "      <td>0</td>\n",
       "      <td>0</td>\n",
       "      <td>0</td>\n",
       "      <td>...</td>\n",
       "      <td>0</td>\n",
       "      <td>0</td>\n",
       "      <td>0</td>\n",
       "      <td>0</td>\n",
       "      <td>0</td>\n",
       "      <td>0</td>\n",
       "      <td>0</td>\n",
       "      <td>0</td>\n",
       "      <td>1</td>\n",
       "      <td>0</td>\n",
       "    </tr>\n",
       "    <tr>\n",
       "      <th>1059361</th>\n",
       "      <td>-0.48302</td>\n",
       "      <td>0.752146</td>\n",
       "      <td>0.966001</td>\n",
       "      <td>1.913542</td>\n",
       "      <td>-0.306934</td>\n",
       "      <td>0</td>\n",
       "      <td>0</td>\n",
       "      <td>0</td>\n",
       "      <td>1</td>\n",
       "      <td>0</td>\n",
       "      <td>...</td>\n",
       "      <td>0</td>\n",
       "      <td>0</td>\n",
       "      <td>0</td>\n",
       "      <td>0</td>\n",
       "      <td>0</td>\n",
       "      <td>0</td>\n",
       "      <td>0</td>\n",
       "      <td>0</td>\n",
       "      <td>0</td>\n",
       "      <td>0</td>\n",
       "    </tr>\n",
       "    <tr>\n",
       "      <th>367781</th>\n",
       "      <td>-1.48164</td>\n",
       "      <td>0.693705</td>\n",
       "      <td>0.826059</td>\n",
       "      <td>0.668692</td>\n",
       "      <td>-0.106105</td>\n",
       "      <td>0</td>\n",
       "      <td>0</td>\n",
       "      <td>0</td>\n",
       "      <td>0</td>\n",
       "      <td>1</td>\n",
       "      <td>...</td>\n",
       "      <td>0</td>\n",
       "      <td>0</td>\n",
       "      <td>0</td>\n",
       "      <td>0</td>\n",
       "      <td>0</td>\n",
       "      <td>0</td>\n",
       "      <td>0</td>\n",
       "      <td>0</td>\n",
       "      <td>0</td>\n",
       "      <td>0</td>\n",
       "    </tr>\n",
       "    <tr>\n",
       "      <th>957591</th>\n",
       "      <td>1.51422</td>\n",
       "      <td>0.167738</td>\n",
       "      <td>1.074456</td>\n",
       "      <td>-0.368683</td>\n",
       "      <td>-0.507764</td>\n",
       "      <td>0</td>\n",
       "      <td>0</td>\n",
       "      <td>0</td>\n",
       "      <td>0</td>\n",
       "      <td>0</td>\n",
       "      <td>...</td>\n",
       "      <td>0</td>\n",
       "      <td>0</td>\n",
       "      <td>0</td>\n",
       "      <td>0</td>\n",
       "      <td>0</td>\n",
       "      <td>1</td>\n",
       "      <td>0</td>\n",
       "      <td>0</td>\n",
       "      <td>0</td>\n",
       "      <td>0</td>\n",
       "    </tr>\n",
       "    <tr>\n",
       "      <th>1771991</th>\n",
       "      <td>-1.48164</td>\n",
       "      <td>-0.533552</td>\n",
       "      <td>-0.366948</td>\n",
       "      <td>-0.368683</td>\n",
       "      <td>0.362497</td>\n",
       "      <td>0</td>\n",
       "      <td>0</td>\n",
       "      <td>0</td>\n",
       "      <td>0</td>\n",
       "      <td>0</td>\n",
       "      <td>...</td>\n",
       "      <td>0</td>\n",
       "      <td>0</td>\n",
       "      <td>0</td>\n",
       "      <td>0</td>\n",
       "      <td>0</td>\n",
       "      <td>0</td>\n",
       "      <td>0</td>\n",
       "      <td>0</td>\n",
       "      <td>1</td>\n",
       "      <td>0</td>\n",
       "    </tr>\n",
       "  </tbody>\n",
       "</table>\n",
       "<p>5 rows × 24 columns</p>\n",
       "</div>"
      ],
      "text/plain": [
       "         DayOfWeek  CRSDepTime  CRSArrTime    TaxiIn   TaxiOut  \\\n",
       "758739    -0.48302   -1.488084   -1.371033 -0.576158 -0.440820   \n",
       "1059361   -0.48302    0.752146    0.966001  1.913542 -0.306934   \n",
       "367781    -1.48164    0.693705    0.826059  0.668692 -0.106105   \n",
       "957591     1.51422    0.167738    1.074456 -0.368683 -0.507764   \n",
       "1771991   -1.48164   -0.533552   -0.366948 -0.368683  0.362497   \n",
       "\n",
       "         UniqueCarrier_AA  UniqueCarrier_AQ  UniqueCarrier_AS  \\\n",
       "758739                  0                 0                 0   \n",
       "1059361                 0                 0                 0   \n",
       "367781                  0                 0                 0   \n",
       "957591                  0                 0                 0   \n",
       "1771991                 0                 0                 0   \n",
       "\n",
       "         UniqueCarrier_B6  UniqueCarrier_CO  ...  UniqueCarrier_HA  \\\n",
       "758739                  0                 0  ...                 0   \n",
       "1059361                 1                 0  ...                 0   \n",
       "367781                  0                 1  ...                 0   \n",
       "957591                  0                 0  ...                 0   \n",
       "1771991                 0                 0  ...                 0   \n",
       "\n",
       "         UniqueCarrier_MQ  UniqueCarrier_NW  UniqueCarrier_OH  \\\n",
       "758739                  0                 0                 0   \n",
       "1059361                 0                 0                 0   \n",
       "367781                  0                 0                 0   \n",
       "957591                  0                 0                 0   \n",
       "1771991                 0                 0                 0   \n",
       "\n",
       "         UniqueCarrier_OO  UniqueCarrier_UA  UniqueCarrier_US  \\\n",
       "758739                  0                 0                 0   \n",
       "1059361                 0                 0                 0   \n",
       "367781                  0                 0                 0   \n",
       "957591                  0                 1                 0   \n",
       "1771991                 0                 0                 0   \n",
       "\n",
       "         UniqueCarrier_WN  UniqueCarrier_XE  UniqueCarrier_YV  \n",
       "758739                  0                 1                 0  \n",
       "1059361                 0                 0                 0  \n",
       "367781                  0                 0                 0  \n",
       "957591                  0                 0                 0  \n",
       "1771991                 0                 1                 0  \n",
       "\n",
       "[5 rows x 24 columns]"
      ]
     },
     "execution_count": 118,
     "metadata": {},
     "output_type": "execute_result"
    }
   ],
   "source": [
    "X_train.head()"
   ]
  },
  {
   "cell_type": "code",
   "execution_count": 119,
   "metadata": {
    "ExecuteTime": {
     "end_time": "2021-06-04T12:18:49.226846Z",
     "start_time": "2021-06-04T12:18:49.159886Z"
    },
    "scrolled": false
   },
   "outputs": [
    {
     "data": {
      "text/html": [
       "<div>\n",
       "<style scoped>\n",
       "    .dataframe tbody tr th:only-of-type {\n",
       "        vertical-align: middle;\n",
       "    }\n",
       "\n",
       "    .dataframe tbody tr th {\n",
       "        vertical-align: top;\n",
       "    }\n",
       "\n",
       "    .dataframe thead th {\n",
       "        text-align: right;\n",
       "    }\n",
       "</style>\n",
       "<table border=\"1\" class=\"dataframe\">\n",
       "  <thead>\n",
       "    <tr style=\"text-align: right;\">\n",
       "      <th></th>\n",
       "      <th>DayOfWeek</th>\n",
       "      <th>CRSDepTime</th>\n",
       "      <th>CRSArrTime</th>\n",
       "      <th>TaxiIn</th>\n",
       "      <th>TaxiOut</th>\n",
       "      <th>UniqueCarrier_AA</th>\n",
       "      <th>UniqueCarrier_AQ</th>\n",
       "      <th>UniqueCarrier_AS</th>\n",
       "      <th>UniqueCarrier_B6</th>\n",
       "      <th>UniqueCarrier_CO</th>\n",
       "      <th>...</th>\n",
       "      <th>UniqueCarrier_HA</th>\n",
       "      <th>UniqueCarrier_MQ</th>\n",
       "      <th>UniqueCarrier_NW</th>\n",
       "      <th>UniqueCarrier_OH</th>\n",
       "      <th>UniqueCarrier_OO</th>\n",
       "      <th>UniqueCarrier_UA</th>\n",
       "      <th>UniqueCarrier_US</th>\n",
       "      <th>UniqueCarrier_WN</th>\n",
       "      <th>UniqueCarrier_XE</th>\n",
       "      <th>UniqueCarrier_YV</th>\n",
       "    </tr>\n",
       "  </thead>\n",
       "  <tbody>\n",
       "    <tr>\n",
       "      <th>1205104</th>\n",
       "      <td>0.51560</td>\n",
       "      <td>0.557343</td>\n",
       "      <td>0.868042</td>\n",
       "      <td>-0.783633</td>\n",
       "      <td>-0.373877</td>\n",
       "      <td>0</td>\n",
       "      <td>0</td>\n",
       "      <td>0</td>\n",
       "      <td>0</td>\n",
       "      <td>0</td>\n",
       "      <td>...</td>\n",
       "      <td>0</td>\n",
       "      <td>1</td>\n",
       "      <td>0</td>\n",
       "      <td>0</td>\n",
       "      <td>0</td>\n",
       "      <td>0</td>\n",
       "      <td>0</td>\n",
       "      <td>0</td>\n",
       "      <td>0</td>\n",
       "      <td>0</td>\n",
       "    </tr>\n",
       "    <tr>\n",
       "      <th>615091</th>\n",
       "      <td>1.51422</td>\n",
       "      <td>0.997597</td>\n",
       "      <td>0.913523</td>\n",
       "      <td>-0.368683</td>\n",
       "      <td>0.563326</td>\n",
       "      <td>0</td>\n",
       "      <td>0</td>\n",
       "      <td>0</td>\n",
       "      <td>0</td>\n",
       "      <td>0</td>\n",
       "      <td>...</td>\n",
       "      <td>0</td>\n",
       "      <td>0</td>\n",
       "      <td>0</td>\n",
       "      <td>1</td>\n",
       "      <td>0</td>\n",
       "      <td>0</td>\n",
       "      <td>0</td>\n",
       "      <td>0</td>\n",
       "      <td>0</td>\n",
       "      <td>0</td>\n",
       "    </tr>\n",
       "    <tr>\n",
       "      <th>1317914</th>\n",
       "      <td>0.01629</td>\n",
       "      <td>-0.588096</td>\n",
       "      <td>-0.716804</td>\n",
       "      <td>-0.368683</td>\n",
       "      <td>-0.239991</td>\n",
       "      <td>0</td>\n",
       "      <td>0</td>\n",
       "      <td>0</td>\n",
       "      <td>0</td>\n",
       "      <td>0</td>\n",
       "      <td>...</td>\n",
       "      <td>0</td>\n",
       "      <td>0</td>\n",
       "      <td>0</td>\n",
       "      <td>0</td>\n",
       "      <td>1</td>\n",
       "      <td>0</td>\n",
       "      <td>0</td>\n",
       "      <td>0</td>\n",
       "      <td>0</td>\n",
       "      <td>0</td>\n",
       "    </tr>\n",
       "    <tr>\n",
       "      <th>1737109</th>\n",
       "      <td>-1.48164</td>\n",
       "      <td>1.356034</td>\n",
       "      <td>1.532767</td>\n",
       "      <td>-0.576158</td>\n",
       "      <td>-0.106105</td>\n",
       "      <td>0</td>\n",
       "      <td>0</td>\n",
       "      <td>0</td>\n",
       "      <td>0</td>\n",
       "      <td>0</td>\n",
       "      <td>...</td>\n",
       "      <td>0</td>\n",
       "      <td>0</td>\n",
       "      <td>0</td>\n",
       "      <td>0</td>\n",
       "      <td>0</td>\n",
       "      <td>0</td>\n",
       "      <td>0</td>\n",
       "      <td>1</td>\n",
       "      <td>0</td>\n",
       "      <td>0</td>\n",
       "    </tr>\n",
       "    <tr>\n",
       "      <th>903835</th>\n",
       "      <td>1.01491</td>\n",
       "      <td>-0.202387</td>\n",
       "      <td>0.063374</td>\n",
       "      <td>-0.161208</td>\n",
       "      <td>-0.507764</td>\n",
       "      <td>0</td>\n",
       "      <td>0</td>\n",
       "      <td>0</td>\n",
       "      <td>0</td>\n",
       "      <td>0</td>\n",
       "      <td>...</td>\n",
       "      <td>0</td>\n",
       "      <td>0</td>\n",
       "      <td>0</td>\n",
       "      <td>0</td>\n",
       "      <td>0</td>\n",
       "      <td>0</td>\n",
       "      <td>0</td>\n",
       "      <td>1</td>\n",
       "      <td>0</td>\n",
       "      <td>0</td>\n",
       "    </tr>\n",
       "  </tbody>\n",
       "</table>\n",
       "<p>5 rows × 24 columns</p>\n",
       "</div>"
      ],
      "text/plain": [
       "         DayOfWeek  CRSDepTime  CRSArrTime    TaxiIn   TaxiOut  \\\n",
       "1205104    0.51560    0.557343    0.868042 -0.783633 -0.373877   \n",
       "615091     1.51422    0.997597    0.913523 -0.368683  0.563326   \n",
       "1317914    0.01629   -0.588096   -0.716804 -0.368683 -0.239991   \n",
       "1737109   -1.48164    1.356034    1.532767 -0.576158 -0.106105   \n",
       "903835     1.01491   -0.202387    0.063374 -0.161208 -0.507764   \n",
       "\n",
       "         UniqueCarrier_AA  UniqueCarrier_AQ  UniqueCarrier_AS  \\\n",
       "1205104                 0                 0                 0   \n",
       "615091                  0                 0                 0   \n",
       "1317914                 0                 0                 0   \n",
       "1737109                 0                 0                 0   \n",
       "903835                  0                 0                 0   \n",
       "\n",
       "         UniqueCarrier_B6  UniqueCarrier_CO  ...  UniqueCarrier_HA  \\\n",
       "1205104                 0                 0  ...                 0   \n",
       "615091                  0                 0  ...                 0   \n",
       "1317914                 0                 0  ...                 0   \n",
       "1737109                 0                 0  ...                 0   \n",
       "903835                  0                 0  ...                 0   \n",
       "\n",
       "         UniqueCarrier_MQ  UniqueCarrier_NW  UniqueCarrier_OH  \\\n",
       "1205104                 1                 0                 0   \n",
       "615091                  0                 0                 1   \n",
       "1317914                 0                 0                 0   \n",
       "1737109                 0                 0                 0   \n",
       "903835                  0                 0                 0   \n",
       "\n",
       "         UniqueCarrier_OO  UniqueCarrier_UA  UniqueCarrier_US  \\\n",
       "1205104                 0                 0                 0   \n",
       "615091                  0                 0                 0   \n",
       "1317914                 1                 0                 0   \n",
       "1737109                 0                 0                 0   \n",
       "903835                  0                 0                 0   \n",
       "\n",
       "         UniqueCarrier_WN  UniqueCarrier_XE  UniqueCarrier_YV  \n",
       "1205104                 0                 0                 0  \n",
       "615091                  0                 0                 0  \n",
       "1317914                 0                 0                 0  \n",
       "1737109                 1                 0                 0  \n",
       "903835                  1                 0                 0  \n",
       "\n",
       "[5 rows x 24 columns]"
      ]
     },
     "execution_count": 119,
     "metadata": {},
     "output_type": "execute_result"
    }
   ],
   "source": [
    "X_test.head()"
   ]
  },
  {
   "cell_type": "code",
   "execution_count": 120,
   "metadata": {
    "ExecuteTime": {
     "end_time": "2021-06-04T12:18:49.782065Z",
     "start_time": "2021-06-04T12:18:49.776967Z"
    }
   },
   "outputs": [],
   "source": [
    "# MLR - MULTIPLE LINEAR REGRESSION</span>"
   ]
  },
  {
   "cell_type": "code",
   "execution_count": 121,
   "metadata": {
    "ExecuteTime": {
     "end_time": "2021-06-04T12:18:50.394162Z",
     "start_time": "2021-06-04T12:18:50.366182Z"
    },
    "scrolled": false
   },
   "outputs": [],
   "source": [
    "from sklearn.linear_model import LinearRegression\n",
    "\n",
    "regressor = LinearRegression()\n",
    "model_mlr = regressor.fit(X_train, y_train)"
   ]
  },
  {
   "cell_type": "markdown",
   "metadata": {
    "ExecuteTime": {
     "end_time": "2021-05-19T12:50:33.115150Z",
     "start_time": "2021-05-19T12:50:33.094138Z"
    }
   },
   "source": [
    "<span style=color:green>R-squared</span>"
   ]
  },
  {
   "cell_type": "code",
   "execution_count": 122,
   "metadata": {
    "ExecuteTime": {
     "end_time": "2021-06-04T12:18:51.576138Z",
     "start_time": "2021-06-04T12:18:51.549158Z"
    }
   },
   "outputs": [
    {
     "data": {
      "text/plain": [
       "0.11388569640393065"
      ]
     },
     "execution_count": 122,
     "metadata": {},
     "output_type": "execute_result"
    }
   ],
   "source": [
    "model_mlr.score(X_test, y_test)"
   ]
  },
  {
   "cell_type": "markdown",
   "metadata": {},
   "source": [
    "<span style=color:green>Predictions</span>"
   ]
  },
  {
   "cell_type": "code",
   "execution_count": 123,
   "metadata": {
    "ExecuteTime": {
     "end_time": "2021-06-04T12:18:52.744132Z",
     "start_time": "2021-06-04T12:18:52.726163Z"
    }
   },
   "outputs": [],
   "source": [
    "y_pred_mlr = model_mlr.predict(X_test)"
   ]
  },
  {
   "cell_type": "code",
   "execution_count": 124,
   "metadata": {
    "ExecuteTime": {
     "end_time": "2021-06-04T12:18:53.426316Z",
     "start_time": "2021-06-04T12:18:53.392318Z"
    }
   },
   "outputs": [
    {
     "data": {
      "text/html": [
       "<div>\n",
       "<style scoped>\n",
       "    .dataframe tbody tr th:only-of-type {\n",
       "        vertical-align: middle;\n",
       "    }\n",
       "\n",
       "    .dataframe tbody tr th {\n",
       "        vertical-align: top;\n",
       "    }\n",
       "\n",
       "    .dataframe thead th {\n",
       "        text-align: right;\n",
       "    }\n",
       "</style>\n",
       "<table border=\"1\" class=\"dataframe\">\n",
       "  <thead>\n",
       "    <tr style=\"text-align: right;\">\n",
       "      <th></th>\n",
       "      <th>Actual</th>\n",
       "      <th>Predicted</th>\n",
       "    </tr>\n",
       "  </thead>\n",
       "  <tbody>\n",
       "    <tr>\n",
       "      <th>1205104</th>\n",
       "      <td>152.0</td>\n",
       "      <td>29.792574</td>\n",
       "    </tr>\n",
       "    <tr>\n",
       "      <th>615091</th>\n",
       "      <td>27.0</td>\n",
       "      <td>49.875975</td>\n",
       "    </tr>\n",
       "    <tr>\n",
       "      <th>1317914</th>\n",
       "      <td>39.0</td>\n",
       "      <td>42.170540</td>\n",
       "    </tr>\n",
       "    <tr>\n",
       "      <th>1737109</th>\n",
       "      <td>49.0</td>\n",
       "      <td>36.758924</td>\n",
       "    </tr>\n",
       "    <tr>\n",
       "      <th>903835</th>\n",
       "      <td>87.0</td>\n",
       "      <td>31.210927</td>\n",
       "    </tr>\n",
       "    <tr>\n",
       "      <th>...</th>\n",
       "      <td>...</td>\n",
       "      <td>...</td>\n",
       "    </tr>\n",
       "    <tr>\n",
       "      <th>1250965</th>\n",
       "      <td>147.0</td>\n",
       "      <td>19.725233</td>\n",
       "    </tr>\n",
       "    <tr>\n",
       "      <th>1051615</th>\n",
       "      <td>95.0</td>\n",
       "      <td>55.848707</td>\n",
       "    </tr>\n",
       "    <tr>\n",
       "      <th>1728299</th>\n",
       "      <td>75.0</td>\n",
       "      <td>28.432752</td>\n",
       "    </tr>\n",
       "    <tr>\n",
       "      <th>282001</th>\n",
       "      <td>-1.0</td>\n",
       "      <td>33.766543</td>\n",
       "    </tr>\n",
       "    <tr>\n",
       "      <th>1486154</th>\n",
       "      <td>182.0</td>\n",
       "      <td>28.080297</td>\n",
       "    </tr>\n",
       "  </tbody>\n",
       "</table>\n",
       "<p>2000 rows × 2 columns</p>\n",
       "</div>"
      ],
      "text/plain": [
       "         Actual  Predicted\n",
       "1205104   152.0  29.792574\n",
       "615091     27.0  49.875975\n",
       "1317914    39.0  42.170540\n",
       "1737109    49.0  36.758924\n",
       "903835     87.0  31.210927\n",
       "...         ...        ...\n",
       "1250965   147.0  19.725233\n",
       "1051615    95.0  55.848707\n",
       "1728299    75.0  28.432752\n",
       "282001     -1.0  33.766543\n",
       "1486154   182.0  28.080297\n",
       "\n",
       "[2000 rows x 2 columns]"
      ]
     },
     "execution_count": 124,
     "metadata": {},
     "output_type": "execute_result"
    }
   ],
   "source": [
    "df_y_pred_mlr = pd.DataFrame({'Actual': y_test, 'Predicted': y_pred_mlr})\n",
    "df_y_pred_mlr"
   ]
  },
  {
   "cell_type": "markdown",
   "metadata": {},
   "source": [
    "<span style=color:green>Evaluating Algorithm</span>"
   ]
  },
  {
   "cell_type": "code",
   "execution_count": 125,
   "metadata": {
    "ExecuteTime": {
     "end_time": "2021-06-04T12:18:55.091118Z",
     "start_time": "2021-06-04T12:18:55.075124Z"
    }
   },
   "outputs": [
    {
     "name": "stdout",
     "output_type": "stream",
     "text": [
      "Mean Squared Error: 2659.975127797218\n"
     ]
    }
   ],
   "source": [
    "print('Mean Squared Error:', metrics.mean_squared_error(y_test, y_pred_mlr))"
   ]
  },
  {
   "cell_type": "markdown",
   "metadata": {},
   "source": [
    "<span style=color:green>*As expected, without considering other variables ('Origin' & 'Dest' for example), prediction are highly affected without considering main responsable factor ('DepDelay')*</span>"
   ]
  }
 ],
 "metadata": {
  "kernelspec": {
   "display_name": "Python 3",
   "language": "python",
   "name": "python3"
  },
  "language_info": {
   "codemirror_mode": {
    "name": "ipython",
    "version": 3
   },
   "file_extension": ".py",
   "mimetype": "text/x-python",
   "name": "python",
   "nbconvert_exporter": "python",
   "pygments_lexer": "ipython3",
   "version": "3.8.5"
  },
  "toc": {
   "base_numbering": 1,
   "nav_menu": {},
   "number_sections": true,
   "sideBar": true,
   "skip_h1_title": false,
   "title_cell": "Table of Contents",
   "title_sidebar": "Contents",
   "toc_cell": false,
   "toc_position": {},
   "toc_section_display": true,
   "toc_window_display": false
  }
 },
 "nbformat": 4,
 "nbformat_minor": 4
}
